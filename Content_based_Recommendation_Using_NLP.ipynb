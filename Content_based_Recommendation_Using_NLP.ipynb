{
  "nbformat": 4,
  "nbformat_minor": 0,
  "metadata": {
    "colab": {
      "provenance": [],
      "machine_shape": "hm",
      "gpuType": "T4"
    },
    "kernelspec": {
      "name": "python3",
      "display_name": "Python 3"
    },
    "language_info": {
      "name": "python"
    },
    "accelerator": "GPU"
  },
  "cells": [
    {
      "cell_type": "markdown",
      "source": [
        "## Imports"
      ],
      "metadata": {
        "id": "xHUG9dOnkoz9"
      }
    },
    {
      "cell_type": "code",
      "execution_count": 2,
      "metadata": {
        "colab": {
          "base_uri": "https://localhost:8080/"
        },
        "id": "I6Qn5sPHOoL0",
        "outputId": "6858a7ea-0e11-42b3-8057-19feb51c3086"
      },
      "outputs": [
        {
          "output_type": "stream",
          "name": "stdout",
          "text": [
            "Mounted at /content/drive\n"
          ]
        }
      ],
      "source": [
        "\n",
        "# RegEx and String Manipulation\n",
        "import re\n",
        "import string\n",
        "\n",
        "# Language Detection\n",
        "from nltk.classify.textcat import TextCat\n",
        "\n",
        "# Multiprocessing\n",
        "import dask.dataframe as dd\n",
        "import multiprocessing\n",
        "\n",
        "# BERT-Embeddings\n",
        "from keybert import KeyBERT\n",
        "\n",
        "# TF-IDF Vectorization\n",
        "from sklearn.feature_extraction.text import TfidfVectorizer\n",
        "\n",
        "# Plotting Heatmap of TF-IDF vectors\n",
        "import matplotlib.pyplot as plt\n",
        "import altair as alt\n",
        "alt.renderers.enable('mimetype')\n",
        "\n",
        "# Cosine Similarity\n",
        "from sklearn.metrics.pairwise import cosine_similarityfrom IPython.display import Image,display\n",
        "\n",
        "import os\n",
        "import glob\n",
        "import numpy as np # linear algebra\n",
        "import pandas as pd # data processing, CSV file I/O (e.g. pd.read_csv)\n",
        "from google.colab import drive\n",
        "drive.mount('/content/drive')"
      ]
    },
    {
      "cell_type": "code",
      "source": [
        "%%time\n",
        "book_rating = pd.read_csv(\"/content/drive/MyDrive/Datasets/Goodreads/book2000k-3000k.csv\")\n",
        "\n"
      ],
      "metadata": {
        "colab": {
          "base_uri": "https://localhost:8080/"
        },
        "id": "eP-LaxWZQCT2",
        "outputId": "cea38374-602f-4b4a-f5c5-d876af2e3825"
      },
      "execution_count": 12,
      "outputs": [
        {
          "output_type": "stream",
          "name": "stdout",
          "text": [
            "CPU times: user 3.91 s, sys: 395 ms, total: 4.3 s\n",
            "Wall time: 4.45 s\n"
          ]
        }
      ]
    },
    {
      "cell_type": "code",
      "source": [
        "book_rating.Language.value_counts()"
      ],
      "metadata": {
        "colab": {
          "base_uri": "https://localhost:8080/"
        },
        "id": "SXo8fsFZnbHi",
        "outputId": "c55e9224-ab3f-4e98-8057-bb6029c3bdb1"
      },
      "execution_count": 13,
      "outputs": [
        {
          "output_type": "execute_result",
          "data": {
            "text/plain": [
              "eng      27871\n",
              "fre       4662\n",
              "ger       2919\n",
              "en-US     2468\n",
              "spa       1628\n",
              "         ...  \n",
              "ypk          1\n",
              "epo          1\n",
              "cop          1\n",
              "hin          1\n",
              "lit          1\n",
              "Name: Language, Length: 73, dtype: int64"
            ]
          },
          "metadata": {},
          "execution_count": 13
        }
      ]
    },
    {
      "cell_type": "code",
      "source": [
        "book_rating = book_rating[(book_rating[\"Language\"] == \"eng\") | (book_rating[\"Language\"] == \"en-US\")]\n"
      ],
      "metadata": {
        "id": "RbgWqPtu-SH3"
      },
      "execution_count": 15,
      "outputs": []
    },
    {
      "cell_type": "code",
      "source": [
        "book_rating.shape"
      ],
      "metadata": {
        "colab": {
          "base_uri": "https://localhost:8080/"
        },
        "id": "H5mBw0n050IT",
        "outputId": "262a3f3d-13e6-4d86-b9b4-d9448fbefba0"
      },
      "execution_count": 16,
      "outputs": [
        {
          "output_type": "execute_result",
          "data": {
            "text/plain": [
              "(30339, 19)"
            ]
          },
          "metadata": {},
          "execution_count": 16
        }
      ]
    },
    {
      "cell_type": "code",
      "source": [
        "book_rating.head()"
      ],
      "metadata": {
        "colab": {
          "base_uri": "https://localhost:8080/",
          "height": 573
        },
        "id": "URMsycmQ6UgV",
        "outputId": "0275b26e-fd6b-44d9-c56e-ce5365d6b1aa"
      },
      "execution_count": 17,
      "outputs": [
        {
          "output_type": "execute_result",
          "data": {
            "text/plain": [
              "          Id                                               Name  \\\n",
              "11   2000045                    Strategic Operations Management   \n",
              "67   2000294                                 Bastard!!, Vol. 16   \n",
              "79   2000333        Daily Readings with Jean-Pierre de Caussade   \n",
              "88   2000356  Visible Bones: Journeys Across Time in the Col...   \n",
              "110  2000413        Mouryou Kiden: Legend of the Nymph, Vol. 03   \n",
              "\n",
              "                     Authors        ISBN  Rating  PublishYear  PublishMonth  \\\n",
              "11               Steve Brown  0750663197    4.00         2005             1   \n",
              "67          Kazushi Hagiwara  1421508796    3.86         2008             1   \n",
              "79   Jean-Pierre de Caussade  0872431452    4.50         1992             2   \n",
              "88               Jack Nisbet  1570615241    3.85         2007             4   \n",
              "110           Tamayo Akiyama  1595322477    2.83         2005             6   \n",
              "\n",
              "     PublishDay              Publisher RatingDist5 RatingDist4 RatingDist3  \\\n",
              "11            1  Butterworth-Heinemann         5:2         4:4         3:2   \n",
              "67            8          VIZ Media LLC        5:13        4:12         3:7   \n",
              "79            1  Templegate Publishers         5:1         4:1         3:0   \n",
              "88           10        Sasquatch Books        5:13        4:24        3:13   \n",
              "110           7               Tokyopop         5:3         4:3         3:7   \n",
              "\n",
              "    RatingDist2 RatingDist1 RatingDistTotal  CountsOfReview Language  \\\n",
              "11          2:0         1:0         total:8               0      eng   \n",
              "67          2:4         1:1        total:37               3      eng   \n",
              "79          2:0         1:0         total:2               1      eng   \n",
              "88          2:4         1:0        total:54               5      eng   \n",
              "110         2:9         1:2        total:24               1      eng   \n",
              "\n",
              "     PagesNumber                                        Description  \n",
              "11           420  Only when managers understand their operations...  \n",
              "67           184  While Dark Schneider's in hell chatting with S...  \n",
              "79            96                                                NaN  \n",
              "88           256  How can you know a place? Historian and natura...  \n",
              "110          208  When Ayaka finds Kai, everything is not as it ...  "
            ],
            "text/html": [
              "\n",
              "  <div id=\"df-dcaa0eaf-8ebf-494f-9b3e-5173a944d242\" class=\"colab-df-container\">\n",
              "    <div>\n",
              "<style scoped>\n",
              "    .dataframe tbody tr th:only-of-type {\n",
              "        vertical-align: middle;\n",
              "    }\n",
              "\n",
              "    .dataframe tbody tr th {\n",
              "        vertical-align: top;\n",
              "    }\n",
              "\n",
              "    .dataframe thead th {\n",
              "        text-align: right;\n",
              "    }\n",
              "</style>\n",
              "<table border=\"1\" class=\"dataframe\">\n",
              "  <thead>\n",
              "    <tr style=\"text-align: right;\">\n",
              "      <th></th>\n",
              "      <th>Id</th>\n",
              "      <th>Name</th>\n",
              "      <th>Authors</th>\n",
              "      <th>ISBN</th>\n",
              "      <th>Rating</th>\n",
              "      <th>PublishYear</th>\n",
              "      <th>PublishMonth</th>\n",
              "      <th>PublishDay</th>\n",
              "      <th>Publisher</th>\n",
              "      <th>RatingDist5</th>\n",
              "      <th>RatingDist4</th>\n",
              "      <th>RatingDist3</th>\n",
              "      <th>RatingDist2</th>\n",
              "      <th>RatingDist1</th>\n",
              "      <th>RatingDistTotal</th>\n",
              "      <th>CountsOfReview</th>\n",
              "      <th>Language</th>\n",
              "      <th>PagesNumber</th>\n",
              "      <th>Description</th>\n",
              "    </tr>\n",
              "  </thead>\n",
              "  <tbody>\n",
              "    <tr>\n",
              "      <th>11</th>\n",
              "      <td>2000045</td>\n",
              "      <td>Strategic Operations Management</td>\n",
              "      <td>Steve Brown</td>\n",
              "      <td>0750663197</td>\n",
              "      <td>4.00</td>\n",
              "      <td>2005</td>\n",
              "      <td>1</td>\n",
              "      <td>1</td>\n",
              "      <td>Butterworth-Heinemann</td>\n",
              "      <td>5:2</td>\n",
              "      <td>4:4</td>\n",
              "      <td>3:2</td>\n",
              "      <td>2:0</td>\n",
              "      <td>1:0</td>\n",
              "      <td>total:8</td>\n",
              "      <td>0</td>\n",
              "      <td>eng</td>\n",
              "      <td>420</td>\n",
              "      <td>Only when managers understand their operations...</td>\n",
              "    </tr>\n",
              "    <tr>\n",
              "      <th>67</th>\n",
              "      <td>2000294</td>\n",
              "      <td>Bastard!!, Vol. 16</td>\n",
              "      <td>Kazushi Hagiwara</td>\n",
              "      <td>1421508796</td>\n",
              "      <td>3.86</td>\n",
              "      <td>2008</td>\n",
              "      <td>1</td>\n",
              "      <td>8</td>\n",
              "      <td>VIZ Media LLC</td>\n",
              "      <td>5:13</td>\n",
              "      <td>4:12</td>\n",
              "      <td>3:7</td>\n",
              "      <td>2:4</td>\n",
              "      <td>1:1</td>\n",
              "      <td>total:37</td>\n",
              "      <td>3</td>\n",
              "      <td>eng</td>\n",
              "      <td>184</td>\n",
              "      <td>While Dark Schneider's in hell chatting with S...</td>\n",
              "    </tr>\n",
              "    <tr>\n",
              "      <th>79</th>\n",
              "      <td>2000333</td>\n",
              "      <td>Daily Readings with Jean-Pierre de Caussade</td>\n",
              "      <td>Jean-Pierre de Caussade</td>\n",
              "      <td>0872431452</td>\n",
              "      <td>4.50</td>\n",
              "      <td>1992</td>\n",
              "      <td>2</td>\n",
              "      <td>1</td>\n",
              "      <td>Templegate Publishers</td>\n",
              "      <td>5:1</td>\n",
              "      <td>4:1</td>\n",
              "      <td>3:0</td>\n",
              "      <td>2:0</td>\n",
              "      <td>1:0</td>\n",
              "      <td>total:2</td>\n",
              "      <td>1</td>\n",
              "      <td>eng</td>\n",
              "      <td>96</td>\n",
              "      <td>NaN</td>\n",
              "    </tr>\n",
              "    <tr>\n",
              "      <th>88</th>\n",
              "      <td>2000356</td>\n",
              "      <td>Visible Bones: Journeys Across Time in the Col...</td>\n",
              "      <td>Jack Nisbet</td>\n",
              "      <td>1570615241</td>\n",
              "      <td>3.85</td>\n",
              "      <td>2007</td>\n",
              "      <td>4</td>\n",
              "      <td>10</td>\n",
              "      <td>Sasquatch Books</td>\n",
              "      <td>5:13</td>\n",
              "      <td>4:24</td>\n",
              "      <td>3:13</td>\n",
              "      <td>2:4</td>\n",
              "      <td>1:0</td>\n",
              "      <td>total:54</td>\n",
              "      <td>5</td>\n",
              "      <td>eng</td>\n",
              "      <td>256</td>\n",
              "      <td>How can you know a place? Historian and natura...</td>\n",
              "    </tr>\n",
              "    <tr>\n",
              "      <th>110</th>\n",
              "      <td>2000413</td>\n",
              "      <td>Mouryou Kiden: Legend of the Nymph, Vol. 03</td>\n",
              "      <td>Tamayo Akiyama</td>\n",
              "      <td>1595322477</td>\n",
              "      <td>2.83</td>\n",
              "      <td>2005</td>\n",
              "      <td>6</td>\n",
              "      <td>7</td>\n",
              "      <td>Tokyopop</td>\n",
              "      <td>5:3</td>\n",
              "      <td>4:3</td>\n",
              "      <td>3:7</td>\n",
              "      <td>2:9</td>\n",
              "      <td>1:2</td>\n",
              "      <td>total:24</td>\n",
              "      <td>1</td>\n",
              "      <td>eng</td>\n",
              "      <td>208</td>\n",
              "      <td>When Ayaka finds Kai, everything is not as it ...</td>\n",
              "    </tr>\n",
              "  </tbody>\n",
              "</table>\n",
              "</div>\n",
              "    <div class=\"colab-df-buttons\">\n",
              "\n",
              "  <div class=\"colab-df-container\">\n",
              "    <button class=\"colab-df-convert\" onclick=\"convertToInteractive('df-dcaa0eaf-8ebf-494f-9b3e-5173a944d242')\"\n",
              "            title=\"Convert this dataframe to an interactive table.\"\n",
              "            style=\"display:none;\">\n",
              "\n",
              "  <svg xmlns=\"http://www.w3.org/2000/svg\" height=\"24px\" viewBox=\"0 -960 960 960\">\n",
              "    <path d=\"M120-120v-720h720v720H120Zm60-500h600v-160H180v160Zm220 220h160v-160H400v160Zm0 220h160v-160H400v160ZM180-400h160v-160H180v160Zm440 0h160v-160H620v160ZM180-180h160v-160H180v160Zm440 0h160v-160H620v160Z\"/>\n",
              "  </svg>\n",
              "    </button>\n",
              "\n",
              "  <style>\n",
              "    .colab-df-container {\n",
              "      display:flex;\n",
              "      gap: 12px;\n",
              "    }\n",
              "\n",
              "    .colab-df-convert {\n",
              "      background-color: #E8F0FE;\n",
              "      border: none;\n",
              "      border-radius: 50%;\n",
              "      cursor: pointer;\n",
              "      display: none;\n",
              "      fill: #1967D2;\n",
              "      height: 32px;\n",
              "      padding: 0 0 0 0;\n",
              "      width: 32px;\n",
              "    }\n",
              "\n",
              "    .colab-df-convert:hover {\n",
              "      background-color: #E2EBFA;\n",
              "      box-shadow: 0px 1px 2px rgba(60, 64, 67, 0.3), 0px 1px 3px 1px rgba(60, 64, 67, 0.15);\n",
              "      fill: #174EA6;\n",
              "    }\n",
              "\n",
              "    .colab-df-buttons div {\n",
              "      margin-bottom: 4px;\n",
              "    }\n",
              "\n",
              "    [theme=dark] .colab-df-convert {\n",
              "      background-color: #3B4455;\n",
              "      fill: #D2E3FC;\n",
              "    }\n",
              "\n",
              "    [theme=dark] .colab-df-convert:hover {\n",
              "      background-color: #434B5C;\n",
              "      box-shadow: 0px 1px 3px 1px rgba(0, 0, 0, 0.15);\n",
              "      filter: drop-shadow(0px 1px 2px rgba(0, 0, 0, 0.3));\n",
              "      fill: #FFFFFF;\n",
              "    }\n",
              "  </style>\n",
              "\n",
              "    <script>\n",
              "      const buttonEl =\n",
              "        document.querySelector('#df-dcaa0eaf-8ebf-494f-9b3e-5173a944d242 button.colab-df-convert');\n",
              "      buttonEl.style.display =\n",
              "        google.colab.kernel.accessAllowed ? 'block' : 'none';\n",
              "\n",
              "      async function convertToInteractive(key) {\n",
              "        const element = document.querySelector('#df-dcaa0eaf-8ebf-494f-9b3e-5173a944d242');\n",
              "        const dataTable =\n",
              "          await google.colab.kernel.invokeFunction('convertToInteractive',\n",
              "                                                    [key], {});\n",
              "        if (!dataTable) return;\n",
              "\n",
              "        const docLinkHtml = 'Like what you see? Visit the ' +\n",
              "          '<a target=\"_blank\" href=https://colab.research.google.com/notebooks/data_table.ipynb>data table notebook</a>'\n",
              "          + ' to learn more about interactive tables.';\n",
              "        element.innerHTML = '';\n",
              "        dataTable['output_type'] = 'display_data';\n",
              "        await google.colab.output.renderOutput(dataTable, element);\n",
              "        const docLink = document.createElement('div');\n",
              "        docLink.innerHTML = docLinkHtml;\n",
              "        element.appendChild(docLink);\n",
              "      }\n",
              "    </script>\n",
              "  </div>\n",
              "\n",
              "\n",
              "<div id=\"df-a5131b72-d1a2-4c7a-8d4d-818ad996602c\">\n",
              "  <button class=\"colab-df-quickchart\" onclick=\"quickchart('df-a5131b72-d1a2-4c7a-8d4d-818ad996602c')\"\n",
              "            title=\"Suggest charts.\"\n",
              "            style=\"display:none;\">\n",
              "\n",
              "<svg xmlns=\"http://www.w3.org/2000/svg\" height=\"24px\"viewBox=\"0 0 24 24\"\n",
              "     width=\"24px\">\n",
              "    <g>\n",
              "        <path d=\"M19 3H5c-1.1 0-2 .9-2 2v14c0 1.1.9 2 2 2h14c1.1 0 2-.9 2-2V5c0-1.1-.9-2-2-2zM9 17H7v-7h2v7zm4 0h-2V7h2v10zm4 0h-2v-4h2v4z\"/>\n",
              "    </g>\n",
              "</svg>\n",
              "  </button>\n",
              "\n",
              "<style>\n",
              "  .colab-df-quickchart {\n",
              "    background-color: #E8F0FE;\n",
              "    border: none;\n",
              "    border-radius: 50%;\n",
              "    cursor: pointer;\n",
              "    display: none;\n",
              "    fill: #1967D2;\n",
              "    height: 32px;\n",
              "    padding: 0 0 0 0;\n",
              "    width: 32px;\n",
              "  }\n",
              "\n",
              "  .colab-df-quickchart:hover {\n",
              "    background-color: #E2EBFA;\n",
              "    box-shadow: 0px 1px 2px rgba(60, 64, 67, 0.3), 0px 1px 3px 1px rgba(60, 64, 67, 0.15);\n",
              "    fill: #174EA6;\n",
              "  }\n",
              "\n",
              "  [theme=dark] .colab-df-quickchart {\n",
              "    background-color: #3B4455;\n",
              "    fill: #D2E3FC;\n",
              "  }\n",
              "\n",
              "  [theme=dark] .colab-df-quickchart:hover {\n",
              "    background-color: #434B5C;\n",
              "    box-shadow: 0px 1px 3px 1px rgba(0, 0, 0, 0.15);\n",
              "    filter: drop-shadow(0px 1px 2px rgba(0, 0, 0, 0.3));\n",
              "    fill: #FFFFFF;\n",
              "  }\n",
              "</style>\n",
              "\n",
              "  <script>\n",
              "    async function quickchart(key) {\n",
              "      const charts = await google.colab.kernel.invokeFunction(\n",
              "          'suggestCharts', [key], {});\n",
              "    }\n",
              "    (() => {\n",
              "      let quickchartButtonEl =\n",
              "        document.querySelector('#df-a5131b72-d1a2-4c7a-8d4d-818ad996602c button');\n",
              "      quickchartButtonEl.style.display =\n",
              "        google.colab.kernel.accessAllowed ? 'block' : 'none';\n",
              "    })();\n",
              "  </script>\n",
              "</div>\n",
              "    </div>\n",
              "  </div>\n"
            ]
          },
          "metadata": {},
          "execution_count": 17
        }
      ]
    },
    {
      "cell_type": "code",
      "source": [
        "# Only keep columns we need\n",
        "eda_data = book_rating[['Id', 'Name', 'Authors', 'ISBN', 'PublishYear', 'Publisher', 'Language', 'Description']].copy()\n",
        "eda_data.head()"
      ],
      "metadata": {
        "colab": {
          "base_uri": "https://localhost:8080/",
          "height": 206
        },
        "id": "M2UugsUF6lRI",
        "outputId": "00691ee0-7457-4ef7-eac3-107fe09d8993"
      },
      "execution_count": 73,
      "outputs": [
        {
          "output_type": "execute_result",
          "data": {
            "text/plain": [
              "        Id                                               Name  \\\n",
              "0  2427424  Raising Standards or Raising Barriers?: Inequa...   \n",
              "1  2635062                      The Scarlet Letter: A Romance   \n",
              "2  2758867  Taking Glasnost Seriously: Toward an Open Sovi...   \n",
              "3  2252829                                          Caliphate   \n",
              "4  2199595  Ali Baba: Fooling the Forty Thieves: An Arabia...   \n",
              "\n",
              "               Authors        ISBN  PublishYear                 Publisher  \\\n",
              "0         Gary Orfield  087078451X         2001  Century Foundation Press   \n",
              "1  Nathaniel Hawthorne  0140862072         1995        Penguin Audiobooks   \n",
              "2        Michael Novak  0844736422         1988                 AEI Press   \n",
              "3          Tom Kratman  1416555455         2008                      Baen   \n",
              "4      Marie P. Croall  0822575256         2008          Graphic Universe   \n",
              "\n",
              "  Language                                        Description  \n",
              "0      NaN  More and more states require students to pass ...  \n",
              "1      NaN  A story of love, guilt, sin and redemption pla...  \n",
              "2      eng  This book examines the Soviet Union and the gr...  \n",
              "3      NaN  Demography is destiny. In the 22nd century Eur...  \n",
              "4      NaN  This graphic novel tells a classic tale from A...  "
            ],
            "text/html": [
              "\n",
              "  <div id=\"df-10cf38cf-6e19-464e-814b-dd489a793c39\" class=\"colab-df-container\">\n",
              "    <div>\n",
              "<style scoped>\n",
              "    .dataframe tbody tr th:only-of-type {\n",
              "        vertical-align: middle;\n",
              "    }\n",
              "\n",
              "    .dataframe tbody tr th {\n",
              "        vertical-align: top;\n",
              "    }\n",
              "\n",
              "    .dataframe thead th {\n",
              "        text-align: right;\n",
              "    }\n",
              "</style>\n",
              "<table border=\"1\" class=\"dataframe\">\n",
              "  <thead>\n",
              "    <tr style=\"text-align: right;\">\n",
              "      <th></th>\n",
              "      <th>Id</th>\n",
              "      <th>Name</th>\n",
              "      <th>Authors</th>\n",
              "      <th>ISBN</th>\n",
              "      <th>PublishYear</th>\n",
              "      <th>Publisher</th>\n",
              "      <th>Language</th>\n",
              "      <th>Description</th>\n",
              "    </tr>\n",
              "  </thead>\n",
              "  <tbody>\n",
              "    <tr>\n",
              "      <th>0</th>\n",
              "      <td>2427424</td>\n",
              "      <td>Raising Standards or Raising Barriers?: Inequa...</td>\n",
              "      <td>Gary Orfield</td>\n",
              "      <td>087078451X</td>\n",
              "      <td>2001</td>\n",
              "      <td>Century Foundation Press</td>\n",
              "      <td>NaN</td>\n",
              "      <td>More and more states require students to pass ...</td>\n",
              "    </tr>\n",
              "    <tr>\n",
              "      <th>1</th>\n",
              "      <td>2635062</td>\n",
              "      <td>The Scarlet Letter: A Romance</td>\n",
              "      <td>Nathaniel Hawthorne</td>\n",
              "      <td>0140862072</td>\n",
              "      <td>1995</td>\n",
              "      <td>Penguin Audiobooks</td>\n",
              "      <td>NaN</td>\n",
              "      <td>A story of love, guilt, sin and redemption pla...</td>\n",
              "    </tr>\n",
              "    <tr>\n",
              "      <th>2</th>\n",
              "      <td>2758867</td>\n",
              "      <td>Taking Glasnost Seriously: Toward an Open Sovi...</td>\n",
              "      <td>Michael Novak</td>\n",
              "      <td>0844736422</td>\n",
              "      <td>1988</td>\n",
              "      <td>AEI Press</td>\n",
              "      <td>eng</td>\n",
              "      <td>This book examines the Soviet Union and the gr...</td>\n",
              "    </tr>\n",
              "    <tr>\n",
              "      <th>3</th>\n",
              "      <td>2252829</td>\n",
              "      <td>Caliphate</td>\n",
              "      <td>Tom Kratman</td>\n",
              "      <td>1416555455</td>\n",
              "      <td>2008</td>\n",
              "      <td>Baen</td>\n",
              "      <td>NaN</td>\n",
              "      <td>Demography is destiny. In the 22nd century Eur...</td>\n",
              "    </tr>\n",
              "    <tr>\n",
              "      <th>4</th>\n",
              "      <td>2199595</td>\n",
              "      <td>Ali Baba: Fooling the Forty Thieves: An Arabia...</td>\n",
              "      <td>Marie P. Croall</td>\n",
              "      <td>0822575256</td>\n",
              "      <td>2008</td>\n",
              "      <td>Graphic Universe</td>\n",
              "      <td>NaN</td>\n",
              "      <td>This graphic novel tells a classic tale from A...</td>\n",
              "    </tr>\n",
              "  </tbody>\n",
              "</table>\n",
              "</div>\n",
              "    <div class=\"colab-df-buttons\">\n",
              "\n",
              "  <div class=\"colab-df-container\">\n",
              "    <button class=\"colab-df-convert\" onclick=\"convertToInteractive('df-10cf38cf-6e19-464e-814b-dd489a793c39')\"\n",
              "            title=\"Convert this dataframe to an interactive table.\"\n",
              "            style=\"display:none;\">\n",
              "\n",
              "  <svg xmlns=\"http://www.w3.org/2000/svg\" height=\"24px\" viewBox=\"0 -960 960 960\">\n",
              "    <path d=\"M120-120v-720h720v720H120Zm60-500h600v-160H180v160Zm220 220h160v-160H400v160Zm0 220h160v-160H400v160ZM180-400h160v-160H180v160Zm440 0h160v-160H620v160ZM180-180h160v-160H180v160Zm440 0h160v-160H620v160Z\"/>\n",
              "  </svg>\n",
              "    </button>\n",
              "\n",
              "  <style>\n",
              "    .colab-df-container {\n",
              "      display:flex;\n",
              "      gap: 12px;\n",
              "    }\n",
              "\n",
              "    .colab-df-convert {\n",
              "      background-color: #E8F0FE;\n",
              "      border: none;\n",
              "      border-radius: 50%;\n",
              "      cursor: pointer;\n",
              "      display: none;\n",
              "      fill: #1967D2;\n",
              "      height: 32px;\n",
              "      padding: 0 0 0 0;\n",
              "      width: 32px;\n",
              "    }\n",
              "\n",
              "    .colab-df-convert:hover {\n",
              "      background-color: #E2EBFA;\n",
              "      box-shadow: 0px 1px 2px rgba(60, 64, 67, 0.3), 0px 1px 3px 1px rgba(60, 64, 67, 0.15);\n",
              "      fill: #174EA6;\n",
              "    }\n",
              "\n",
              "    .colab-df-buttons div {\n",
              "      margin-bottom: 4px;\n",
              "    }\n",
              "\n",
              "    [theme=dark] .colab-df-convert {\n",
              "      background-color: #3B4455;\n",
              "      fill: #D2E3FC;\n",
              "    }\n",
              "\n",
              "    [theme=dark] .colab-df-convert:hover {\n",
              "      background-color: #434B5C;\n",
              "      box-shadow: 0px 1px 3px 1px rgba(0, 0, 0, 0.15);\n",
              "      filter: drop-shadow(0px 1px 2px rgba(0, 0, 0, 0.3));\n",
              "      fill: #FFFFFF;\n",
              "    }\n",
              "  </style>\n",
              "\n",
              "    <script>\n",
              "      const buttonEl =\n",
              "        document.querySelector('#df-10cf38cf-6e19-464e-814b-dd489a793c39 button.colab-df-convert');\n",
              "      buttonEl.style.display =\n",
              "        google.colab.kernel.accessAllowed ? 'block' : 'none';\n",
              "\n",
              "      async function convertToInteractive(key) {\n",
              "        const element = document.querySelector('#df-10cf38cf-6e19-464e-814b-dd489a793c39');\n",
              "        const dataTable =\n",
              "          await google.colab.kernel.invokeFunction('convertToInteractive',\n",
              "                                                    [key], {});\n",
              "        if (!dataTable) return;\n",
              "\n",
              "        const docLinkHtml = 'Like what you see? Visit the ' +\n",
              "          '<a target=\"_blank\" href=https://colab.research.google.com/notebooks/data_table.ipynb>data table notebook</a>'\n",
              "          + ' to learn more about interactive tables.';\n",
              "        element.innerHTML = '';\n",
              "        dataTable['output_type'] = 'display_data';\n",
              "        await google.colab.output.renderOutput(dataTable, element);\n",
              "        const docLink = document.createElement('div');\n",
              "        docLink.innerHTML = docLinkHtml;\n",
              "        element.appendChild(docLink);\n",
              "      }\n",
              "    </script>\n",
              "  </div>\n",
              "\n",
              "\n",
              "<div id=\"df-53fad051-73df-4d66-a3b8-8a7d274be2b3\">\n",
              "  <button class=\"colab-df-quickchart\" onclick=\"quickchart('df-53fad051-73df-4d66-a3b8-8a7d274be2b3')\"\n",
              "            title=\"Suggest charts.\"\n",
              "            style=\"display:none;\">\n",
              "\n",
              "<svg xmlns=\"http://www.w3.org/2000/svg\" height=\"24px\"viewBox=\"0 0 24 24\"\n",
              "     width=\"24px\">\n",
              "    <g>\n",
              "        <path d=\"M19 3H5c-1.1 0-2 .9-2 2v14c0 1.1.9 2 2 2h14c1.1 0 2-.9 2-2V5c0-1.1-.9-2-2-2zM9 17H7v-7h2v7zm4 0h-2V7h2v10zm4 0h-2v-4h2v4z\"/>\n",
              "    </g>\n",
              "</svg>\n",
              "  </button>\n",
              "\n",
              "<style>\n",
              "  .colab-df-quickchart {\n",
              "    background-color: #E8F0FE;\n",
              "    border: none;\n",
              "    border-radius: 50%;\n",
              "    cursor: pointer;\n",
              "    display: none;\n",
              "    fill: #1967D2;\n",
              "    height: 32px;\n",
              "    padding: 0 0 0 0;\n",
              "    width: 32px;\n",
              "  }\n",
              "\n",
              "  .colab-df-quickchart:hover {\n",
              "    background-color: #E2EBFA;\n",
              "    box-shadow: 0px 1px 2px rgba(60, 64, 67, 0.3), 0px 1px 3px 1px rgba(60, 64, 67, 0.15);\n",
              "    fill: #174EA6;\n",
              "  }\n",
              "\n",
              "  [theme=dark] .colab-df-quickchart {\n",
              "    background-color: #3B4455;\n",
              "    fill: #D2E3FC;\n",
              "  }\n",
              "\n",
              "  [theme=dark] .colab-df-quickchart:hover {\n",
              "    background-color: #434B5C;\n",
              "    box-shadow: 0px 1px 3px 1px rgba(0, 0, 0, 0.15);\n",
              "    filter: drop-shadow(0px 1px 2px rgba(0, 0, 0, 0.3));\n",
              "    fill: #FFFFFF;\n",
              "  }\n",
              "</style>\n",
              "\n",
              "  <script>\n",
              "    async function quickchart(key) {\n",
              "      const charts = await google.colab.kernel.invokeFunction(\n",
              "          'suggestCharts', [key], {});\n",
              "    }\n",
              "    (() => {\n",
              "      let quickchartButtonEl =\n",
              "        document.querySelector('#df-53fad051-73df-4d66-a3b8-8a7d274be2b3 button');\n",
              "      quickchartButtonEl.style.display =\n",
              "        google.colab.kernel.accessAllowed ? 'block' : 'none';\n",
              "    })();\n",
              "  </script>\n",
              "</div>\n",
              "    </div>\n",
              "  </div>\n"
            ]
          },
          "metadata": {},
          "execution_count": 73
        }
      ]
    },
    {
      "cell_type": "code",
      "source": [
        "!pip install keybert altair"
      ],
      "metadata": {
        "colab": {
          "base_uri": "https://localhost:8080/"
        },
        "id": "r8DROcqGQ4T8",
        "outputId": "1d0431f5-09e6-43cc-ece7-d42ca31db7a6"
      },
      "execution_count": 74,
      "outputs": [
        {
          "output_type": "stream",
          "name": "stdout",
          "text": [
            "Requirement already satisfied: keybert in /usr/local/lib/python3.10/dist-packages (0.7.0)\n",
            "Requirement already satisfied: altair in /usr/local/lib/python3.10/dist-packages (4.2.2)\n",
            "Requirement already satisfied: sentence-transformers>=0.3.8 in /usr/local/lib/python3.10/dist-packages (from keybert) (2.2.2)\n",
            "Requirement already satisfied: scikit-learn>=0.22.2 in /usr/local/lib/python3.10/dist-packages (from keybert) (1.2.2)\n",
            "Requirement already satisfied: numpy>=1.18.5 in /usr/local/lib/python3.10/dist-packages (from keybert) (1.23.5)\n",
            "Requirement already satisfied: rich>=10.4.0 in /usr/local/lib/python3.10/dist-packages (from keybert) (13.5.2)\n",
            "Requirement already satisfied: entrypoints in /usr/local/lib/python3.10/dist-packages (from altair) (0.4)\n",
            "Requirement already satisfied: jinja2 in /usr/local/lib/python3.10/dist-packages (from altair) (3.1.2)\n",
            "Requirement already satisfied: jsonschema>=3.0 in /usr/local/lib/python3.10/dist-packages (from altair) (4.19.0)\n",
            "Requirement already satisfied: pandas>=0.18 in /usr/local/lib/python3.10/dist-packages (from altair) (1.5.3)\n",
            "Requirement already satisfied: toolz in /usr/local/lib/python3.10/dist-packages (from altair) (0.12.0)\n",
            "Requirement already satisfied: attrs>=22.2.0 in /usr/local/lib/python3.10/dist-packages (from jsonschema>=3.0->altair) (23.1.0)\n",
            "Requirement already satisfied: jsonschema-specifications>=2023.03.6 in /usr/local/lib/python3.10/dist-packages (from jsonschema>=3.0->altair) (2023.7.1)\n",
            "Requirement already satisfied: referencing>=0.28.4 in /usr/local/lib/python3.10/dist-packages (from jsonschema>=3.0->altair) (0.30.2)\n",
            "Requirement already satisfied: rpds-py>=0.7.1 in /usr/local/lib/python3.10/dist-packages (from jsonschema>=3.0->altair) (0.9.2)\n",
            "Requirement already satisfied: python-dateutil>=2.8.1 in /usr/local/lib/python3.10/dist-packages (from pandas>=0.18->altair) (2.8.2)\n",
            "Requirement already satisfied: pytz>=2020.1 in /usr/local/lib/python3.10/dist-packages (from pandas>=0.18->altair) (2023.3)\n",
            "Requirement already satisfied: markdown-it-py>=2.2.0 in /usr/local/lib/python3.10/dist-packages (from rich>=10.4.0->keybert) (3.0.0)\n",
            "Requirement already satisfied: pygments<3.0.0,>=2.13.0 in /usr/local/lib/python3.10/dist-packages (from rich>=10.4.0->keybert) (2.16.1)\n",
            "Requirement already satisfied: scipy>=1.3.2 in /usr/local/lib/python3.10/dist-packages (from scikit-learn>=0.22.2->keybert) (1.10.1)\n",
            "Requirement already satisfied: joblib>=1.1.1 in /usr/local/lib/python3.10/dist-packages (from scikit-learn>=0.22.2->keybert) (1.3.2)\n",
            "Requirement already satisfied: threadpoolctl>=2.0.0 in /usr/local/lib/python3.10/dist-packages (from scikit-learn>=0.22.2->keybert) (3.2.0)\n",
            "Requirement already satisfied: transformers<5.0.0,>=4.6.0 in /usr/local/lib/python3.10/dist-packages (from sentence-transformers>=0.3.8->keybert) (4.32.0)\n",
            "Requirement already satisfied: tqdm in /usr/local/lib/python3.10/dist-packages (from sentence-transformers>=0.3.8->keybert) (4.66.1)\n",
            "Requirement already satisfied: torch>=1.6.0 in /usr/local/lib/python3.10/dist-packages (from sentence-transformers>=0.3.8->keybert) (2.0.1+cu118)\n",
            "Requirement already satisfied: torchvision in /usr/local/lib/python3.10/dist-packages (from sentence-transformers>=0.3.8->keybert) (0.15.2+cu118)\n",
            "Requirement already satisfied: nltk in /usr/local/lib/python3.10/dist-packages (from sentence-transformers>=0.3.8->keybert) (3.8.1)\n",
            "Requirement already satisfied: sentencepiece in /usr/local/lib/python3.10/dist-packages (from sentence-transformers>=0.3.8->keybert) (0.1.99)\n",
            "Requirement already satisfied: huggingface-hub>=0.4.0 in /usr/local/lib/python3.10/dist-packages (from sentence-transformers>=0.3.8->keybert) (0.16.4)\n",
            "Requirement already satisfied: MarkupSafe>=2.0 in /usr/local/lib/python3.10/dist-packages (from jinja2->altair) (2.1.3)\n",
            "Requirement already satisfied: filelock in /usr/local/lib/python3.10/dist-packages (from huggingface-hub>=0.4.0->sentence-transformers>=0.3.8->keybert) (3.12.2)\n",
            "Requirement already satisfied: fsspec in /usr/local/lib/python3.10/dist-packages (from huggingface-hub>=0.4.0->sentence-transformers>=0.3.8->keybert) (2023.6.0)\n",
            "Requirement already satisfied: requests in /usr/local/lib/python3.10/dist-packages (from huggingface-hub>=0.4.0->sentence-transformers>=0.3.8->keybert) (2.31.0)\n",
            "Requirement already satisfied: pyyaml>=5.1 in /usr/local/lib/python3.10/dist-packages (from huggingface-hub>=0.4.0->sentence-transformers>=0.3.8->keybert) (6.0.1)\n",
            "Requirement already satisfied: typing-extensions>=3.7.4.3 in /usr/local/lib/python3.10/dist-packages (from huggingface-hub>=0.4.0->sentence-transformers>=0.3.8->keybert) (4.7.1)\n",
            "Requirement already satisfied: packaging>=20.9 in /usr/local/lib/python3.10/dist-packages (from huggingface-hub>=0.4.0->sentence-transformers>=0.3.8->keybert) (23.1)\n",
            "Requirement already satisfied: mdurl~=0.1 in /usr/local/lib/python3.10/dist-packages (from markdown-it-py>=2.2.0->rich>=10.4.0->keybert) (0.1.2)\n",
            "Requirement already satisfied: six>=1.5 in /usr/local/lib/python3.10/dist-packages (from python-dateutil>=2.8.1->pandas>=0.18->altair) (1.16.0)\n",
            "Requirement already satisfied: sympy in /usr/local/lib/python3.10/dist-packages (from torch>=1.6.0->sentence-transformers>=0.3.8->keybert) (1.12)\n",
            "Requirement already satisfied: networkx in /usr/local/lib/python3.10/dist-packages (from torch>=1.6.0->sentence-transformers>=0.3.8->keybert) (3.1)\n",
            "Requirement already satisfied: triton==2.0.0 in /usr/local/lib/python3.10/dist-packages (from torch>=1.6.0->sentence-transformers>=0.3.8->keybert) (2.0.0)\n",
            "Requirement already satisfied: cmake in /usr/local/lib/python3.10/dist-packages (from triton==2.0.0->torch>=1.6.0->sentence-transformers>=0.3.8->keybert) (3.27.2)\n",
            "Requirement already satisfied: lit in /usr/local/lib/python3.10/dist-packages (from triton==2.0.0->torch>=1.6.0->sentence-transformers>=0.3.8->keybert) (16.0.6)\n",
            "Requirement already satisfied: regex!=2019.12.17 in /usr/local/lib/python3.10/dist-packages (from transformers<5.0.0,>=4.6.0->sentence-transformers>=0.3.8->keybert) (2023.6.3)\n",
            "Requirement already satisfied: tokenizers!=0.11.3,<0.14,>=0.11.1 in /usr/local/lib/python3.10/dist-packages (from transformers<5.0.0,>=4.6.0->sentence-transformers>=0.3.8->keybert) (0.13.3)\n",
            "Requirement already satisfied: safetensors>=0.3.1 in /usr/local/lib/python3.10/dist-packages (from transformers<5.0.0,>=4.6.0->sentence-transformers>=0.3.8->keybert) (0.3.3)\n",
            "Requirement already satisfied: click in /usr/local/lib/python3.10/dist-packages (from nltk->sentence-transformers>=0.3.8->keybert) (8.1.7)\n",
            "Requirement already satisfied: pillow!=8.3.*,>=5.3.0 in /usr/local/lib/python3.10/dist-packages (from torchvision->sentence-transformers>=0.3.8->keybert) (9.4.0)\n",
            "Requirement already satisfied: charset-normalizer<4,>=2 in /usr/local/lib/python3.10/dist-packages (from requests->huggingface-hub>=0.4.0->sentence-transformers>=0.3.8->keybert) (3.2.0)\n",
            "Requirement already satisfied: idna<4,>=2.5 in /usr/local/lib/python3.10/dist-packages (from requests->huggingface-hub>=0.4.0->sentence-transformers>=0.3.8->keybert) (3.4)\n",
            "Requirement already satisfied: urllib3<3,>=1.21.1 in /usr/local/lib/python3.10/dist-packages (from requests->huggingface-hub>=0.4.0->sentence-transformers>=0.3.8->keybert) (2.0.4)\n",
            "Requirement already satisfied: certifi>=2017.4.17 in /usr/local/lib/python3.10/dist-packages (from requests->huggingface-hub>=0.4.0->sentence-transformers>=0.3.8->keybert) (2023.7.22)\n",
            "Requirement already satisfied: mpmath>=0.19 in /usr/local/lib/python3.10/dist-packages (from sympy->torch>=1.6.0->sentence-transformers>=0.3.8->keybert) (1.3.0)\n"
          ]
        }
      ]
    },
    {
      "cell_type": "code",
      "source": [],
      "metadata": {
        "id": "oD5ovYTcQiHb"
      },
      "execution_count": 75,
      "outputs": []
    },
    {
      "cell_type": "code",
      "source": [
        "# Minimum number of words that should be present in a description (value starting from 1)\n",
        "min_description_word_count = 3"
      ],
      "metadata": {
        "id": "U4QbE5AqQ16a"
      },
      "execution_count": 9,
      "outputs": []
    },
    {
      "cell_type": "code",
      "source": [
        "book_rating.columns"
      ],
      "metadata": {
        "colab": {
          "base_uri": "https://localhost:8080/"
        },
        "id": "T-f5a3ovRwJD",
        "outputId": "e0733862-2091-4ac3-cbeb-7be3b05703c9"
      },
      "execution_count": 76,
      "outputs": [
        {
          "output_type": "execute_result",
          "data": {
            "text/plain": [
              "Index(['Id', 'Name', 'Authors', 'ISBN', 'Rating', 'PublishYear',\n",
              "       'PublishMonth', 'PublishDay', 'Publisher', 'RatingDist5', 'RatingDist4',\n",
              "       'RatingDist3', 'RatingDist2', 'RatingDist1', 'RatingDistTotal',\n",
              "       'CountsOfReview', 'Language', 'PagesNumber', 'Description'],\n",
              "      dtype='object')"
            ]
          },
          "metadata": {},
          "execution_count": 76
        }
      ]
    },
    {
      "cell_type": "code",
      "source": [
        "books_data = book_rating[['Id', 'Name', 'Authors', 'ISBN', 'PublishYear', 'Publisher', 'Language', 'Description']].copy(deep=True)\n",
        "display(books_data.shape)\n",
        "books_data.head(5)"
      ],
      "metadata": {
        "colab": {
          "base_uri": "https://localhost:8080/",
          "height": 223
        },
        "id": "2DoZIHkwRiH0",
        "outputId": "5572dde4-3ffb-48b6-960c-59fdc98e72cd"
      },
      "execution_count": 77,
      "outputs": [
        {
          "output_type": "display_data",
          "data": {
            "text/plain": [
              "(10000, 8)"
            ]
          },
          "metadata": {}
        },
        {
          "output_type": "execute_result",
          "data": {
            "text/plain": [
              "        Id                                               Name  \\\n",
              "0  2427424  Raising Standards or Raising Barriers?: Inequa...   \n",
              "1  2635062                      The Scarlet Letter: A Romance   \n",
              "2  2758867  Taking Glasnost Seriously: Toward an Open Sovi...   \n",
              "3  2252829                                          Caliphate   \n",
              "4  2199595  Ali Baba: Fooling the Forty Thieves: An Arabia...   \n",
              "\n",
              "               Authors        ISBN  PublishYear                 Publisher  \\\n",
              "0         Gary Orfield  087078451X         2001  Century Foundation Press   \n",
              "1  Nathaniel Hawthorne  0140862072         1995        Penguin Audiobooks   \n",
              "2        Michael Novak  0844736422         1988                 AEI Press   \n",
              "3          Tom Kratman  1416555455         2008                      Baen   \n",
              "4      Marie P. Croall  0822575256         2008          Graphic Universe   \n",
              "\n",
              "  Language                                        Description  \n",
              "0      NaN  More and more states require students to pass ...  \n",
              "1      NaN  A story of love, guilt, sin and redemption pla...  \n",
              "2      eng  This book examines the Soviet Union and the gr...  \n",
              "3      NaN  Demography is destiny. In the 22nd century Eur...  \n",
              "4      NaN  This graphic novel tells a classic tale from A...  "
            ],
            "text/html": [
              "\n",
              "  <div id=\"df-54f38c33-4985-4011-b87c-8283358f543f\" class=\"colab-df-container\">\n",
              "    <div>\n",
              "<style scoped>\n",
              "    .dataframe tbody tr th:only-of-type {\n",
              "        vertical-align: middle;\n",
              "    }\n",
              "\n",
              "    .dataframe tbody tr th {\n",
              "        vertical-align: top;\n",
              "    }\n",
              "\n",
              "    .dataframe thead th {\n",
              "        text-align: right;\n",
              "    }\n",
              "</style>\n",
              "<table border=\"1\" class=\"dataframe\">\n",
              "  <thead>\n",
              "    <tr style=\"text-align: right;\">\n",
              "      <th></th>\n",
              "      <th>Id</th>\n",
              "      <th>Name</th>\n",
              "      <th>Authors</th>\n",
              "      <th>ISBN</th>\n",
              "      <th>PublishYear</th>\n",
              "      <th>Publisher</th>\n",
              "      <th>Language</th>\n",
              "      <th>Description</th>\n",
              "    </tr>\n",
              "  </thead>\n",
              "  <tbody>\n",
              "    <tr>\n",
              "      <th>0</th>\n",
              "      <td>2427424</td>\n",
              "      <td>Raising Standards or Raising Barriers?: Inequa...</td>\n",
              "      <td>Gary Orfield</td>\n",
              "      <td>087078451X</td>\n",
              "      <td>2001</td>\n",
              "      <td>Century Foundation Press</td>\n",
              "      <td>NaN</td>\n",
              "      <td>More and more states require students to pass ...</td>\n",
              "    </tr>\n",
              "    <tr>\n",
              "      <th>1</th>\n",
              "      <td>2635062</td>\n",
              "      <td>The Scarlet Letter: A Romance</td>\n",
              "      <td>Nathaniel Hawthorne</td>\n",
              "      <td>0140862072</td>\n",
              "      <td>1995</td>\n",
              "      <td>Penguin Audiobooks</td>\n",
              "      <td>NaN</td>\n",
              "      <td>A story of love, guilt, sin and redemption pla...</td>\n",
              "    </tr>\n",
              "    <tr>\n",
              "      <th>2</th>\n",
              "      <td>2758867</td>\n",
              "      <td>Taking Glasnost Seriously: Toward an Open Sovi...</td>\n",
              "      <td>Michael Novak</td>\n",
              "      <td>0844736422</td>\n",
              "      <td>1988</td>\n",
              "      <td>AEI Press</td>\n",
              "      <td>eng</td>\n",
              "      <td>This book examines the Soviet Union and the gr...</td>\n",
              "    </tr>\n",
              "    <tr>\n",
              "      <th>3</th>\n",
              "      <td>2252829</td>\n",
              "      <td>Caliphate</td>\n",
              "      <td>Tom Kratman</td>\n",
              "      <td>1416555455</td>\n",
              "      <td>2008</td>\n",
              "      <td>Baen</td>\n",
              "      <td>NaN</td>\n",
              "      <td>Demography is destiny. In the 22nd century Eur...</td>\n",
              "    </tr>\n",
              "    <tr>\n",
              "      <th>4</th>\n",
              "      <td>2199595</td>\n",
              "      <td>Ali Baba: Fooling the Forty Thieves: An Arabia...</td>\n",
              "      <td>Marie P. Croall</td>\n",
              "      <td>0822575256</td>\n",
              "      <td>2008</td>\n",
              "      <td>Graphic Universe</td>\n",
              "      <td>NaN</td>\n",
              "      <td>This graphic novel tells a classic tale from A...</td>\n",
              "    </tr>\n",
              "  </tbody>\n",
              "</table>\n",
              "</div>\n",
              "    <div class=\"colab-df-buttons\">\n",
              "\n",
              "  <div class=\"colab-df-container\">\n",
              "    <button class=\"colab-df-convert\" onclick=\"convertToInteractive('df-54f38c33-4985-4011-b87c-8283358f543f')\"\n",
              "            title=\"Convert this dataframe to an interactive table.\"\n",
              "            style=\"display:none;\">\n",
              "\n",
              "  <svg xmlns=\"http://www.w3.org/2000/svg\" height=\"24px\" viewBox=\"0 -960 960 960\">\n",
              "    <path d=\"M120-120v-720h720v720H120Zm60-500h600v-160H180v160Zm220 220h160v-160H400v160Zm0 220h160v-160H400v160ZM180-400h160v-160H180v160Zm440 0h160v-160H620v160ZM180-180h160v-160H180v160Zm440 0h160v-160H620v160Z\"/>\n",
              "  </svg>\n",
              "    </button>\n",
              "\n",
              "  <style>\n",
              "    .colab-df-container {\n",
              "      display:flex;\n",
              "      gap: 12px;\n",
              "    }\n",
              "\n",
              "    .colab-df-convert {\n",
              "      background-color: #E8F0FE;\n",
              "      border: none;\n",
              "      border-radius: 50%;\n",
              "      cursor: pointer;\n",
              "      display: none;\n",
              "      fill: #1967D2;\n",
              "      height: 32px;\n",
              "      padding: 0 0 0 0;\n",
              "      width: 32px;\n",
              "    }\n",
              "\n",
              "    .colab-df-convert:hover {\n",
              "      background-color: #E2EBFA;\n",
              "      box-shadow: 0px 1px 2px rgba(60, 64, 67, 0.3), 0px 1px 3px 1px rgba(60, 64, 67, 0.15);\n",
              "      fill: #174EA6;\n",
              "    }\n",
              "\n",
              "    .colab-df-buttons div {\n",
              "      margin-bottom: 4px;\n",
              "    }\n",
              "\n",
              "    [theme=dark] .colab-df-convert {\n",
              "      background-color: #3B4455;\n",
              "      fill: #D2E3FC;\n",
              "    }\n",
              "\n",
              "    [theme=dark] .colab-df-convert:hover {\n",
              "      background-color: #434B5C;\n",
              "      box-shadow: 0px 1px 3px 1px rgba(0, 0, 0, 0.15);\n",
              "      filter: drop-shadow(0px 1px 2px rgba(0, 0, 0, 0.3));\n",
              "      fill: #FFFFFF;\n",
              "    }\n",
              "  </style>\n",
              "\n",
              "    <script>\n",
              "      const buttonEl =\n",
              "        document.querySelector('#df-54f38c33-4985-4011-b87c-8283358f543f button.colab-df-convert');\n",
              "      buttonEl.style.display =\n",
              "        google.colab.kernel.accessAllowed ? 'block' : 'none';\n",
              "\n",
              "      async function convertToInteractive(key) {\n",
              "        const element = document.querySelector('#df-54f38c33-4985-4011-b87c-8283358f543f');\n",
              "        const dataTable =\n",
              "          await google.colab.kernel.invokeFunction('convertToInteractive',\n",
              "                                                    [key], {});\n",
              "        if (!dataTable) return;\n",
              "\n",
              "        const docLinkHtml = 'Like what you see? Visit the ' +\n",
              "          '<a target=\"_blank\" href=https://colab.research.google.com/notebooks/data_table.ipynb>data table notebook</a>'\n",
              "          + ' to learn more about interactive tables.';\n",
              "        element.innerHTML = '';\n",
              "        dataTable['output_type'] = 'display_data';\n",
              "        await google.colab.output.renderOutput(dataTable, element);\n",
              "        const docLink = document.createElement('div');\n",
              "        docLink.innerHTML = docLinkHtml;\n",
              "        element.appendChild(docLink);\n",
              "      }\n",
              "    </script>\n",
              "  </div>\n",
              "\n",
              "\n",
              "<div id=\"df-bae1d0e3-4568-485f-ba1c-1f634acab135\">\n",
              "  <button class=\"colab-df-quickchart\" onclick=\"quickchart('df-bae1d0e3-4568-485f-ba1c-1f634acab135')\"\n",
              "            title=\"Suggest charts.\"\n",
              "            style=\"display:none;\">\n",
              "\n",
              "<svg xmlns=\"http://www.w3.org/2000/svg\" height=\"24px\"viewBox=\"0 0 24 24\"\n",
              "     width=\"24px\">\n",
              "    <g>\n",
              "        <path d=\"M19 3H5c-1.1 0-2 .9-2 2v14c0 1.1.9 2 2 2h14c1.1 0 2-.9 2-2V5c0-1.1-.9-2-2-2zM9 17H7v-7h2v7zm4 0h-2V7h2v10zm4 0h-2v-4h2v4z\"/>\n",
              "    </g>\n",
              "</svg>\n",
              "  </button>\n",
              "\n",
              "<style>\n",
              "  .colab-df-quickchart {\n",
              "    background-color: #E8F0FE;\n",
              "    border: none;\n",
              "    border-radius: 50%;\n",
              "    cursor: pointer;\n",
              "    display: none;\n",
              "    fill: #1967D2;\n",
              "    height: 32px;\n",
              "    padding: 0 0 0 0;\n",
              "    width: 32px;\n",
              "  }\n",
              "\n",
              "  .colab-df-quickchart:hover {\n",
              "    background-color: #E2EBFA;\n",
              "    box-shadow: 0px 1px 2px rgba(60, 64, 67, 0.3), 0px 1px 3px 1px rgba(60, 64, 67, 0.15);\n",
              "    fill: #174EA6;\n",
              "  }\n",
              "\n",
              "  [theme=dark] .colab-df-quickchart {\n",
              "    background-color: #3B4455;\n",
              "    fill: #D2E3FC;\n",
              "  }\n",
              "\n",
              "  [theme=dark] .colab-df-quickchart:hover {\n",
              "    background-color: #434B5C;\n",
              "    box-shadow: 0px 1px 3px 1px rgba(0, 0, 0, 0.15);\n",
              "    filter: drop-shadow(0px 1px 2px rgba(0, 0, 0, 0.3));\n",
              "    fill: #FFFFFF;\n",
              "  }\n",
              "</style>\n",
              "\n",
              "  <script>\n",
              "    async function quickchart(key) {\n",
              "      const charts = await google.colab.kernel.invokeFunction(\n",
              "          'suggestCharts', [key], {});\n",
              "    }\n",
              "    (() => {\n",
              "      let quickchartButtonEl =\n",
              "        document.querySelector('#df-bae1d0e3-4568-485f-ba1c-1f634acab135 button');\n",
              "      quickchartButtonEl.style.display =\n",
              "        google.colab.kernel.accessAllowed ? 'block' : 'none';\n",
              "    })();\n",
              "  </script>\n",
              "</div>\n",
              "    </div>\n",
              "  </div>\n"
            ]
          },
          "metadata": {},
          "execution_count": 77
        }
      ]
    },
    {
      "cell_type": "code",
      "source": [
        "books_data.isnull().sum()"
      ],
      "metadata": {
        "colab": {
          "base_uri": "https://localhost:8080/"
        },
        "id": "hfm9G44pRrob",
        "outputId": "d937fa8b-2a20-43e3-dc35-0c944ef532b3"
      },
      "execution_count": 65,
      "outputs": [
        {
          "output_type": "execute_result",
          "data": {
            "text/plain": [
              "Id                0\n",
              "Name              0\n",
              "Authors           0\n",
              "ISBN             36\n",
              "PublishYear       0\n",
              "Publisher       103\n",
              "Language       8928\n",
              "Description    2112\n",
              "dtype: int64"
            ]
          },
          "metadata": {},
          "execution_count": 65
        }
      ]
    },
    {
      "cell_type": "code",
      "source": [
        "books_data.dropna(subset=[\"Description\"], inplace=True)"
      ],
      "metadata": {
        "id": "HsxPcLFnSguD"
      },
      "execution_count": 58,
      "outputs": []
    },
    {
      "cell_type": "code",
      "source": [
        "books_data.isnull().sum()"
      ],
      "metadata": {
        "colab": {
          "base_uri": "https://localhost:8080/"
        },
        "id": "ce6aco6ZSy_I",
        "outputId": "a54800ee-7035-4296-a531-9c54c1e77a1a"
      },
      "execution_count": 61,
      "outputs": [
        {
          "output_type": "execute_result",
          "data": {
            "text/plain": [
              "Id                0\n",
              "Name              0\n",
              "Authors           0\n",
              "ISBN             23\n",
              "PublishYear       0\n",
              "Publisher        62\n",
              "Language       6984\n",
              "Description       0\n",
              "dtype: int64"
            ]
          },
          "metadata": {},
          "execution_count": 61
        }
      ]
    },
    {
      "cell_type": "code",
      "source": [
        "def add_nan(x):\n",
        "  x = str(x)\n",
        "  if x == \"\": x = \"nan\"\n",
        "  return x"
      ],
      "metadata": {
        "id": "xvSEmzSbYb0h"
      },
      "execution_count": 79,
      "outputs": []
    },
    {
      "cell_type": "code",
      "source": [
        "books_data['Description'] = books_data[\"Description\"].apply(add_nan)"
      ],
      "metadata": {
        "id": "us1h4gcxS8mQ"
      },
      "execution_count": 80,
      "outputs": []
    },
    {
      "cell_type": "code",
      "source": [
        "url_pattern = re.compile(r'https?://\\S+|www\\.\\S+')\n",
        "def remove_url(text):\n",
        "    return re.sub(url_pattern, r'', text)\n",
        "\n",
        "html_pattern = re.compile('<[^>]*>')\n",
        "def clean_html_tags(text):\n",
        "    return re.sub(html_pattern, r'', text)\n",
        "\n",
        "punctuations = string.punctuation\n",
        "def remove_punctuations(text):\n",
        "    return text.translate(str.maketrans('', '', punctuations))\n",
        "\n",
        "books_data.Description = books_data.Description.apply(remove_url)\n",
        "books_data.Description = books_data.Description.apply(clean_html_tags)\n",
        "books_data.Description = books_data.Description.apply(remove_punctuations)\n"
      ],
      "metadata": {
        "colab": {
          "base_uri": "https://localhost:8080/"
        },
        "id": "GTAhg3mdTAAT",
        "outputId": "b37ffb8a-55a8-48da-9354-7f50ecc05d43"
      },
      "execution_count": 81,
      "outputs": [
        {
          "output_type": "execute_result",
          "data": {
            "text/plain": [
              "[]"
            ]
          },
          "metadata": {},
          "execution_count": 81
        }
      ]
    },
    {
      "cell_type": "code",
      "source": [
        "books_data[[\"Publisher\"]] = books_data[[\"Publisher\"]].fillna(\"unknown\")\n",
        "books_data[[\"Name\", \"Authors\", \"Publisher\", \"Description\"]] = pd.concat([books_data[col].astype(str).str.lower().str.strip()\n",
        "                                                                             for col in [\"Name\", \"Authors\", \"Publisher\", \"Description\"]],\n",
        "                                                                            axis=1)"
      ],
      "metadata": {
        "id": "MXDyZHwWTC73"
      },
      "execution_count": 82,
      "outputs": []
    },
    {
      "cell_type": "code",
      "source": [
        "# Find description word count\n",
        "books_data[\"length\"] = [len(d.split()) for d in books_data['Description'].tolist()]\n",
        "\n",
        "print(set(books_data.Description[books_data.length.isin(range(0,4))]))"
      ],
      "metadata": {
        "colab": {
          "base_uri": "https://localhost:8080/"
        },
        "id": "Ngo9r2u4TJXr",
        "outputId": "802bdca9-e842-43c3-ec2d-e061b1260c63"
      },
      "execution_count": 83,
      "outputs": [
        {
          "output_type": "stream",
          "name": "stdout",
          "text": [
            "{'', '懺罪宮に幽閉されるルキアの元にたどり着いた岩鷲と花太郎。だが、それを察知した朽木白哉が二人の前に現れた！！\\u3000白哉は、対峙する岩鷲に無慈悲な斬魄刀の一撃を放つ！\\u3000万事休す…とその時、天空に一護の姿が！！', '「自分が死んでも、水野理瀬が半年以上ここに住まない限り家は処分してはならない」亡き祖母の奇妙な遺言に従い、「魔女の館」と噂される洋館に、理瀬は、やってきた………。', 'no', '太宰治が短篇の名手であることはひろく知られているが、ここに収めた作品は、いずれも様々な題材を、それぞれ素材に適わしい手法で描いていて、その手腕の確かさを今更のように思い起こさせる。表題作の他、『東京八景』『女生徒』『きりぎりす』『駈込み訴え』『魚服記』『ロマネスク』『満願』『八十八夜』を収録。 解説 井伏鱒二', '国民的辞典、10年ぶりの大改訂。充実の最新版、満を持して登場国民的な国語百科辞典の最新版。第六版を全面的に見直して、学術研究の進展や社会の変化に対応。新たに1万項目を増補し、既存項目にも新しく定着した意味を加える。基礎語の語釈や古典用例の見直しにも重点をおき、特に類義語の意味の違いをいっそう分かりやすくした。漢字小字典などを収めた便利な別冊付録つき。', 'language spanish', 'ampltbr ampgt ampgt', 'nan', 'for children', '桜咲く４月。希望に胸を膨らませた登校途中の少女が、桜並木で出会ったのは、新クラスの担任の先生だった‥‥。そこまでは良い話。その先生の名は糸色望。学校から飛び下りたり、すぐ不登校になったり、超迷惑なネガティブ教師だった！通称「絶望先生」が引っかき回すクラスでは、予想不能な事件が毎回毎回起きるのです！', '学園生活の中で、誰もが一つや二つ抱えてしまう悩みや問題。それらを何でも解決してくれる、学園生活の助っ人になってくれるヤツらがいた！\\u3000彼ら学園生活支援部――通称“スケット団”に、今日も仕事の依頼が舞い込む！！', '無敵の禁断カップル・夜斗と緋佐子。熱愛同棲中の二人は、今宵も甘い欲望にトロけるのであった…ある日、骨董店オーナーの祖父が緋佐子たちのもとを訪れた。彼は緋佐子のことが大のお気に入り！！彼女のために、商店街の新年会で夜斗も驚きの（？）演出をして…！？見逃せない魅惑の第4巻', '第20回（2007年） 山本周五郎賞受賞瀟洒なホテルの中庭で、気鋭の脚本家が謎の死を遂げた。容疑は、パーティ会場で発表予定だった『告白』の主演女優候補三人に掛かる。警察は女優三人に脚本家の変死をめぐる一人芝居『告白』を演じさせようとする――という設定の戯曲『中庭の出来事』を執筆中の劇作家がいて……。虚と実、内と外がめまぐるしく反転する眩惑の迷宮。芝居とミステリが見事に融合した山本周五郎賞受賞作。', '一護の前に現れた滅却師・雨竜は、「僕は死神を憎む」と、いきなり宣戦布告！\\u300024時間以内に、どちらがより多くの虚を倒せるかという勝負を一護に持ちかける。やがて誘い出された虚達が、街中の人々を襲い始めた！！', '短篇小說集之二收錄八個短篇小說及一篇散文。張愛玲說其中〈茉莉香片〉、〈第一爐香〉、〈第二爐香〉、〈心經〉、〈琉璃瓦〉、〈封鎖〉是寫給上海人的香港傳奇。這是她創作的高峰期，尤其〈第一爐香〉中把上流社會的算計及刻薄、女人的小心眼及愛情觀寫得淋漓盡致，充分展露出張愛玲靈巧的心思，與獨一無二的驚世才華！', '芽衣子さんと種田くん。付き合って6年め、同棲して1年。この国で芽が出たばかりのボクらは、いったいどんな花を咲かせるの…？\\u3000限りなく不透明なイマを生きる、僕らの青春狂奏曲', 'プロ試験本戦で1敗のヒカルと全勝の伊角が遂に激突。プロになるために避けて通れぬこの一局は、思わぬ決着に…！？\\u3000一方、越智の指導碁を引き受けたアキラは、後に控える対ヒカル戦攻略のカギを越智に教え込むが…！？', '超ベストセラー「あさきゆめみし」文庫化永遠のベストセラー・源氏物語をコミック化して1600万部を売り上げた「あさきゆめみし」の文庫化、統一デザインを施し、保存しておきたい作品です'}\n"
          ]
        }
      ]
    },
    {
      "cell_type": "code",
      "source": [
        "# Replace empty strings of description with NaN\n",
        "books_data.Description = books_data.Description.replace(r'^\\s*$', np.nan, regex=True)\n",
        "\n",
        "books_data[books_data.length.isin(range(1,min_description_word_count+1))][[\"Id\", \"Name\", \"Description\", \"length\"]]\\\n",
        ".sort_values(by=[\"length\"], ascending=True).head(5)"
      ],
      "metadata": {
        "colab": {
          "base_uri": "https://localhost:8080/",
          "height": 206
        },
        "id": "aTepN3ntTNHv",
        "outputId": "d1fd17f9-325a-4b92-8a2b-f74f6fc6ec84"
      },
      "execution_count": 84,
      "outputs": [
        {
          "output_type": "execute_result",
          "data": {
            "text/plain": [
              "           Id                                               Name Description  \\\n",
              "11    2177645  1881 census returns, lanark township, lanark c...         nan   \n",
              "6576  2440684  financial markets for the rest of us: an easy ...         nan   \n",
              "6571  2931292          incidents at whiterock: and other stories         nan   \n",
              "6560  2254119                          tennessee civil procedure         nan   \n",
              "6559  2221629       life of the amir dost mohammed khan of kabul         nan   \n",
              "\n",
              "      length  \n",
              "11         1  \n",
              "6576       1  \n",
              "6571       1  \n",
              "6560       1  \n",
              "6559       1  "
            ],
            "text/html": [
              "\n",
              "  <div id=\"df-53b3dae1-d2e3-4462-8cfa-9e28f80a090b\" class=\"colab-df-container\">\n",
              "    <div>\n",
              "<style scoped>\n",
              "    .dataframe tbody tr th:only-of-type {\n",
              "        vertical-align: middle;\n",
              "    }\n",
              "\n",
              "    .dataframe tbody tr th {\n",
              "        vertical-align: top;\n",
              "    }\n",
              "\n",
              "    .dataframe thead th {\n",
              "        text-align: right;\n",
              "    }\n",
              "</style>\n",
              "<table border=\"1\" class=\"dataframe\">\n",
              "  <thead>\n",
              "    <tr style=\"text-align: right;\">\n",
              "      <th></th>\n",
              "      <th>Id</th>\n",
              "      <th>Name</th>\n",
              "      <th>Description</th>\n",
              "      <th>length</th>\n",
              "    </tr>\n",
              "  </thead>\n",
              "  <tbody>\n",
              "    <tr>\n",
              "      <th>11</th>\n",
              "      <td>2177645</td>\n",
              "      <td>1881 census returns, lanark township, lanark c...</td>\n",
              "      <td>nan</td>\n",
              "      <td>1</td>\n",
              "    </tr>\n",
              "    <tr>\n",
              "      <th>6576</th>\n",
              "      <td>2440684</td>\n",
              "      <td>financial markets for the rest of us: an easy ...</td>\n",
              "      <td>nan</td>\n",
              "      <td>1</td>\n",
              "    </tr>\n",
              "    <tr>\n",
              "      <th>6571</th>\n",
              "      <td>2931292</td>\n",
              "      <td>incidents at whiterock: and other stories</td>\n",
              "      <td>nan</td>\n",
              "      <td>1</td>\n",
              "    </tr>\n",
              "    <tr>\n",
              "      <th>6560</th>\n",
              "      <td>2254119</td>\n",
              "      <td>tennessee civil procedure</td>\n",
              "      <td>nan</td>\n",
              "      <td>1</td>\n",
              "    </tr>\n",
              "    <tr>\n",
              "      <th>6559</th>\n",
              "      <td>2221629</td>\n",
              "      <td>life of the amir dost mohammed khan of kabul</td>\n",
              "      <td>nan</td>\n",
              "      <td>1</td>\n",
              "    </tr>\n",
              "  </tbody>\n",
              "</table>\n",
              "</div>\n",
              "    <div class=\"colab-df-buttons\">\n",
              "\n",
              "  <div class=\"colab-df-container\">\n",
              "    <button class=\"colab-df-convert\" onclick=\"convertToInteractive('df-53b3dae1-d2e3-4462-8cfa-9e28f80a090b')\"\n",
              "            title=\"Convert this dataframe to an interactive table.\"\n",
              "            style=\"display:none;\">\n",
              "\n",
              "  <svg xmlns=\"http://www.w3.org/2000/svg\" height=\"24px\" viewBox=\"0 -960 960 960\">\n",
              "    <path d=\"M120-120v-720h720v720H120Zm60-500h600v-160H180v160Zm220 220h160v-160H400v160Zm0 220h160v-160H400v160ZM180-400h160v-160H180v160Zm440 0h160v-160H620v160ZM180-180h160v-160H180v160Zm440 0h160v-160H620v160Z\"/>\n",
              "  </svg>\n",
              "    </button>\n",
              "\n",
              "  <style>\n",
              "    .colab-df-container {\n",
              "      display:flex;\n",
              "      gap: 12px;\n",
              "    }\n",
              "\n",
              "    .colab-df-convert {\n",
              "      background-color: #E8F0FE;\n",
              "      border: none;\n",
              "      border-radius: 50%;\n",
              "      cursor: pointer;\n",
              "      display: none;\n",
              "      fill: #1967D2;\n",
              "      height: 32px;\n",
              "      padding: 0 0 0 0;\n",
              "      width: 32px;\n",
              "    }\n",
              "\n",
              "    .colab-df-convert:hover {\n",
              "      background-color: #E2EBFA;\n",
              "      box-shadow: 0px 1px 2px rgba(60, 64, 67, 0.3), 0px 1px 3px 1px rgba(60, 64, 67, 0.15);\n",
              "      fill: #174EA6;\n",
              "    }\n",
              "\n",
              "    .colab-df-buttons div {\n",
              "      margin-bottom: 4px;\n",
              "    }\n",
              "\n",
              "    [theme=dark] .colab-df-convert {\n",
              "      background-color: #3B4455;\n",
              "      fill: #D2E3FC;\n",
              "    }\n",
              "\n",
              "    [theme=dark] .colab-df-convert:hover {\n",
              "      background-color: #434B5C;\n",
              "      box-shadow: 0px 1px 3px 1px rgba(0, 0, 0, 0.15);\n",
              "      filter: drop-shadow(0px 1px 2px rgba(0, 0, 0, 0.3));\n",
              "      fill: #FFFFFF;\n",
              "    }\n",
              "  </style>\n",
              "\n",
              "    <script>\n",
              "      const buttonEl =\n",
              "        document.querySelector('#df-53b3dae1-d2e3-4462-8cfa-9e28f80a090b button.colab-df-convert');\n",
              "      buttonEl.style.display =\n",
              "        google.colab.kernel.accessAllowed ? 'block' : 'none';\n",
              "\n",
              "      async function convertToInteractive(key) {\n",
              "        const element = document.querySelector('#df-53b3dae1-d2e3-4462-8cfa-9e28f80a090b');\n",
              "        const dataTable =\n",
              "          await google.colab.kernel.invokeFunction('convertToInteractive',\n",
              "                                                    [key], {});\n",
              "        if (!dataTable) return;\n",
              "\n",
              "        const docLinkHtml = 'Like what you see? Visit the ' +\n",
              "          '<a target=\"_blank\" href=https://colab.research.google.com/notebooks/data_table.ipynb>data table notebook</a>'\n",
              "          + ' to learn more about interactive tables.';\n",
              "        element.innerHTML = '';\n",
              "        dataTable['output_type'] = 'display_data';\n",
              "        await google.colab.output.renderOutput(dataTable, element);\n",
              "        const docLink = document.createElement('div');\n",
              "        docLink.innerHTML = docLinkHtml;\n",
              "        element.appendChild(docLink);\n",
              "      }\n",
              "    </script>\n",
              "  </div>\n",
              "\n",
              "\n",
              "<div id=\"df-cf42f3e8-f2b4-4bc0-9657-df3cf6e63361\">\n",
              "  <button class=\"colab-df-quickchart\" onclick=\"quickchart('df-cf42f3e8-f2b4-4bc0-9657-df3cf6e63361')\"\n",
              "            title=\"Suggest charts.\"\n",
              "            style=\"display:none;\">\n",
              "\n",
              "<svg xmlns=\"http://www.w3.org/2000/svg\" height=\"24px\"viewBox=\"0 0 24 24\"\n",
              "     width=\"24px\">\n",
              "    <g>\n",
              "        <path d=\"M19 3H5c-1.1 0-2 .9-2 2v14c0 1.1.9 2 2 2h14c1.1 0 2-.9 2-2V5c0-1.1-.9-2-2-2zM9 17H7v-7h2v7zm4 0h-2V7h2v10zm4 0h-2v-4h2v4z\"/>\n",
              "    </g>\n",
              "</svg>\n",
              "  </button>\n",
              "\n",
              "<style>\n",
              "  .colab-df-quickchart {\n",
              "    background-color: #E8F0FE;\n",
              "    border: none;\n",
              "    border-radius: 50%;\n",
              "    cursor: pointer;\n",
              "    display: none;\n",
              "    fill: #1967D2;\n",
              "    height: 32px;\n",
              "    padding: 0 0 0 0;\n",
              "    width: 32px;\n",
              "  }\n",
              "\n",
              "  .colab-df-quickchart:hover {\n",
              "    background-color: #E2EBFA;\n",
              "    box-shadow: 0px 1px 2px rgba(60, 64, 67, 0.3), 0px 1px 3px 1px rgba(60, 64, 67, 0.15);\n",
              "    fill: #174EA6;\n",
              "  }\n",
              "\n",
              "  [theme=dark] .colab-df-quickchart {\n",
              "    background-color: #3B4455;\n",
              "    fill: #D2E3FC;\n",
              "  }\n",
              "\n",
              "  [theme=dark] .colab-df-quickchart:hover {\n",
              "    background-color: #434B5C;\n",
              "    box-shadow: 0px 1px 3px 1px rgba(0, 0, 0, 0.15);\n",
              "    filter: drop-shadow(0px 1px 2px rgba(0, 0, 0, 0.3));\n",
              "    fill: #FFFFFF;\n",
              "  }\n",
              "</style>\n",
              "\n",
              "  <script>\n",
              "    async function quickchart(key) {\n",
              "      const charts = await google.colab.kernel.invokeFunction(\n",
              "          'suggestCharts', [key], {});\n",
              "    }\n",
              "    (() => {\n",
              "      let quickchartButtonEl =\n",
              "        document.querySelector('#df-cf42f3e8-f2b4-4bc0-9657-df3cf6e63361 button');\n",
              "      quickchartButtonEl.style.display =\n",
              "        google.colab.kernel.accessAllowed ? 'block' : 'none';\n",
              "    })();\n",
              "  </script>\n",
              "</div>\n",
              "    </div>\n",
              "  </div>\n"
            ]
          },
          "metadata": {},
          "execution_count": 84
        }
      ]
    },
    {
      "cell_type": "code",
      "source": [
        "books_data.head()"
      ],
      "metadata": {
        "colab": {
          "base_uri": "https://localhost:8080/",
          "height": 206
        },
        "id": "1RP22Q_IzOl-",
        "outputId": "669e3bdb-ba7d-4e09-bc28-3515e90a5ab3"
      },
      "execution_count": 85,
      "outputs": [
        {
          "output_type": "execute_result",
          "data": {
            "text/plain": [
              "        Id                                               Name  \\\n",
              "0  2427424  raising standards or raising barriers?: inequa...   \n",
              "1  2635062                      the scarlet letter: a romance   \n",
              "2  2758867  taking glasnost seriously: toward an open sovi...   \n",
              "3  2252829                                          caliphate   \n",
              "4  2199595  ali baba: fooling the forty thieves: an arabia...   \n",
              "\n",
              "               Authors        ISBN  PublishYear                 Publisher  \\\n",
              "0         gary orfield  087078451X         2001  century foundation press   \n",
              "1  nathaniel hawthorne  0140862072         1995        penguin audiobooks   \n",
              "2        michael novak  0844736422         1988                 aei press   \n",
              "3          tom kratman  1416555455         2008                      baen   \n",
              "4      marie p. croall  0822575256         2008          graphic universe   \n",
              "\n",
              "  Language                                        Description  length  \n",
              "0      NaN  more and more states require students to pass ...      66  \n",
              "1      NaN  a story of love guilt sin and redemption playe...      18  \n",
              "2      eng  this book examines the soviet union and the gr...      17  \n",
              "3      NaN  demography is destiny in the 22nd century euro...     171  \n",
              "4      NaN  this graphic novel tells a classic tale from a...      95  "
            ],
            "text/html": [
              "\n",
              "  <div id=\"df-bc197bd8-25dd-43a2-b063-fe83a5a6e797\" class=\"colab-df-container\">\n",
              "    <div>\n",
              "<style scoped>\n",
              "    .dataframe tbody tr th:only-of-type {\n",
              "        vertical-align: middle;\n",
              "    }\n",
              "\n",
              "    .dataframe tbody tr th {\n",
              "        vertical-align: top;\n",
              "    }\n",
              "\n",
              "    .dataframe thead th {\n",
              "        text-align: right;\n",
              "    }\n",
              "</style>\n",
              "<table border=\"1\" class=\"dataframe\">\n",
              "  <thead>\n",
              "    <tr style=\"text-align: right;\">\n",
              "      <th></th>\n",
              "      <th>Id</th>\n",
              "      <th>Name</th>\n",
              "      <th>Authors</th>\n",
              "      <th>ISBN</th>\n",
              "      <th>PublishYear</th>\n",
              "      <th>Publisher</th>\n",
              "      <th>Language</th>\n",
              "      <th>Description</th>\n",
              "      <th>length</th>\n",
              "    </tr>\n",
              "  </thead>\n",
              "  <tbody>\n",
              "    <tr>\n",
              "      <th>0</th>\n",
              "      <td>2427424</td>\n",
              "      <td>raising standards or raising barriers?: inequa...</td>\n",
              "      <td>gary orfield</td>\n",
              "      <td>087078451X</td>\n",
              "      <td>2001</td>\n",
              "      <td>century foundation press</td>\n",
              "      <td>NaN</td>\n",
              "      <td>more and more states require students to pass ...</td>\n",
              "      <td>66</td>\n",
              "    </tr>\n",
              "    <tr>\n",
              "      <th>1</th>\n",
              "      <td>2635062</td>\n",
              "      <td>the scarlet letter: a romance</td>\n",
              "      <td>nathaniel hawthorne</td>\n",
              "      <td>0140862072</td>\n",
              "      <td>1995</td>\n",
              "      <td>penguin audiobooks</td>\n",
              "      <td>NaN</td>\n",
              "      <td>a story of love guilt sin and redemption playe...</td>\n",
              "      <td>18</td>\n",
              "    </tr>\n",
              "    <tr>\n",
              "      <th>2</th>\n",
              "      <td>2758867</td>\n",
              "      <td>taking glasnost seriously: toward an open sovi...</td>\n",
              "      <td>michael novak</td>\n",
              "      <td>0844736422</td>\n",
              "      <td>1988</td>\n",
              "      <td>aei press</td>\n",
              "      <td>eng</td>\n",
              "      <td>this book examines the soviet union and the gr...</td>\n",
              "      <td>17</td>\n",
              "    </tr>\n",
              "    <tr>\n",
              "      <th>3</th>\n",
              "      <td>2252829</td>\n",
              "      <td>caliphate</td>\n",
              "      <td>tom kratman</td>\n",
              "      <td>1416555455</td>\n",
              "      <td>2008</td>\n",
              "      <td>baen</td>\n",
              "      <td>NaN</td>\n",
              "      <td>demography is destiny in the 22nd century euro...</td>\n",
              "      <td>171</td>\n",
              "    </tr>\n",
              "    <tr>\n",
              "      <th>4</th>\n",
              "      <td>2199595</td>\n",
              "      <td>ali baba: fooling the forty thieves: an arabia...</td>\n",
              "      <td>marie p. croall</td>\n",
              "      <td>0822575256</td>\n",
              "      <td>2008</td>\n",
              "      <td>graphic universe</td>\n",
              "      <td>NaN</td>\n",
              "      <td>this graphic novel tells a classic tale from a...</td>\n",
              "      <td>95</td>\n",
              "    </tr>\n",
              "  </tbody>\n",
              "</table>\n",
              "</div>\n",
              "    <div class=\"colab-df-buttons\">\n",
              "\n",
              "  <div class=\"colab-df-container\">\n",
              "    <button class=\"colab-df-convert\" onclick=\"convertToInteractive('df-bc197bd8-25dd-43a2-b063-fe83a5a6e797')\"\n",
              "            title=\"Convert this dataframe to an interactive table.\"\n",
              "            style=\"display:none;\">\n",
              "\n",
              "  <svg xmlns=\"http://www.w3.org/2000/svg\" height=\"24px\" viewBox=\"0 -960 960 960\">\n",
              "    <path d=\"M120-120v-720h720v720H120Zm60-500h600v-160H180v160Zm220 220h160v-160H400v160Zm0 220h160v-160H400v160ZM180-400h160v-160H180v160Zm440 0h160v-160H620v160ZM180-180h160v-160H180v160Zm440 0h160v-160H620v160Z\"/>\n",
              "  </svg>\n",
              "    </button>\n",
              "\n",
              "  <style>\n",
              "    .colab-df-container {\n",
              "      display:flex;\n",
              "      gap: 12px;\n",
              "    }\n",
              "\n",
              "    .colab-df-convert {\n",
              "      background-color: #E8F0FE;\n",
              "      border: none;\n",
              "      border-radius: 50%;\n",
              "      cursor: pointer;\n",
              "      display: none;\n",
              "      fill: #1967D2;\n",
              "      height: 32px;\n",
              "      padding: 0 0 0 0;\n",
              "      width: 32px;\n",
              "    }\n",
              "\n",
              "    .colab-df-convert:hover {\n",
              "      background-color: #E2EBFA;\n",
              "      box-shadow: 0px 1px 2px rgba(60, 64, 67, 0.3), 0px 1px 3px 1px rgba(60, 64, 67, 0.15);\n",
              "      fill: #174EA6;\n",
              "    }\n",
              "\n",
              "    .colab-df-buttons div {\n",
              "      margin-bottom: 4px;\n",
              "    }\n",
              "\n",
              "    [theme=dark] .colab-df-convert {\n",
              "      background-color: #3B4455;\n",
              "      fill: #D2E3FC;\n",
              "    }\n",
              "\n",
              "    [theme=dark] .colab-df-convert:hover {\n",
              "      background-color: #434B5C;\n",
              "      box-shadow: 0px 1px 3px 1px rgba(0, 0, 0, 0.15);\n",
              "      filter: drop-shadow(0px 1px 2px rgba(0, 0, 0, 0.3));\n",
              "      fill: #FFFFFF;\n",
              "    }\n",
              "  </style>\n",
              "\n",
              "    <script>\n",
              "      const buttonEl =\n",
              "        document.querySelector('#df-bc197bd8-25dd-43a2-b063-fe83a5a6e797 button.colab-df-convert');\n",
              "      buttonEl.style.display =\n",
              "        google.colab.kernel.accessAllowed ? 'block' : 'none';\n",
              "\n",
              "      async function convertToInteractive(key) {\n",
              "        const element = document.querySelector('#df-bc197bd8-25dd-43a2-b063-fe83a5a6e797');\n",
              "        const dataTable =\n",
              "          await google.colab.kernel.invokeFunction('convertToInteractive',\n",
              "                                                    [key], {});\n",
              "        if (!dataTable) return;\n",
              "\n",
              "        const docLinkHtml = 'Like what you see? Visit the ' +\n",
              "          '<a target=\"_blank\" href=https://colab.research.google.com/notebooks/data_table.ipynb>data table notebook</a>'\n",
              "          + ' to learn more about interactive tables.';\n",
              "        element.innerHTML = '';\n",
              "        dataTable['output_type'] = 'display_data';\n",
              "        await google.colab.output.renderOutput(dataTable, element);\n",
              "        const docLink = document.createElement('div');\n",
              "        docLink.innerHTML = docLinkHtml;\n",
              "        element.appendChild(docLink);\n",
              "      }\n",
              "    </script>\n",
              "  </div>\n",
              "\n",
              "\n",
              "<div id=\"df-fc810c1e-b09e-4312-a47e-884711ab814f\">\n",
              "  <button class=\"colab-df-quickchart\" onclick=\"quickchart('df-fc810c1e-b09e-4312-a47e-884711ab814f')\"\n",
              "            title=\"Suggest charts.\"\n",
              "            style=\"display:none;\">\n",
              "\n",
              "<svg xmlns=\"http://www.w3.org/2000/svg\" height=\"24px\"viewBox=\"0 0 24 24\"\n",
              "     width=\"24px\">\n",
              "    <g>\n",
              "        <path d=\"M19 3H5c-1.1 0-2 .9-2 2v14c0 1.1.9 2 2 2h14c1.1 0 2-.9 2-2V5c0-1.1-.9-2-2-2zM9 17H7v-7h2v7zm4 0h-2V7h2v10zm4 0h-2v-4h2v4z\"/>\n",
              "    </g>\n",
              "</svg>\n",
              "  </button>\n",
              "\n",
              "<style>\n",
              "  .colab-df-quickchart {\n",
              "    background-color: #E8F0FE;\n",
              "    border: none;\n",
              "    border-radius: 50%;\n",
              "    cursor: pointer;\n",
              "    display: none;\n",
              "    fill: #1967D2;\n",
              "    height: 32px;\n",
              "    padding: 0 0 0 0;\n",
              "    width: 32px;\n",
              "  }\n",
              "\n",
              "  .colab-df-quickchart:hover {\n",
              "    background-color: #E2EBFA;\n",
              "    box-shadow: 0px 1px 2px rgba(60, 64, 67, 0.3), 0px 1px 3px 1px rgba(60, 64, 67, 0.15);\n",
              "    fill: #174EA6;\n",
              "  }\n",
              "\n",
              "  [theme=dark] .colab-df-quickchart {\n",
              "    background-color: #3B4455;\n",
              "    fill: #D2E3FC;\n",
              "  }\n",
              "\n",
              "  [theme=dark] .colab-df-quickchart:hover {\n",
              "    background-color: #434B5C;\n",
              "    box-shadow: 0px 1px 3px 1px rgba(0, 0, 0, 0.15);\n",
              "    filter: drop-shadow(0px 1px 2px rgba(0, 0, 0, 0.3));\n",
              "    fill: #FFFFFF;\n",
              "  }\n",
              "</style>\n",
              "\n",
              "  <script>\n",
              "    async function quickchart(key) {\n",
              "      const charts = await google.colab.kernel.invokeFunction(\n",
              "          'suggestCharts', [key], {});\n",
              "    }\n",
              "    (() => {\n",
              "      let quickchartButtonEl =\n",
              "        document.querySelector('#df-fc810c1e-b09e-4312-a47e-884711ab814f button');\n",
              "      quickchartButtonEl.style.display =\n",
              "        google.colab.kernel.accessAllowed ? 'block' : 'none';\n",
              "    })();\n",
              "  </script>\n",
              "</div>\n",
              "    </div>\n",
              "  </div>\n"
            ]
          },
          "metadata": {},
          "execution_count": 85
        }
      ]
    },
    {
      "cell_type": "code",
      "source": [
        "# Convert unknown to NaN\n",
        "books_data[\"Publisher\"] = books_data.Publisher.replace('unknown',np.nan)\n",
        "books_data[\"Description\"] = books_data.Description.replace('nan',np.nan)\n",
        "books_data = books_data.sort_values(by=\"Publisher\", na_position='last')\\\n",
        ".drop_duplicates(subset=[\"Name\", \"Authors\", \"Description\"], keep='first')"
      ],
      "metadata": {
        "id": "SKLSFwJzTSQj"
      },
      "execution_count": 86,
      "outputs": []
    },
    {
      "cell_type": "code",
      "source": [
        "series_pattern =  \"(?:[;]\\s*|\\(\\s*)([^\\(;]*\\s*#\\s*\\d+(?:\\.?\\d+|\\\\&\\d+|-?\\d*))\"\n",
        "def get_book_series_info(text):\n",
        "    series_info = re.findall(series_pattern, text)\n",
        "    if series_info:\n",
        "        series_info = \" \".join([i.replace(\" \", \"_\") for i in series_info])\n",
        "        return series_info\n",
        "    else:\n",
        "        return np.nan\n",
        "\n",
        "books_data['BookSeriesInfo'] = books_data.Name.apply(get_book_series_info)"
      ],
      "metadata": {
        "id": "itJg0-U1UWgA"
      },
      "execution_count": 87,
      "outputs": []
    },
    {
      "cell_type": "code",
      "source": [
        "series_remove_pattern = re.compile(\"(?:[\\(]\\s*[^\\(;]*\\s*#\\s*\\d+(?:\\.?\\d+|\\\\&\\d+|-?\\d*)(?:;|\\))|\\s*[^\\(;]*\\s*#\\s*\\d+(?:\\.?\\d+|\\\\&\\d+|-?\\d*)\\))\")\n",
        "def remove_series_info(text):\n",
        "    return re.sub(series_remove_pattern, r'', text)\n",
        "\n",
        "books_data[\"Title\"]= books_data[\"Name\"].str.replace(series_remove_pattern, r'').str.strip()"
      ],
      "metadata": {
        "id": "vQ0_T9RAVC3C"
      },
      "execution_count": 88,
      "outputs": []
    },
    {
      "cell_type": "code",
      "source": [
        "import nltk\n",
        "nltk.download('crubadan')\n",
        "nltk.download('punkt')"
      ],
      "metadata": {
        "colab": {
          "base_uri": "https://localhost:8080/"
        },
        "id": "fhTPXbN7Vsr2",
        "outputId": "622cbe64-3396-445f-d5c9-f846cd6383d1"
      },
      "execution_count": 89,
      "outputs": [
        {
          "output_type": "stream",
          "name": "stderr",
          "text": [
            "[nltk_data] Downloading package crubadan to /root/nltk_data...\n",
            "[nltk_data]   Package crubadan is already up-to-date!\n",
            "[nltk_data] Downloading package punkt to /root/nltk_data...\n",
            "[nltk_data]   Package punkt is already up-to-date!\n"
          ]
        },
        {
          "output_type": "execute_result",
          "data": {
            "text/plain": [
              "True"
            ]
          },
          "metadata": {},
          "execution_count": 89
        }
      ]
    },
    {
      "cell_type": "code",
      "source": [
        "#Remove Double Quotes from Publisher Name\n",
        "\n",
        "books_data[\"Publisher\"] = books_data[\"Publisher\"].str.replace('\"','')"
      ],
      "metadata": {
        "id": "2jfzL_xvVhAE"
      },
      "execution_count": 90,
      "outputs": []
    },
    {
      "cell_type": "code",
      "source": [
        "#Transform Book and Author Names into Single Token\n",
        "\n",
        "books_data[\"Authors\"] = books_data[\"Authors\"].str.strip().str.replace(' ','_')\n",
        "books_data[\"Publisher\"] = books_data[\"Publisher\"].str.strip().str.replace(' ','_')\n",
        "books_data.head(5)"
      ],
      "metadata": {
        "id": "hetARZZeWfYW",
        "colab": {
          "base_uri": "https://localhost:8080/",
          "height": 275
        },
        "outputId": "b69ccfd0-0ac7-4b46-9647-3d9090c7f72c"
      },
      "execution_count": 91,
      "outputs": [
        {
          "output_type": "execute_result",
          "data": {
            "text/plain": [
              "           Id                                               Name  \\\n",
              "5679  2312681  the it's just lunch guide to dating in san die...   \n",
              "9720  2094452                                         faux frère   \n",
              "9726  2934265                                 un deuil dangereux   \n",
              "2716  2882410                     prevention from the inside-out   \n",
              "5709  2792583  symphonic paradox: the misadventures of a wayw...   \n",
              "\n",
              "           Authors        ISBN  PublishYear         Publisher Language  \\\n",
              "5679  cathy_a._loe  1933174323         2010   10_finger_press      NaN   \n",
              "9720  paul_doherty  2264024399         1998             10/18      fre   \n",
              "9726    anne_perry  226403307X         2001             10/18      fre   \n",
              "2716  jack_pransky  1410703754         2003  1st_book_library      NaN   \n",
              "5709     sam_denov  0759675430         2002  1st_book_library      NaN   \n",
              "\n",
              "                                            Description  length  \\\n",
              "5679  want to make good dates great mediocre dates m...     156   \n",
              "9720  le polar moyenâgeux est décidément à la mode s...     104   \n",
              "9726  décembre 1856 à londres william monk et son éq...     156   \n",
              "2716                                                NaN       1   \n",
              "5709  sam denov recounts his fascinating adventures ...      35   \n",
              "\n",
              "     BookSeriesInfo                                              Title  \n",
              "5679            NaN  the it's just lunch guide to dating in san die...  \n",
              "9720            NaN                                         faux frère  \n",
              "9726            NaN                                 un deuil dangereux  \n",
              "2716            NaN                     prevention from the inside-out  \n",
              "5709            NaN  symphonic paradox: the misadventures of a wayw...  "
            ],
            "text/html": [
              "\n",
              "  <div id=\"df-fb2682fc-9520-41f8-b13f-26315c85c3bb\" class=\"colab-df-container\">\n",
              "    <div>\n",
              "<style scoped>\n",
              "    .dataframe tbody tr th:only-of-type {\n",
              "        vertical-align: middle;\n",
              "    }\n",
              "\n",
              "    .dataframe tbody tr th {\n",
              "        vertical-align: top;\n",
              "    }\n",
              "\n",
              "    .dataframe thead th {\n",
              "        text-align: right;\n",
              "    }\n",
              "</style>\n",
              "<table border=\"1\" class=\"dataframe\">\n",
              "  <thead>\n",
              "    <tr style=\"text-align: right;\">\n",
              "      <th></th>\n",
              "      <th>Id</th>\n",
              "      <th>Name</th>\n",
              "      <th>Authors</th>\n",
              "      <th>ISBN</th>\n",
              "      <th>PublishYear</th>\n",
              "      <th>Publisher</th>\n",
              "      <th>Language</th>\n",
              "      <th>Description</th>\n",
              "      <th>length</th>\n",
              "      <th>BookSeriesInfo</th>\n",
              "      <th>Title</th>\n",
              "    </tr>\n",
              "  </thead>\n",
              "  <tbody>\n",
              "    <tr>\n",
              "      <th>5679</th>\n",
              "      <td>2312681</td>\n",
              "      <td>the it's just lunch guide to dating in san die...</td>\n",
              "      <td>cathy_a._loe</td>\n",
              "      <td>1933174323</td>\n",
              "      <td>2010</td>\n",
              "      <td>10_finger_press</td>\n",
              "      <td>NaN</td>\n",
              "      <td>want to make good dates great mediocre dates m...</td>\n",
              "      <td>156</td>\n",
              "      <td>NaN</td>\n",
              "      <td>the it's just lunch guide to dating in san die...</td>\n",
              "    </tr>\n",
              "    <tr>\n",
              "      <th>9720</th>\n",
              "      <td>2094452</td>\n",
              "      <td>faux frère</td>\n",
              "      <td>paul_doherty</td>\n",
              "      <td>2264024399</td>\n",
              "      <td>1998</td>\n",
              "      <td>10/18</td>\n",
              "      <td>fre</td>\n",
              "      <td>le polar moyenâgeux est décidément à la mode s...</td>\n",
              "      <td>104</td>\n",
              "      <td>NaN</td>\n",
              "      <td>faux frère</td>\n",
              "    </tr>\n",
              "    <tr>\n",
              "      <th>9726</th>\n",
              "      <td>2934265</td>\n",
              "      <td>un deuil dangereux</td>\n",
              "      <td>anne_perry</td>\n",
              "      <td>226403307X</td>\n",
              "      <td>2001</td>\n",
              "      <td>10/18</td>\n",
              "      <td>fre</td>\n",
              "      <td>décembre 1856 à londres william monk et son éq...</td>\n",
              "      <td>156</td>\n",
              "      <td>NaN</td>\n",
              "      <td>un deuil dangereux</td>\n",
              "    </tr>\n",
              "    <tr>\n",
              "      <th>2716</th>\n",
              "      <td>2882410</td>\n",
              "      <td>prevention from the inside-out</td>\n",
              "      <td>jack_pransky</td>\n",
              "      <td>1410703754</td>\n",
              "      <td>2003</td>\n",
              "      <td>1st_book_library</td>\n",
              "      <td>NaN</td>\n",
              "      <td>NaN</td>\n",
              "      <td>1</td>\n",
              "      <td>NaN</td>\n",
              "      <td>prevention from the inside-out</td>\n",
              "    </tr>\n",
              "    <tr>\n",
              "      <th>5709</th>\n",
              "      <td>2792583</td>\n",
              "      <td>symphonic paradox: the misadventures of a wayw...</td>\n",
              "      <td>sam_denov</td>\n",
              "      <td>0759675430</td>\n",
              "      <td>2002</td>\n",
              "      <td>1st_book_library</td>\n",
              "      <td>NaN</td>\n",
              "      <td>sam denov recounts his fascinating adventures ...</td>\n",
              "      <td>35</td>\n",
              "      <td>NaN</td>\n",
              "      <td>symphonic paradox: the misadventures of a wayw...</td>\n",
              "    </tr>\n",
              "  </tbody>\n",
              "</table>\n",
              "</div>\n",
              "    <div class=\"colab-df-buttons\">\n",
              "\n",
              "  <div class=\"colab-df-container\">\n",
              "    <button class=\"colab-df-convert\" onclick=\"convertToInteractive('df-fb2682fc-9520-41f8-b13f-26315c85c3bb')\"\n",
              "            title=\"Convert this dataframe to an interactive table.\"\n",
              "            style=\"display:none;\">\n",
              "\n",
              "  <svg xmlns=\"http://www.w3.org/2000/svg\" height=\"24px\" viewBox=\"0 -960 960 960\">\n",
              "    <path d=\"M120-120v-720h720v720H120Zm60-500h600v-160H180v160Zm220 220h160v-160H400v160Zm0 220h160v-160H400v160ZM180-400h160v-160H180v160Zm440 0h160v-160H620v160ZM180-180h160v-160H180v160Zm440 0h160v-160H620v160Z\"/>\n",
              "  </svg>\n",
              "    </button>\n",
              "\n",
              "  <style>\n",
              "    .colab-df-container {\n",
              "      display:flex;\n",
              "      gap: 12px;\n",
              "    }\n",
              "\n",
              "    .colab-df-convert {\n",
              "      background-color: #E8F0FE;\n",
              "      border: none;\n",
              "      border-radius: 50%;\n",
              "      cursor: pointer;\n",
              "      display: none;\n",
              "      fill: #1967D2;\n",
              "      height: 32px;\n",
              "      padding: 0 0 0 0;\n",
              "      width: 32px;\n",
              "    }\n",
              "\n",
              "    .colab-df-convert:hover {\n",
              "      background-color: #E2EBFA;\n",
              "      box-shadow: 0px 1px 2px rgba(60, 64, 67, 0.3), 0px 1px 3px 1px rgba(60, 64, 67, 0.15);\n",
              "      fill: #174EA6;\n",
              "    }\n",
              "\n",
              "    .colab-df-buttons div {\n",
              "      margin-bottom: 4px;\n",
              "    }\n",
              "\n",
              "    [theme=dark] .colab-df-convert {\n",
              "      background-color: #3B4455;\n",
              "      fill: #D2E3FC;\n",
              "    }\n",
              "\n",
              "    [theme=dark] .colab-df-convert:hover {\n",
              "      background-color: #434B5C;\n",
              "      box-shadow: 0px 1px 3px 1px rgba(0, 0, 0, 0.15);\n",
              "      filter: drop-shadow(0px 1px 2px rgba(0, 0, 0, 0.3));\n",
              "      fill: #FFFFFF;\n",
              "    }\n",
              "  </style>\n",
              "\n",
              "    <script>\n",
              "      const buttonEl =\n",
              "        document.querySelector('#df-fb2682fc-9520-41f8-b13f-26315c85c3bb button.colab-df-convert');\n",
              "      buttonEl.style.display =\n",
              "        google.colab.kernel.accessAllowed ? 'block' : 'none';\n",
              "\n",
              "      async function convertToInteractive(key) {\n",
              "        const element = document.querySelector('#df-fb2682fc-9520-41f8-b13f-26315c85c3bb');\n",
              "        const dataTable =\n",
              "          await google.colab.kernel.invokeFunction('convertToInteractive',\n",
              "                                                    [key], {});\n",
              "        if (!dataTable) return;\n",
              "\n",
              "        const docLinkHtml = 'Like what you see? Visit the ' +\n",
              "          '<a target=\"_blank\" href=https://colab.research.google.com/notebooks/data_table.ipynb>data table notebook</a>'\n",
              "          + ' to learn more about interactive tables.';\n",
              "        element.innerHTML = '';\n",
              "        dataTable['output_type'] = 'display_data';\n",
              "        await google.colab.output.renderOutput(dataTable, element);\n",
              "        const docLink = document.createElement('div');\n",
              "        docLink.innerHTML = docLinkHtml;\n",
              "        element.appendChild(docLink);\n",
              "      }\n",
              "    </script>\n",
              "  </div>\n",
              "\n",
              "\n",
              "<div id=\"df-176a0843-7d38-421a-ae37-5e56af255d26\">\n",
              "  <button class=\"colab-df-quickchart\" onclick=\"quickchart('df-176a0843-7d38-421a-ae37-5e56af255d26')\"\n",
              "            title=\"Suggest charts.\"\n",
              "            style=\"display:none;\">\n",
              "\n",
              "<svg xmlns=\"http://www.w3.org/2000/svg\" height=\"24px\"viewBox=\"0 0 24 24\"\n",
              "     width=\"24px\">\n",
              "    <g>\n",
              "        <path d=\"M19 3H5c-1.1 0-2 .9-2 2v14c0 1.1.9 2 2 2h14c1.1 0 2-.9 2-2V5c0-1.1-.9-2-2-2zM9 17H7v-7h2v7zm4 0h-2V7h2v10zm4 0h-2v-4h2v4z\"/>\n",
              "    </g>\n",
              "</svg>\n",
              "  </button>\n",
              "\n",
              "<style>\n",
              "  .colab-df-quickchart {\n",
              "    background-color: #E8F0FE;\n",
              "    border: none;\n",
              "    border-radius: 50%;\n",
              "    cursor: pointer;\n",
              "    display: none;\n",
              "    fill: #1967D2;\n",
              "    height: 32px;\n",
              "    padding: 0 0 0 0;\n",
              "    width: 32px;\n",
              "  }\n",
              "\n",
              "  .colab-df-quickchart:hover {\n",
              "    background-color: #E2EBFA;\n",
              "    box-shadow: 0px 1px 2px rgba(60, 64, 67, 0.3), 0px 1px 3px 1px rgba(60, 64, 67, 0.15);\n",
              "    fill: #174EA6;\n",
              "  }\n",
              "\n",
              "  [theme=dark] .colab-df-quickchart {\n",
              "    background-color: #3B4455;\n",
              "    fill: #D2E3FC;\n",
              "  }\n",
              "\n",
              "  [theme=dark] .colab-df-quickchart:hover {\n",
              "    background-color: #434B5C;\n",
              "    box-shadow: 0px 1px 3px 1px rgba(0, 0, 0, 0.15);\n",
              "    filter: drop-shadow(0px 1px 2px rgba(0, 0, 0, 0.3));\n",
              "    fill: #FFFFFF;\n",
              "  }\n",
              "</style>\n",
              "\n",
              "  <script>\n",
              "    async function quickchart(key) {\n",
              "      const charts = await google.colab.kernel.invokeFunction(\n",
              "          'suggestCharts', [key], {});\n",
              "    }\n",
              "    (() => {\n",
              "      let quickchartButtonEl =\n",
              "        document.querySelector('#df-176a0843-7d38-421a-ae37-5e56af255d26 button');\n",
              "      quickchartButtonEl.style.display =\n",
              "        google.colab.kernel.accessAllowed ? 'block' : 'none';\n",
              "    })();\n",
              "  </script>\n",
              "</div>\n",
              "    </div>\n",
              "  </div>\n"
            ]
          },
          "metadata": {},
          "execution_count": 91
        }
      ]
    },
    {
      "cell_type": "code",
      "source": [
        "#Merge All the Textual Summary into a Single Summary Column\n",
        "\n",
        "books_data[\"bow\"] = books_data[[\"BookSeriesInfo\", 'Authors', 'Publisher', 'Language']].fillna('').agg(' '.join, axis=1)\n",
        "books_data.bow.iloc[83]"
      ],
      "metadata": {
        "id": "N_k0RRPbXIVA",
        "colab": {
          "base_uri": "https://localhost:8080/",
          "height": 36
        },
        "outputId": "5ebc00f5-9dd2-45d7-e71c-aa4e66b5c0e5"
      },
      "execution_count": 92,
      "outputs": [
        {
          "output_type": "execute_result",
          "data": {
            "text/plain": [
              "' laszlo_fuchs academic_press '"
            ],
            "application/vnd.google.colaboratory.intrinsic+json": {
              "type": "string"
            }
          },
          "metadata": {},
          "execution_count": 92
        }
      ]
    },
    {
      "cell_type": "code",
      "source": [
        "# Save cleaned data\n",
        "books_data.to_csv(\"/content/drive/MyDrive/Datasets/Goodreads/preprocessed.csv\", sep=\",\", index=False)"
      ],
      "metadata": {
        "id": "j8k-7VySXTkC"
      },
      "execution_count": 93,
      "outputs": []
    },
    {
      "cell_type": "code",
      "source": [
        "fe_data = pd.read_csv(\"/content/drive/MyDrive/Datasets/Goodreads/preprocessed.csv\", usecols=[\"Id\", \"Name\", \"Description\", \"bow\"])\n",
        "fe_data.head()"
      ],
      "metadata": {
        "id": "tijrRe3F-p6p",
        "colab": {
          "base_uri": "https://localhost:8080/",
          "height": 206
        },
        "outputId": "345dc190-5eb4-4b93-86f7-975a05d71c8e"
      },
      "execution_count": 95,
      "outputs": [
        {
          "output_type": "execute_result",
          "data": {
            "text/plain": [
              "        Id                                               Name  \\\n",
              "0  2312681  the it's just lunch guide to dating in san die...   \n",
              "1  2094452                                         faux frère   \n",
              "2  2934265                                 un deuil dangereux   \n",
              "3  2882410                     prevention from the inside-out   \n",
              "4  2792583  symphonic paradox: the misadventures of a wayw...   \n",
              "\n",
              "                                         Description  \\\n",
              "0  want to make good dates great mediocre dates m...   \n",
              "1  le polar moyenâgeux est décidément à la mode s...   \n",
              "2  décembre 1856 à londres william monk et son éq...   \n",
              "3                                                NaN   \n",
              "4  sam denov recounts his fascinating adventures ...   \n",
              "\n",
              "                               bow  \n",
              "0    cathy_a._loe 10_finger_press   \n",
              "1           paul_doherty 10/18 fre  \n",
              "2             anne_perry 10/18 fre  \n",
              "3   jack_pransky 1st_book_library   \n",
              "4      sam_denov 1st_book_library   "
            ],
            "text/html": [
              "\n",
              "  <div id=\"df-fa15d12d-82ba-4a5f-afae-dd39b332b135\" class=\"colab-df-container\">\n",
              "    <div>\n",
              "<style scoped>\n",
              "    .dataframe tbody tr th:only-of-type {\n",
              "        vertical-align: middle;\n",
              "    }\n",
              "\n",
              "    .dataframe tbody tr th {\n",
              "        vertical-align: top;\n",
              "    }\n",
              "\n",
              "    .dataframe thead th {\n",
              "        text-align: right;\n",
              "    }\n",
              "</style>\n",
              "<table border=\"1\" class=\"dataframe\">\n",
              "  <thead>\n",
              "    <tr style=\"text-align: right;\">\n",
              "      <th></th>\n",
              "      <th>Id</th>\n",
              "      <th>Name</th>\n",
              "      <th>Description</th>\n",
              "      <th>bow</th>\n",
              "    </tr>\n",
              "  </thead>\n",
              "  <tbody>\n",
              "    <tr>\n",
              "      <th>0</th>\n",
              "      <td>2312681</td>\n",
              "      <td>the it's just lunch guide to dating in san die...</td>\n",
              "      <td>want to make good dates great mediocre dates m...</td>\n",
              "      <td>cathy_a._loe 10_finger_press</td>\n",
              "    </tr>\n",
              "    <tr>\n",
              "      <th>1</th>\n",
              "      <td>2094452</td>\n",
              "      <td>faux frère</td>\n",
              "      <td>le polar moyenâgeux est décidément à la mode s...</td>\n",
              "      <td>paul_doherty 10/18 fre</td>\n",
              "    </tr>\n",
              "    <tr>\n",
              "      <th>2</th>\n",
              "      <td>2934265</td>\n",
              "      <td>un deuil dangereux</td>\n",
              "      <td>décembre 1856 à londres william monk et son éq...</td>\n",
              "      <td>anne_perry 10/18 fre</td>\n",
              "    </tr>\n",
              "    <tr>\n",
              "      <th>3</th>\n",
              "      <td>2882410</td>\n",
              "      <td>prevention from the inside-out</td>\n",
              "      <td>NaN</td>\n",
              "      <td>jack_pransky 1st_book_library</td>\n",
              "    </tr>\n",
              "    <tr>\n",
              "      <th>4</th>\n",
              "      <td>2792583</td>\n",
              "      <td>symphonic paradox: the misadventures of a wayw...</td>\n",
              "      <td>sam denov recounts his fascinating adventures ...</td>\n",
              "      <td>sam_denov 1st_book_library</td>\n",
              "    </tr>\n",
              "  </tbody>\n",
              "</table>\n",
              "</div>\n",
              "    <div class=\"colab-df-buttons\">\n",
              "\n",
              "  <div class=\"colab-df-container\">\n",
              "    <button class=\"colab-df-convert\" onclick=\"convertToInteractive('df-fa15d12d-82ba-4a5f-afae-dd39b332b135')\"\n",
              "            title=\"Convert this dataframe to an interactive table.\"\n",
              "            style=\"display:none;\">\n",
              "\n",
              "  <svg xmlns=\"http://www.w3.org/2000/svg\" height=\"24px\" viewBox=\"0 -960 960 960\">\n",
              "    <path d=\"M120-120v-720h720v720H120Zm60-500h600v-160H180v160Zm220 220h160v-160H400v160Zm0 220h160v-160H400v160ZM180-400h160v-160H180v160Zm440 0h160v-160H620v160ZM180-180h160v-160H180v160Zm440 0h160v-160H620v160Z\"/>\n",
              "  </svg>\n",
              "    </button>\n",
              "\n",
              "  <style>\n",
              "    .colab-df-container {\n",
              "      display:flex;\n",
              "      gap: 12px;\n",
              "    }\n",
              "\n",
              "    .colab-df-convert {\n",
              "      background-color: #E8F0FE;\n",
              "      border: none;\n",
              "      border-radius: 50%;\n",
              "      cursor: pointer;\n",
              "      display: none;\n",
              "      fill: #1967D2;\n",
              "      height: 32px;\n",
              "      padding: 0 0 0 0;\n",
              "      width: 32px;\n",
              "    }\n",
              "\n",
              "    .colab-df-convert:hover {\n",
              "      background-color: #E2EBFA;\n",
              "      box-shadow: 0px 1px 2px rgba(60, 64, 67, 0.3), 0px 1px 3px 1px rgba(60, 64, 67, 0.15);\n",
              "      fill: #174EA6;\n",
              "    }\n",
              "\n",
              "    .colab-df-buttons div {\n",
              "      margin-bottom: 4px;\n",
              "    }\n",
              "\n",
              "    [theme=dark] .colab-df-convert {\n",
              "      background-color: #3B4455;\n",
              "      fill: #D2E3FC;\n",
              "    }\n",
              "\n",
              "    [theme=dark] .colab-df-convert:hover {\n",
              "      background-color: #434B5C;\n",
              "      box-shadow: 0px 1px 3px 1px rgba(0, 0, 0, 0.15);\n",
              "      filter: drop-shadow(0px 1px 2px rgba(0, 0, 0, 0.3));\n",
              "      fill: #FFFFFF;\n",
              "    }\n",
              "  </style>\n",
              "\n",
              "    <script>\n",
              "      const buttonEl =\n",
              "        document.querySelector('#df-fa15d12d-82ba-4a5f-afae-dd39b332b135 button.colab-df-convert');\n",
              "      buttonEl.style.display =\n",
              "        google.colab.kernel.accessAllowed ? 'block' : 'none';\n",
              "\n",
              "      async function convertToInteractive(key) {\n",
              "        const element = document.querySelector('#df-fa15d12d-82ba-4a5f-afae-dd39b332b135');\n",
              "        const dataTable =\n",
              "          await google.colab.kernel.invokeFunction('convertToInteractive',\n",
              "                                                    [key], {});\n",
              "        if (!dataTable) return;\n",
              "\n",
              "        const docLinkHtml = 'Like what you see? Visit the ' +\n",
              "          '<a target=\"_blank\" href=https://colab.research.google.com/notebooks/data_table.ipynb>data table notebook</a>'\n",
              "          + ' to learn more about interactive tables.';\n",
              "        element.innerHTML = '';\n",
              "        dataTable['output_type'] = 'display_data';\n",
              "        await google.colab.output.renderOutput(dataTable, element);\n",
              "        const docLink = document.createElement('div');\n",
              "        docLink.innerHTML = docLinkHtml;\n",
              "        element.appendChild(docLink);\n",
              "      }\n",
              "    </script>\n",
              "  </div>\n",
              "\n",
              "\n",
              "<div id=\"df-d812010a-9cb8-43f9-8166-654d9508fdbc\">\n",
              "  <button class=\"colab-df-quickchart\" onclick=\"quickchart('df-d812010a-9cb8-43f9-8166-654d9508fdbc')\"\n",
              "            title=\"Suggest charts.\"\n",
              "            style=\"display:none;\">\n",
              "\n",
              "<svg xmlns=\"http://www.w3.org/2000/svg\" height=\"24px\"viewBox=\"0 0 24 24\"\n",
              "     width=\"24px\">\n",
              "    <g>\n",
              "        <path d=\"M19 3H5c-1.1 0-2 .9-2 2v14c0 1.1.9 2 2 2h14c1.1 0 2-.9 2-2V5c0-1.1-.9-2-2-2zM9 17H7v-7h2v7zm4 0h-2V7h2v10zm4 0h-2v-4h2v4z\"/>\n",
              "    </g>\n",
              "</svg>\n",
              "  </button>\n",
              "\n",
              "<style>\n",
              "  .colab-df-quickchart {\n",
              "    background-color: #E8F0FE;\n",
              "    border: none;\n",
              "    border-radius: 50%;\n",
              "    cursor: pointer;\n",
              "    display: none;\n",
              "    fill: #1967D2;\n",
              "    height: 32px;\n",
              "    padding: 0 0 0 0;\n",
              "    width: 32px;\n",
              "  }\n",
              "\n",
              "  .colab-df-quickchart:hover {\n",
              "    background-color: #E2EBFA;\n",
              "    box-shadow: 0px 1px 2px rgba(60, 64, 67, 0.3), 0px 1px 3px 1px rgba(60, 64, 67, 0.15);\n",
              "    fill: #174EA6;\n",
              "  }\n",
              "\n",
              "  [theme=dark] .colab-df-quickchart {\n",
              "    background-color: #3B4455;\n",
              "    fill: #D2E3FC;\n",
              "  }\n",
              "\n",
              "  [theme=dark] .colab-df-quickchart:hover {\n",
              "    background-color: #434B5C;\n",
              "    box-shadow: 0px 1px 3px 1px rgba(0, 0, 0, 0.15);\n",
              "    filter: drop-shadow(0px 1px 2px rgba(0, 0, 0, 0.3));\n",
              "    fill: #FFFFFF;\n",
              "  }\n",
              "</style>\n",
              "\n",
              "  <script>\n",
              "    async function quickchart(key) {\n",
              "      const charts = await google.colab.kernel.invokeFunction(\n",
              "          'suggestCharts', [key], {});\n",
              "    }\n",
              "    (() => {\n",
              "      let quickchartButtonEl =\n",
              "        document.querySelector('#df-d812010a-9cb8-43f9-8166-654d9508fdbc button');\n",
              "      quickchartButtonEl.style.display =\n",
              "        google.colab.kernel.accessAllowed ? 'block' : 'none';\n",
              "    })();\n",
              "  </script>\n",
              "</div>\n",
              "    </div>\n",
              "  </div>\n"
            ]
          },
          "metadata": {},
          "execution_count": 95
        }
      ]
    },
    {
      "cell_type": "code",
      "source": [
        "fe_data[\"Description\"] = fe_data[\"Description\"].astype(str)"
      ],
      "metadata": {
        "id": "mSZsoU26R0pf"
      },
      "execution_count": 96,
      "outputs": []
    },
    {
      "cell_type": "code",
      "source": [
        "fe_data"
      ],
      "metadata": {
        "colab": {
          "base_uri": "https://localhost:8080/",
          "height": 423
        },
        "id": "nPEErZ9NU2sN",
        "outputId": "f784bb15-bcd4-4ffc-9da1-cc98641ca3c6"
      },
      "execution_count": 97,
      "outputs": [
        {
          "output_type": "execute_result",
          "data": {
            "text/plain": [
              "           Id                                               Name  \\\n",
              "0     2312681  the it's just lunch guide to dating in san die...   \n",
              "1     2094452                                         faux frère   \n",
              "2     2934265                                 un deuil dangereux   \n",
              "3     2882410                     prevention from the inside-out   \n",
              "4     2792583  symphonic paradox: the misadventures of a wayw...   \n",
              "...       ...                                                ...   \n",
              "9995  2489508                                 gymboree baby play   \n",
              "9996  2679310                                          the hadra   \n",
              "9997  2145700  winnie pooh tesoros para llevar (disney winnie...   \n",
              "9998  2000878  concepts of modern art revised and enlarge (wo...   \n",
              "9999  2145196   english standard version- thinline trutone bible   \n",
              "\n",
              "                                            Description  \\\n",
              "0     want to make good dates great mediocre dates m...   \n",
              "1     le polar moyenâgeux est décidément à la mode s...   \n",
              "2     décembre 1856 à londres william monk et son éq...   \n",
              "3                                                   nan   \n",
              "4     sam denov recounts his fascinating adventures ...   \n",
              "...                                                 ...   \n",
              "9995                                                nan   \n",
              "9996  this third book in diana riverss critically ac...   \n",
              "9997                                                nan   \n",
              "9998  the main concepts and development of art from ...   \n",
              "9999  the topselling esv thinline bible is ideal for...   \n",
              "\n",
              "                                  bow  \n",
              "0       cathy_a._loe 10_finger_press   \n",
              "1              paul_doherty 10/18 fre  \n",
              "2                anne_perry 10/18 fre  \n",
              "3      jack_pransky 1st_book_library   \n",
              "4         sam_denov 1st_book_library   \n",
              "...                               ...  \n",
              "9995                  wendy_s._masi    \n",
              "9996                diana_rivers  eng  \n",
              "9997                arlette_de_alba    \n",
              "9998                  nikos_stangos    \n",
              "9999                      anonymous    \n",
              "\n",
              "[10000 rows x 4 columns]"
            ],
            "text/html": [
              "\n",
              "  <div id=\"df-0b7df8b4-4998-43bf-9ce4-1c9edefb8415\" class=\"colab-df-container\">\n",
              "    <div>\n",
              "<style scoped>\n",
              "    .dataframe tbody tr th:only-of-type {\n",
              "        vertical-align: middle;\n",
              "    }\n",
              "\n",
              "    .dataframe tbody tr th {\n",
              "        vertical-align: top;\n",
              "    }\n",
              "\n",
              "    .dataframe thead th {\n",
              "        text-align: right;\n",
              "    }\n",
              "</style>\n",
              "<table border=\"1\" class=\"dataframe\">\n",
              "  <thead>\n",
              "    <tr style=\"text-align: right;\">\n",
              "      <th></th>\n",
              "      <th>Id</th>\n",
              "      <th>Name</th>\n",
              "      <th>Description</th>\n",
              "      <th>bow</th>\n",
              "    </tr>\n",
              "  </thead>\n",
              "  <tbody>\n",
              "    <tr>\n",
              "      <th>0</th>\n",
              "      <td>2312681</td>\n",
              "      <td>the it's just lunch guide to dating in san die...</td>\n",
              "      <td>want to make good dates great mediocre dates m...</td>\n",
              "      <td>cathy_a._loe 10_finger_press</td>\n",
              "    </tr>\n",
              "    <tr>\n",
              "      <th>1</th>\n",
              "      <td>2094452</td>\n",
              "      <td>faux frère</td>\n",
              "      <td>le polar moyenâgeux est décidément à la mode s...</td>\n",
              "      <td>paul_doherty 10/18 fre</td>\n",
              "    </tr>\n",
              "    <tr>\n",
              "      <th>2</th>\n",
              "      <td>2934265</td>\n",
              "      <td>un deuil dangereux</td>\n",
              "      <td>décembre 1856 à londres william monk et son éq...</td>\n",
              "      <td>anne_perry 10/18 fre</td>\n",
              "    </tr>\n",
              "    <tr>\n",
              "      <th>3</th>\n",
              "      <td>2882410</td>\n",
              "      <td>prevention from the inside-out</td>\n",
              "      <td>nan</td>\n",
              "      <td>jack_pransky 1st_book_library</td>\n",
              "    </tr>\n",
              "    <tr>\n",
              "      <th>4</th>\n",
              "      <td>2792583</td>\n",
              "      <td>symphonic paradox: the misadventures of a wayw...</td>\n",
              "      <td>sam denov recounts his fascinating adventures ...</td>\n",
              "      <td>sam_denov 1st_book_library</td>\n",
              "    </tr>\n",
              "    <tr>\n",
              "      <th>...</th>\n",
              "      <td>...</td>\n",
              "      <td>...</td>\n",
              "      <td>...</td>\n",
              "      <td>...</td>\n",
              "    </tr>\n",
              "    <tr>\n",
              "      <th>9995</th>\n",
              "      <td>2489508</td>\n",
              "      <td>gymboree baby play</td>\n",
              "      <td>nan</td>\n",
              "      <td>wendy_s._masi</td>\n",
              "    </tr>\n",
              "    <tr>\n",
              "      <th>9996</th>\n",
              "      <td>2679310</td>\n",
              "      <td>the hadra</td>\n",
              "      <td>this third book in diana riverss critically ac...</td>\n",
              "      <td>diana_rivers  eng</td>\n",
              "    </tr>\n",
              "    <tr>\n",
              "      <th>9997</th>\n",
              "      <td>2145700</td>\n",
              "      <td>winnie pooh tesoros para llevar (disney winnie...</td>\n",
              "      <td>nan</td>\n",
              "      <td>arlette_de_alba</td>\n",
              "    </tr>\n",
              "    <tr>\n",
              "      <th>9998</th>\n",
              "      <td>2000878</td>\n",
              "      <td>concepts of modern art revised and enlarge (wo...</td>\n",
              "      <td>the main concepts and development of art from ...</td>\n",
              "      <td>nikos_stangos</td>\n",
              "    </tr>\n",
              "    <tr>\n",
              "      <th>9999</th>\n",
              "      <td>2145196</td>\n",
              "      <td>english standard version- thinline trutone bible</td>\n",
              "      <td>the topselling esv thinline bible is ideal for...</td>\n",
              "      <td>anonymous</td>\n",
              "    </tr>\n",
              "  </tbody>\n",
              "</table>\n",
              "<p>10000 rows × 4 columns</p>\n",
              "</div>\n",
              "    <div class=\"colab-df-buttons\">\n",
              "\n",
              "  <div class=\"colab-df-container\">\n",
              "    <button class=\"colab-df-convert\" onclick=\"convertToInteractive('df-0b7df8b4-4998-43bf-9ce4-1c9edefb8415')\"\n",
              "            title=\"Convert this dataframe to an interactive table.\"\n",
              "            style=\"display:none;\">\n",
              "\n",
              "  <svg xmlns=\"http://www.w3.org/2000/svg\" height=\"24px\" viewBox=\"0 -960 960 960\">\n",
              "    <path d=\"M120-120v-720h720v720H120Zm60-500h600v-160H180v160Zm220 220h160v-160H400v160Zm0 220h160v-160H400v160ZM180-400h160v-160H180v160Zm440 0h160v-160H620v160ZM180-180h160v-160H180v160Zm440 0h160v-160H620v160Z\"/>\n",
              "  </svg>\n",
              "    </button>\n",
              "\n",
              "  <style>\n",
              "    .colab-df-container {\n",
              "      display:flex;\n",
              "      gap: 12px;\n",
              "    }\n",
              "\n",
              "    .colab-df-convert {\n",
              "      background-color: #E8F0FE;\n",
              "      border: none;\n",
              "      border-radius: 50%;\n",
              "      cursor: pointer;\n",
              "      display: none;\n",
              "      fill: #1967D2;\n",
              "      height: 32px;\n",
              "      padding: 0 0 0 0;\n",
              "      width: 32px;\n",
              "    }\n",
              "\n",
              "    .colab-df-convert:hover {\n",
              "      background-color: #E2EBFA;\n",
              "      box-shadow: 0px 1px 2px rgba(60, 64, 67, 0.3), 0px 1px 3px 1px rgba(60, 64, 67, 0.15);\n",
              "      fill: #174EA6;\n",
              "    }\n",
              "\n",
              "    .colab-df-buttons div {\n",
              "      margin-bottom: 4px;\n",
              "    }\n",
              "\n",
              "    [theme=dark] .colab-df-convert {\n",
              "      background-color: #3B4455;\n",
              "      fill: #D2E3FC;\n",
              "    }\n",
              "\n",
              "    [theme=dark] .colab-df-convert:hover {\n",
              "      background-color: #434B5C;\n",
              "      box-shadow: 0px 1px 3px 1px rgba(0, 0, 0, 0.15);\n",
              "      filter: drop-shadow(0px 1px 2px rgba(0, 0, 0, 0.3));\n",
              "      fill: #FFFFFF;\n",
              "    }\n",
              "  </style>\n",
              "\n",
              "    <script>\n",
              "      const buttonEl =\n",
              "        document.querySelector('#df-0b7df8b4-4998-43bf-9ce4-1c9edefb8415 button.colab-df-convert');\n",
              "      buttonEl.style.display =\n",
              "        google.colab.kernel.accessAllowed ? 'block' : 'none';\n",
              "\n",
              "      async function convertToInteractive(key) {\n",
              "        const element = document.querySelector('#df-0b7df8b4-4998-43bf-9ce4-1c9edefb8415');\n",
              "        const dataTable =\n",
              "          await google.colab.kernel.invokeFunction('convertToInteractive',\n",
              "                                                    [key], {});\n",
              "        if (!dataTable) return;\n",
              "\n",
              "        const docLinkHtml = 'Like what you see? Visit the ' +\n",
              "          '<a target=\"_blank\" href=https://colab.research.google.com/notebooks/data_table.ipynb>data table notebook</a>'\n",
              "          + ' to learn more about interactive tables.';\n",
              "        element.innerHTML = '';\n",
              "        dataTable['output_type'] = 'display_data';\n",
              "        await google.colab.output.renderOutput(dataTable, element);\n",
              "        const docLink = document.createElement('div');\n",
              "        docLink.innerHTML = docLinkHtml;\n",
              "        element.appendChild(docLink);\n",
              "      }\n",
              "    </script>\n",
              "  </div>\n",
              "\n",
              "\n",
              "<div id=\"df-7df9d522-4034-441e-9777-46311316df2c\">\n",
              "  <button class=\"colab-df-quickchart\" onclick=\"quickchart('df-7df9d522-4034-441e-9777-46311316df2c')\"\n",
              "            title=\"Suggest charts.\"\n",
              "            style=\"display:none;\">\n",
              "\n",
              "<svg xmlns=\"http://www.w3.org/2000/svg\" height=\"24px\"viewBox=\"0 0 24 24\"\n",
              "     width=\"24px\">\n",
              "    <g>\n",
              "        <path d=\"M19 3H5c-1.1 0-2 .9-2 2v14c0 1.1.9 2 2 2h14c1.1 0 2-.9 2-2V5c0-1.1-.9-2-2-2zM9 17H7v-7h2v7zm4 0h-2V7h2v10zm4 0h-2v-4h2v4z\"/>\n",
              "    </g>\n",
              "</svg>\n",
              "  </button>\n",
              "\n",
              "<style>\n",
              "  .colab-df-quickchart {\n",
              "    background-color: #E8F0FE;\n",
              "    border: none;\n",
              "    border-radius: 50%;\n",
              "    cursor: pointer;\n",
              "    display: none;\n",
              "    fill: #1967D2;\n",
              "    height: 32px;\n",
              "    padding: 0 0 0 0;\n",
              "    width: 32px;\n",
              "  }\n",
              "\n",
              "  .colab-df-quickchart:hover {\n",
              "    background-color: #E2EBFA;\n",
              "    box-shadow: 0px 1px 2px rgba(60, 64, 67, 0.3), 0px 1px 3px 1px rgba(60, 64, 67, 0.15);\n",
              "    fill: #174EA6;\n",
              "  }\n",
              "\n",
              "  [theme=dark] .colab-df-quickchart {\n",
              "    background-color: #3B4455;\n",
              "    fill: #D2E3FC;\n",
              "  }\n",
              "\n",
              "  [theme=dark] .colab-df-quickchart:hover {\n",
              "    background-color: #434B5C;\n",
              "    box-shadow: 0px 1px 3px 1px rgba(0, 0, 0, 0.15);\n",
              "    filter: drop-shadow(0px 1px 2px rgba(0, 0, 0, 0.3));\n",
              "    fill: #FFFFFF;\n",
              "  }\n",
              "</style>\n",
              "\n",
              "  <script>\n",
              "    async function quickchart(key) {\n",
              "      const charts = await google.colab.kernel.invokeFunction(\n",
              "          'suggestCharts', [key], {});\n",
              "    }\n",
              "    (() => {\n",
              "      let quickchartButtonEl =\n",
              "        document.querySelector('#df-7df9d522-4034-441e-9777-46311316df2c button');\n",
              "      quickchartButtonEl.style.display =\n",
              "        google.colab.kernel.accessAllowed ? 'block' : 'none';\n",
              "    })();\n",
              "  </script>\n",
              "</div>\n",
              "    </div>\n",
              "  </div>\n"
            ]
          },
          "metadata": {},
          "execution_count": 97
        }
      ]
    },
    {
      "cell_type": "code",
      "source": [
        "kw_model = KeyBERT()\n",
        "\n",
        "def get_keywords(text):\n",
        "    keywords = kw_model.extract_keywords(text, keyphrase_ngram_range=(1, 1), stop_words=\"english\")\n",
        "    keywords = \" \".join([k[0] for k in keywords])\n",
        "    return keywords\n",
        "\n",
        "fe_data[\"keywords\"] = fe_data.Description.apply(get_keywords)"
      ],
      "metadata": {
        "id": "0whKb-MtQFPH"
      },
      "execution_count": 98,
      "outputs": []
    },
    {
      "cell_type": "code",
      "source": [
        "fe_data.keywords.head()"
      ],
      "metadata": {
        "colab": {
          "base_uri": "https://localhost:8080/"
        },
        "id": "hE1x2ZhQQIho",
        "outputId": "7930c67d-670b-40ee-ed87-c78185893c2b"
      },
      "execution_count": 99,
      "outputs": [
        {
          "output_type": "execute_result",
          "data": {
            "text/plain": [
              "0        dates dating datingplus date datefind\n",
              "1     doherty corbette corbett polar enquêteur\n",
              "2        monk basil poignardée inspecteur chef\n",
              "3                                          nan\n",
              "4    denov orchestras music musician classical\n",
              "Name: keywords, dtype: object"
            ]
          },
          "metadata": {},
          "execution_count": 99
        }
      ]
    },
    {
      "cell_type": "code",
      "source": [
        "fe_data[\"keywords\"] = fe_data[['bow', 'keywords']].fillna('').agg(' '.join, axis=1)\n",
        "fe_data.drop(['bow', 'Description'], axis = 1, inplace=True)"
      ],
      "metadata": {
        "id": "UxrtUJiVQQON"
      },
      "execution_count": 100,
      "outputs": []
    },
    {
      "cell_type": "code",
      "source": [
        "fe_data = fe_data.drop_duplicates(subset=[\"Name\"], keep='first')"
      ],
      "metadata": {
        "id": "ZRFBmWV_QSpI"
      },
      "execution_count": 101,
      "outputs": []
    },
    {
      "cell_type": "code",
      "source": [
        "fe_data.to_csv(\"/content/drive/MyDrive/Datasets/Goodreads/features.csv\", sep=\",\", index=False)\n"
      ],
      "metadata": {
        "id": "Y50NBRchQ59U"
      },
      "execution_count": 102,
      "outputs": []
    },
    {
      "cell_type": "code",
      "source": [
        "model_data = pd.read_csv(\"/content/drive/MyDrive/Datasets/Goodreads/features.csv\")\n",
        "model_data.head()"
      ],
      "metadata": {
        "colab": {
          "base_uri": "https://localhost:8080/",
          "height": 206
        },
        "id": "wR3sPpJua6SP",
        "outputId": "2e1dafc9-b5c2-4e03-c5f7-f06bf0b74ed0"
      },
      "execution_count": 103,
      "outputs": [
        {
          "output_type": "execute_result",
          "data": {
            "text/plain": [
              "        Id                                               Name  \\\n",
              "0  2312681  the it's just lunch guide to dating in san die...   \n",
              "1  2094452                                         faux frère   \n",
              "2  2934265                                 un deuil dangereux   \n",
              "3  2882410                     prevention from the inside-out   \n",
              "4  2792583  symphonic paradox: the misadventures of a wayw...   \n",
              "\n",
              "                                            keywords  \n",
              "0   cathy_a._loe 10_finger_press  dates dating da...  \n",
              "1   paul_doherty 10/18 fre doherty corbette corbe...  \n",
              "2   anne_perry 10/18 fre monk basil poignardée in...  \n",
              "3                 jack_pransky 1st_book_library  nan  \n",
              "4   sam_denov 1st_book_library  denov orchestras ...  "
            ],
            "text/html": [
              "\n",
              "  <div id=\"df-a00b659b-5a29-4082-a4c5-23d974c884f6\" class=\"colab-df-container\">\n",
              "    <div>\n",
              "<style scoped>\n",
              "    .dataframe tbody tr th:only-of-type {\n",
              "        vertical-align: middle;\n",
              "    }\n",
              "\n",
              "    .dataframe tbody tr th {\n",
              "        vertical-align: top;\n",
              "    }\n",
              "\n",
              "    .dataframe thead th {\n",
              "        text-align: right;\n",
              "    }\n",
              "</style>\n",
              "<table border=\"1\" class=\"dataframe\">\n",
              "  <thead>\n",
              "    <tr style=\"text-align: right;\">\n",
              "      <th></th>\n",
              "      <th>Id</th>\n",
              "      <th>Name</th>\n",
              "      <th>keywords</th>\n",
              "    </tr>\n",
              "  </thead>\n",
              "  <tbody>\n",
              "    <tr>\n",
              "      <th>0</th>\n",
              "      <td>2312681</td>\n",
              "      <td>the it's just lunch guide to dating in san die...</td>\n",
              "      <td>cathy_a._loe 10_finger_press  dates dating da...</td>\n",
              "    </tr>\n",
              "    <tr>\n",
              "      <th>1</th>\n",
              "      <td>2094452</td>\n",
              "      <td>faux frère</td>\n",
              "      <td>paul_doherty 10/18 fre doherty corbette corbe...</td>\n",
              "    </tr>\n",
              "    <tr>\n",
              "      <th>2</th>\n",
              "      <td>2934265</td>\n",
              "      <td>un deuil dangereux</td>\n",
              "      <td>anne_perry 10/18 fre monk basil poignardée in...</td>\n",
              "    </tr>\n",
              "    <tr>\n",
              "      <th>3</th>\n",
              "      <td>2882410</td>\n",
              "      <td>prevention from the inside-out</td>\n",
              "      <td>jack_pransky 1st_book_library  nan</td>\n",
              "    </tr>\n",
              "    <tr>\n",
              "      <th>4</th>\n",
              "      <td>2792583</td>\n",
              "      <td>symphonic paradox: the misadventures of a wayw...</td>\n",
              "      <td>sam_denov 1st_book_library  denov orchestras ...</td>\n",
              "    </tr>\n",
              "  </tbody>\n",
              "</table>\n",
              "</div>\n",
              "    <div class=\"colab-df-buttons\">\n",
              "\n",
              "  <div class=\"colab-df-container\">\n",
              "    <button class=\"colab-df-convert\" onclick=\"convertToInteractive('df-a00b659b-5a29-4082-a4c5-23d974c884f6')\"\n",
              "            title=\"Convert this dataframe to an interactive table.\"\n",
              "            style=\"display:none;\">\n",
              "\n",
              "  <svg xmlns=\"http://www.w3.org/2000/svg\" height=\"24px\" viewBox=\"0 -960 960 960\">\n",
              "    <path d=\"M120-120v-720h720v720H120Zm60-500h600v-160H180v160Zm220 220h160v-160H400v160Zm0 220h160v-160H400v160ZM180-400h160v-160H180v160Zm440 0h160v-160H620v160ZM180-180h160v-160H180v160Zm440 0h160v-160H620v160Z\"/>\n",
              "  </svg>\n",
              "    </button>\n",
              "\n",
              "  <style>\n",
              "    .colab-df-container {\n",
              "      display:flex;\n",
              "      gap: 12px;\n",
              "    }\n",
              "\n",
              "    .colab-df-convert {\n",
              "      background-color: #E8F0FE;\n",
              "      border: none;\n",
              "      border-radius: 50%;\n",
              "      cursor: pointer;\n",
              "      display: none;\n",
              "      fill: #1967D2;\n",
              "      height: 32px;\n",
              "      padding: 0 0 0 0;\n",
              "      width: 32px;\n",
              "    }\n",
              "\n",
              "    .colab-df-convert:hover {\n",
              "      background-color: #E2EBFA;\n",
              "      box-shadow: 0px 1px 2px rgba(60, 64, 67, 0.3), 0px 1px 3px 1px rgba(60, 64, 67, 0.15);\n",
              "      fill: #174EA6;\n",
              "    }\n",
              "\n",
              "    .colab-df-buttons div {\n",
              "      margin-bottom: 4px;\n",
              "    }\n",
              "\n",
              "    [theme=dark] .colab-df-convert {\n",
              "      background-color: #3B4455;\n",
              "      fill: #D2E3FC;\n",
              "    }\n",
              "\n",
              "    [theme=dark] .colab-df-convert:hover {\n",
              "      background-color: #434B5C;\n",
              "      box-shadow: 0px 1px 3px 1px rgba(0, 0, 0, 0.15);\n",
              "      filter: drop-shadow(0px 1px 2px rgba(0, 0, 0, 0.3));\n",
              "      fill: #FFFFFF;\n",
              "    }\n",
              "  </style>\n",
              "\n",
              "    <script>\n",
              "      const buttonEl =\n",
              "        document.querySelector('#df-a00b659b-5a29-4082-a4c5-23d974c884f6 button.colab-df-convert');\n",
              "      buttonEl.style.display =\n",
              "        google.colab.kernel.accessAllowed ? 'block' : 'none';\n",
              "\n",
              "      async function convertToInteractive(key) {\n",
              "        const element = document.querySelector('#df-a00b659b-5a29-4082-a4c5-23d974c884f6');\n",
              "        const dataTable =\n",
              "          await google.colab.kernel.invokeFunction('convertToInteractive',\n",
              "                                                    [key], {});\n",
              "        if (!dataTable) return;\n",
              "\n",
              "        const docLinkHtml = 'Like what you see? Visit the ' +\n",
              "          '<a target=\"_blank\" href=https://colab.research.google.com/notebooks/data_table.ipynb>data table notebook</a>'\n",
              "          + ' to learn more about interactive tables.';\n",
              "        element.innerHTML = '';\n",
              "        dataTable['output_type'] = 'display_data';\n",
              "        await google.colab.output.renderOutput(dataTable, element);\n",
              "        const docLink = document.createElement('div');\n",
              "        docLink.innerHTML = docLinkHtml;\n",
              "        element.appendChild(docLink);\n",
              "      }\n",
              "    </script>\n",
              "  </div>\n",
              "\n",
              "\n",
              "<div id=\"df-c3909863-8105-4050-9145-3b70275b1023\">\n",
              "  <button class=\"colab-df-quickchart\" onclick=\"quickchart('df-c3909863-8105-4050-9145-3b70275b1023')\"\n",
              "            title=\"Suggest charts.\"\n",
              "            style=\"display:none;\">\n",
              "\n",
              "<svg xmlns=\"http://www.w3.org/2000/svg\" height=\"24px\"viewBox=\"0 0 24 24\"\n",
              "     width=\"24px\">\n",
              "    <g>\n",
              "        <path d=\"M19 3H5c-1.1 0-2 .9-2 2v14c0 1.1.9 2 2 2h14c1.1 0 2-.9 2-2V5c0-1.1-.9-2-2-2zM9 17H7v-7h2v7zm4 0h-2V7h2v10zm4 0h-2v-4h2v4z\"/>\n",
              "    </g>\n",
              "</svg>\n",
              "  </button>\n",
              "\n",
              "<style>\n",
              "  .colab-df-quickchart {\n",
              "    background-color: #E8F0FE;\n",
              "    border: none;\n",
              "    border-radius: 50%;\n",
              "    cursor: pointer;\n",
              "    display: none;\n",
              "    fill: #1967D2;\n",
              "    height: 32px;\n",
              "    padding: 0 0 0 0;\n",
              "    width: 32px;\n",
              "  }\n",
              "\n",
              "  .colab-df-quickchart:hover {\n",
              "    background-color: #E2EBFA;\n",
              "    box-shadow: 0px 1px 2px rgba(60, 64, 67, 0.3), 0px 1px 3px 1px rgba(60, 64, 67, 0.15);\n",
              "    fill: #174EA6;\n",
              "  }\n",
              "\n",
              "  [theme=dark] .colab-df-quickchart {\n",
              "    background-color: #3B4455;\n",
              "    fill: #D2E3FC;\n",
              "  }\n",
              "\n",
              "  [theme=dark] .colab-df-quickchart:hover {\n",
              "    background-color: #434B5C;\n",
              "    box-shadow: 0px 1px 3px 1px rgba(0, 0, 0, 0.15);\n",
              "    filter: drop-shadow(0px 1px 2px rgba(0, 0, 0, 0.3));\n",
              "    fill: #FFFFFF;\n",
              "  }\n",
              "</style>\n",
              "\n",
              "  <script>\n",
              "    async function quickchart(key) {\n",
              "      const charts = await google.colab.kernel.invokeFunction(\n",
              "          'suggestCharts', [key], {});\n",
              "    }\n",
              "    (() => {\n",
              "      let quickchartButtonEl =\n",
              "        document.querySelector('#df-c3909863-8105-4050-9145-3b70275b1023 button');\n",
              "      quickchartButtonEl.style.display =\n",
              "        google.colab.kernel.accessAllowed ? 'block' : 'none';\n",
              "    })();\n",
              "  </script>\n",
              "</div>\n",
              "    </div>\n",
              "  </div>\n"
            ]
          },
          "metadata": {},
          "execution_count": 103
        }
      ]
    },
    {
      "cell_type": "code",
      "source": [
        "from sklearn.feature_extraction.text import TfidfVectorizer\n",
        "tfidf = TfidfVectorizer(analyzer = 'word',\n",
        "                        min_df=3,\n",
        "                        max_df = 0.6,\n",
        "                        stop_words=\"english\",\n",
        "                        encoding = 'utf-8',\n",
        "                        token_pattern=r\"(?u)\\S\\S+\")\n",
        "tfidf_encoding = tfidf.fit_transform(fe_data[\"keywords\"])"
      ],
      "metadata": {
        "id": "y-0nko1gQU7y"
      },
      "execution_count": 104,
      "outputs": []
    },
    {
      "cell_type": "code",
      "source": [
        "# Preview first 100 words in the vocabulary\n",
        "print(tfidf.get_feature_names_out()[1:100])"
      ],
      "metadata": {
        "colab": {
          "base_uri": "https://localhost:8080/"
        },
        "id": "dNc6qxOJQXBQ",
        "outputId": "bef9cc51-de65-4314-9d1d-928db2440aae"
      },
      "execution_count": 105,
      "outputs": [
        {
          "output_type": "stream",
          "name": "stdout",
          "text": [
            "['1800s' '1814' '1830' '1850' '1880' '1900s' '1912' '1914' '1916' '1918'\n",
            " '1920' '1920s' '1930s' '1935' '1940' '1940s' '1942' '1944' '1945' '1960s'\n",
            " '1996' '1997' '1999' '1st_book_library' '2001' '2004' '3d' '911'\n",
            " 'a.a._milne' 'abbeville_press' 'abby' 'abc-clio' 'abdo_&_daughters'\n",
            " 'abducted' 'abigail' 'abilities' 'abingdon_press'\n",
            " 'ablex_publishing_corporation' 'aboriginal' 'abortion' 'abraham' 'abrams'\n",
            " 'abuse' 'academic' 'academic_press' 'academics' 'acc_distribution'\n",
            " 'access' 'acclaimed' 'accountability' 'accounting' 'ace' 'achieve'\n",
            " 'achievement' 'act' 'actes_sud' 'acting' 'action' 'activism' 'activist'\n",
            " 'activities' 'activity' 'actor' 'actors' 'actress' 'acts' 'acupuncture'\n",
            " 'adam' 'adamant_media_corporation' 'adams' 'adams_media' 'addiction'\n",
            " 'addison-wesley_professional' 'addison_wesley_longman'\n",
            " 'addison_wesley_publishing_company' 'administration' 'administrators'\n",
            " 'admission' 'admissions' 'adobe' 'adolescence' 'adolescent' 'adolescents'\n",
            " 'adolf' 'adopted' 'adoption' 'adulthood' 'advent' 'adventure'\n",
            " 'adventurers' 'adventures' 'advertising' 'aegypan' 'aerial' 'aeschylus'\n",
            " 'aesthetic' 'aesthetics' 'affair' 'afghanistan']\n"
          ]
        }
      ]
    },
    {
      "cell_type": "code",
      "source": [
        "tfidf_df = pd.DataFrame(tfidf_encoding.toarray(), index=model_data[\"Name\"], columns=tfidf.get_feature_names_out())\n",
        "\n",
        "# Find top 50 books with maximum tf-idf total score\n",
        "tfidf_df[\"total\"]= tfidf_df.sum(axis=1)\n",
        "tfidf_df = tfidf_df.sort_values(\"total\", ascending=False)\n",
        "del tfidf_df[\"total\"]"
      ],
      "metadata": {
        "id": "JvICRv0sQsGo"
      },
      "execution_count": 106,
      "outputs": []
    },
    {
      "cell_type": "code",
      "source": [
        "# Leave first few words containing years and select top 50 books\n",
        "tfidf_df_preview = tfidf_df.iloc[100:150,25:].copy()\n",
        "tfidf_df_preview = tfidf_df_preview.stack().reset_index()\n",
        "tfidf_df_preview = tfidf_df_preview.rename(columns={0:'tfidf', 'Name': 'book','level_1': 'term'})\n",
        "tfidf_df_preview = tfidf_df_preview.sort_values(by=['book','tfidf'], ascending=[True,False]).groupby(['book']).head(10)\n",
        "display(tfidf_df_preview)"
      ],
      "metadata": {
        "colab": {
          "base_uri": "https://localhost:8080/",
          "height": 423
        },
        "id": "40W2YyF0QvjX",
        "outputId": "886b9104-e985-4306-8934-b5a01206a763"
      },
      "execution_count": 107,
      "outputs": [
        {
          "output_type": "display_data",
          "data": {
            "text/plain": [
              "                                                     book          term  \\\n",
              "91400   actions speak louder than words: living christ...   masculinity   \n",
              "89811   actions speak louder than words: living christ...      churches   \n",
              "89800   actions speak louder than words: living christ...     christian   \n",
              "89801   actions speak louder than words: living christ...  christianity   \n",
              "91689   actions speak louder than words: living christ...     not_avail   \n",
              "...                                                   ...           ...   \n",
              "191578  what is to be done?: proposals for the soviet ...      economic   \n",
              "190444  what is to be done?: proposals for the soviet ...          2001   \n",
              "190445  what is to be done?: proposals for the soviet ...          2004   \n",
              "190446  what is to be done?: proposals for the soviet ...            3d   \n",
              "190447  what is to be done?: proposals for the soviet ...           911   \n",
              "\n",
              "           tfidf  \n",
              "91400   0.449274  \n",
              "89811   0.419126  \n",
              "89800   0.412807  \n",
              "89801   0.390776  \n",
              "91689   0.388782  \n",
              "...          ...  \n",
              "191578  0.360316  \n",
              "190444  0.000000  \n",
              "190445  0.000000  \n",
              "190446  0.000000  \n",
              "190447  0.000000  \n",
              "\n",
              "[500 rows x 3 columns]"
            ],
            "text/html": [
              "\n",
              "  <div id=\"df-2bcc6913-0c3c-4e52-99bf-f4bd0c3cad2a\" class=\"colab-df-container\">\n",
              "    <div>\n",
              "<style scoped>\n",
              "    .dataframe tbody tr th:only-of-type {\n",
              "        vertical-align: middle;\n",
              "    }\n",
              "\n",
              "    .dataframe tbody tr th {\n",
              "        vertical-align: top;\n",
              "    }\n",
              "\n",
              "    .dataframe thead th {\n",
              "        text-align: right;\n",
              "    }\n",
              "</style>\n",
              "<table border=\"1\" class=\"dataframe\">\n",
              "  <thead>\n",
              "    <tr style=\"text-align: right;\">\n",
              "      <th></th>\n",
              "      <th>book</th>\n",
              "      <th>term</th>\n",
              "      <th>tfidf</th>\n",
              "    </tr>\n",
              "  </thead>\n",
              "  <tbody>\n",
              "    <tr>\n",
              "      <th>91400</th>\n",
              "      <td>actions speak louder than words: living christ...</td>\n",
              "      <td>masculinity</td>\n",
              "      <td>0.449274</td>\n",
              "    </tr>\n",
              "    <tr>\n",
              "      <th>89811</th>\n",
              "      <td>actions speak louder than words: living christ...</td>\n",
              "      <td>churches</td>\n",
              "      <td>0.419126</td>\n",
              "    </tr>\n",
              "    <tr>\n",
              "      <th>89800</th>\n",
              "      <td>actions speak louder than words: living christ...</td>\n",
              "      <td>christian</td>\n",
              "      <td>0.412807</td>\n",
              "    </tr>\n",
              "    <tr>\n",
              "      <th>89801</th>\n",
              "      <td>actions speak louder than words: living christ...</td>\n",
              "      <td>christianity</td>\n",
              "      <td>0.390776</td>\n",
              "    </tr>\n",
              "    <tr>\n",
              "      <th>91689</th>\n",
              "      <td>actions speak louder than words: living christ...</td>\n",
              "      <td>not_avail</td>\n",
              "      <td>0.388782</td>\n",
              "    </tr>\n",
              "    <tr>\n",
              "      <th>...</th>\n",
              "      <td>...</td>\n",
              "      <td>...</td>\n",
              "      <td>...</td>\n",
              "    </tr>\n",
              "    <tr>\n",
              "      <th>191578</th>\n",
              "      <td>what is to be done?: proposals for the soviet ...</td>\n",
              "      <td>economic</td>\n",
              "      <td>0.360316</td>\n",
              "    </tr>\n",
              "    <tr>\n",
              "      <th>190444</th>\n",
              "      <td>what is to be done?: proposals for the soviet ...</td>\n",
              "      <td>2001</td>\n",
              "      <td>0.000000</td>\n",
              "    </tr>\n",
              "    <tr>\n",
              "      <th>190445</th>\n",
              "      <td>what is to be done?: proposals for the soviet ...</td>\n",
              "      <td>2004</td>\n",
              "      <td>0.000000</td>\n",
              "    </tr>\n",
              "    <tr>\n",
              "      <th>190446</th>\n",
              "      <td>what is to be done?: proposals for the soviet ...</td>\n",
              "      <td>3d</td>\n",
              "      <td>0.000000</td>\n",
              "    </tr>\n",
              "    <tr>\n",
              "      <th>190447</th>\n",
              "      <td>what is to be done?: proposals for the soviet ...</td>\n",
              "      <td>911</td>\n",
              "      <td>0.000000</td>\n",
              "    </tr>\n",
              "  </tbody>\n",
              "</table>\n",
              "<p>500 rows × 3 columns</p>\n",
              "</div>\n",
              "    <div class=\"colab-df-buttons\">\n",
              "\n",
              "  <div class=\"colab-df-container\">\n",
              "    <button class=\"colab-df-convert\" onclick=\"convertToInteractive('df-2bcc6913-0c3c-4e52-99bf-f4bd0c3cad2a')\"\n",
              "            title=\"Convert this dataframe to an interactive table.\"\n",
              "            style=\"display:none;\">\n",
              "\n",
              "  <svg xmlns=\"http://www.w3.org/2000/svg\" height=\"24px\" viewBox=\"0 -960 960 960\">\n",
              "    <path d=\"M120-120v-720h720v720H120Zm60-500h600v-160H180v160Zm220 220h160v-160H400v160Zm0 220h160v-160H400v160ZM180-400h160v-160H180v160Zm440 0h160v-160H620v160ZM180-180h160v-160H180v160Zm440 0h160v-160H620v160Z\"/>\n",
              "  </svg>\n",
              "    </button>\n",
              "\n",
              "  <style>\n",
              "    .colab-df-container {\n",
              "      display:flex;\n",
              "      gap: 12px;\n",
              "    }\n",
              "\n",
              "    .colab-df-convert {\n",
              "      background-color: #E8F0FE;\n",
              "      border: none;\n",
              "      border-radius: 50%;\n",
              "      cursor: pointer;\n",
              "      display: none;\n",
              "      fill: #1967D2;\n",
              "      height: 32px;\n",
              "      padding: 0 0 0 0;\n",
              "      width: 32px;\n",
              "    }\n",
              "\n",
              "    .colab-df-convert:hover {\n",
              "      background-color: #E2EBFA;\n",
              "      box-shadow: 0px 1px 2px rgba(60, 64, 67, 0.3), 0px 1px 3px 1px rgba(60, 64, 67, 0.15);\n",
              "      fill: #174EA6;\n",
              "    }\n",
              "\n",
              "    .colab-df-buttons div {\n",
              "      margin-bottom: 4px;\n",
              "    }\n",
              "\n",
              "    [theme=dark] .colab-df-convert {\n",
              "      background-color: #3B4455;\n",
              "      fill: #D2E3FC;\n",
              "    }\n",
              "\n",
              "    [theme=dark] .colab-df-convert:hover {\n",
              "      background-color: #434B5C;\n",
              "      box-shadow: 0px 1px 3px 1px rgba(0, 0, 0, 0.15);\n",
              "      filter: drop-shadow(0px 1px 2px rgba(0, 0, 0, 0.3));\n",
              "      fill: #FFFFFF;\n",
              "    }\n",
              "  </style>\n",
              "\n",
              "    <script>\n",
              "      const buttonEl =\n",
              "        document.querySelector('#df-2bcc6913-0c3c-4e52-99bf-f4bd0c3cad2a button.colab-df-convert');\n",
              "      buttonEl.style.display =\n",
              "        google.colab.kernel.accessAllowed ? 'block' : 'none';\n",
              "\n",
              "      async function convertToInteractive(key) {\n",
              "        const element = document.querySelector('#df-2bcc6913-0c3c-4e52-99bf-f4bd0c3cad2a');\n",
              "        const dataTable =\n",
              "          await google.colab.kernel.invokeFunction('convertToInteractive',\n",
              "                                                    [key], {});\n",
              "        if (!dataTable) return;\n",
              "\n",
              "        const docLinkHtml = 'Like what you see? Visit the ' +\n",
              "          '<a target=\"_blank\" href=https://colab.research.google.com/notebooks/data_table.ipynb>data table notebook</a>'\n",
              "          + ' to learn more about interactive tables.';\n",
              "        element.innerHTML = '';\n",
              "        dataTable['output_type'] = 'display_data';\n",
              "        await google.colab.output.renderOutput(dataTable, element);\n",
              "        const docLink = document.createElement('div');\n",
              "        docLink.innerHTML = docLinkHtml;\n",
              "        element.appendChild(docLink);\n",
              "      }\n",
              "    </script>\n",
              "  </div>\n",
              "\n",
              "\n",
              "<div id=\"df-74e85b7b-41e5-4e78-b8f0-f5d19fdca166\">\n",
              "  <button class=\"colab-df-quickchart\" onclick=\"quickchart('df-74e85b7b-41e5-4e78-b8f0-f5d19fdca166')\"\n",
              "            title=\"Suggest charts.\"\n",
              "            style=\"display:none;\">\n",
              "\n",
              "<svg xmlns=\"http://www.w3.org/2000/svg\" height=\"24px\"viewBox=\"0 0 24 24\"\n",
              "     width=\"24px\">\n",
              "    <g>\n",
              "        <path d=\"M19 3H5c-1.1 0-2 .9-2 2v14c0 1.1.9 2 2 2h14c1.1 0 2-.9 2-2V5c0-1.1-.9-2-2-2zM9 17H7v-7h2v7zm4 0h-2V7h2v10zm4 0h-2v-4h2v4z\"/>\n",
              "    </g>\n",
              "</svg>\n",
              "  </button>\n",
              "\n",
              "<style>\n",
              "  .colab-df-quickchart {\n",
              "    background-color: #E8F0FE;\n",
              "    border: none;\n",
              "    border-radius: 50%;\n",
              "    cursor: pointer;\n",
              "    display: none;\n",
              "    fill: #1967D2;\n",
              "    height: 32px;\n",
              "    padding: 0 0 0 0;\n",
              "    width: 32px;\n",
              "  }\n",
              "\n",
              "  .colab-df-quickchart:hover {\n",
              "    background-color: #E2EBFA;\n",
              "    box-shadow: 0px 1px 2px rgba(60, 64, 67, 0.3), 0px 1px 3px 1px rgba(60, 64, 67, 0.15);\n",
              "    fill: #174EA6;\n",
              "  }\n",
              "\n",
              "  [theme=dark] .colab-df-quickchart {\n",
              "    background-color: #3B4455;\n",
              "    fill: #D2E3FC;\n",
              "  }\n",
              "\n",
              "  [theme=dark] .colab-df-quickchart:hover {\n",
              "    background-color: #434B5C;\n",
              "    box-shadow: 0px 1px 3px 1px rgba(0, 0, 0, 0.15);\n",
              "    filter: drop-shadow(0px 1px 2px rgba(0, 0, 0, 0.3));\n",
              "    fill: #FFFFFF;\n",
              "  }\n",
              "</style>\n",
              "\n",
              "  <script>\n",
              "    async function quickchart(key) {\n",
              "      const charts = await google.colab.kernel.invokeFunction(\n",
              "          'suggestCharts', [key], {});\n",
              "    }\n",
              "    (() => {\n",
              "      let quickchartButtonEl =\n",
              "        document.querySelector('#df-74e85b7b-41e5-4e78-b8f0-f5d19fdca166 button');\n",
              "      quickchartButtonEl.style.display =\n",
              "        google.colab.kernel.accessAllowed ? 'block' : 'none';\n",
              "    })();\n",
              "  </script>\n",
              "</div>\n",
              "    </div>\n",
              "  </div>\n"
            ]
          },
          "metadata": {}
        }
      ]
    },
    {
      "cell_type": "code",
      "source": [
        "def process_word_matrix(word_vec):\n",
        "    # Remove underscores in terms\n",
        "    word_vec.term = word_vec.term.str.replace('_',' ')\n",
        "\n",
        "    # Remove terms with zero tfidf score\n",
        "    word_vec = word_vec[word_vec.tfidf > 0]\n",
        "\n",
        "    return word_vec\n",
        "\n",
        "tfidf_vec = process_word_matrix(tfidf_df_preview.copy())\n",
        "tfidf_vec.iloc[0:5]"
      ],
      "metadata": {
        "colab": {
          "base_uri": "https://localhost:8080/",
          "height": 206
        },
        "id": "b73VKuSTQyXC",
        "outputId": "70c96b37-bbda-48aa-b70b-15726a3041d2"
      },
      "execution_count": 108,
      "outputs": [
        {
          "output_type": "execute_result",
          "data": {
            "text/plain": [
              "                                                    book          term  \\\n",
              "91400  actions speak louder than words: living christ...   masculinity   \n",
              "89811  actions speak louder than words: living christ...      churches   \n",
              "89800  actions speak louder than words: living christ...     christian   \n",
              "89801  actions speak louder than words: living christ...  christianity   \n",
              "91689  actions speak louder than words: living christ...     not avail   \n",
              "\n",
              "          tfidf  \n",
              "91400  0.449274  \n",
              "89811  0.419126  \n",
              "89800  0.412807  \n",
              "89801  0.390776  \n",
              "91689  0.388782  "
            ],
            "text/html": [
              "\n",
              "  <div id=\"df-29d8658b-6461-4e26-983f-a2338d4b0657\" class=\"colab-df-container\">\n",
              "    <div>\n",
              "<style scoped>\n",
              "    .dataframe tbody tr th:only-of-type {\n",
              "        vertical-align: middle;\n",
              "    }\n",
              "\n",
              "    .dataframe tbody tr th {\n",
              "        vertical-align: top;\n",
              "    }\n",
              "\n",
              "    .dataframe thead th {\n",
              "        text-align: right;\n",
              "    }\n",
              "</style>\n",
              "<table border=\"1\" class=\"dataframe\">\n",
              "  <thead>\n",
              "    <tr style=\"text-align: right;\">\n",
              "      <th></th>\n",
              "      <th>book</th>\n",
              "      <th>term</th>\n",
              "      <th>tfidf</th>\n",
              "    </tr>\n",
              "  </thead>\n",
              "  <tbody>\n",
              "    <tr>\n",
              "      <th>91400</th>\n",
              "      <td>actions speak louder than words: living christ...</td>\n",
              "      <td>masculinity</td>\n",
              "      <td>0.449274</td>\n",
              "    </tr>\n",
              "    <tr>\n",
              "      <th>89811</th>\n",
              "      <td>actions speak louder than words: living christ...</td>\n",
              "      <td>churches</td>\n",
              "      <td>0.419126</td>\n",
              "    </tr>\n",
              "    <tr>\n",
              "      <th>89800</th>\n",
              "      <td>actions speak louder than words: living christ...</td>\n",
              "      <td>christian</td>\n",
              "      <td>0.412807</td>\n",
              "    </tr>\n",
              "    <tr>\n",
              "      <th>89801</th>\n",
              "      <td>actions speak louder than words: living christ...</td>\n",
              "      <td>christianity</td>\n",
              "      <td>0.390776</td>\n",
              "    </tr>\n",
              "    <tr>\n",
              "      <th>91689</th>\n",
              "      <td>actions speak louder than words: living christ...</td>\n",
              "      <td>not avail</td>\n",
              "      <td>0.388782</td>\n",
              "    </tr>\n",
              "  </tbody>\n",
              "</table>\n",
              "</div>\n",
              "    <div class=\"colab-df-buttons\">\n",
              "\n",
              "  <div class=\"colab-df-container\">\n",
              "    <button class=\"colab-df-convert\" onclick=\"convertToInteractive('df-29d8658b-6461-4e26-983f-a2338d4b0657')\"\n",
              "            title=\"Convert this dataframe to an interactive table.\"\n",
              "            style=\"display:none;\">\n",
              "\n",
              "  <svg xmlns=\"http://www.w3.org/2000/svg\" height=\"24px\" viewBox=\"0 -960 960 960\">\n",
              "    <path d=\"M120-120v-720h720v720H120Zm60-500h600v-160H180v160Zm220 220h160v-160H400v160Zm0 220h160v-160H400v160ZM180-400h160v-160H180v160Zm440 0h160v-160H620v160ZM180-180h160v-160H180v160Zm440 0h160v-160H620v160Z\"/>\n",
              "  </svg>\n",
              "    </button>\n",
              "\n",
              "  <style>\n",
              "    .colab-df-container {\n",
              "      display:flex;\n",
              "      gap: 12px;\n",
              "    }\n",
              "\n",
              "    .colab-df-convert {\n",
              "      background-color: #E8F0FE;\n",
              "      border: none;\n",
              "      border-radius: 50%;\n",
              "      cursor: pointer;\n",
              "      display: none;\n",
              "      fill: #1967D2;\n",
              "      height: 32px;\n",
              "      padding: 0 0 0 0;\n",
              "      width: 32px;\n",
              "    }\n",
              "\n",
              "    .colab-df-convert:hover {\n",
              "      background-color: #E2EBFA;\n",
              "      box-shadow: 0px 1px 2px rgba(60, 64, 67, 0.3), 0px 1px 3px 1px rgba(60, 64, 67, 0.15);\n",
              "      fill: #174EA6;\n",
              "    }\n",
              "\n",
              "    .colab-df-buttons div {\n",
              "      margin-bottom: 4px;\n",
              "    }\n",
              "\n",
              "    [theme=dark] .colab-df-convert {\n",
              "      background-color: #3B4455;\n",
              "      fill: #D2E3FC;\n",
              "    }\n",
              "\n",
              "    [theme=dark] .colab-df-convert:hover {\n",
              "      background-color: #434B5C;\n",
              "      box-shadow: 0px 1px 3px 1px rgba(0, 0, 0, 0.15);\n",
              "      filter: drop-shadow(0px 1px 2px rgba(0, 0, 0, 0.3));\n",
              "      fill: #FFFFFF;\n",
              "    }\n",
              "  </style>\n",
              "\n",
              "    <script>\n",
              "      const buttonEl =\n",
              "        document.querySelector('#df-29d8658b-6461-4e26-983f-a2338d4b0657 button.colab-df-convert');\n",
              "      buttonEl.style.display =\n",
              "        google.colab.kernel.accessAllowed ? 'block' : 'none';\n",
              "\n",
              "      async function convertToInteractive(key) {\n",
              "        const element = document.querySelector('#df-29d8658b-6461-4e26-983f-a2338d4b0657');\n",
              "        const dataTable =\n",
              "          await google.colab.kernel.invokeFunction('convertToInteractive',\n",
              "                                                    [key], {});\n",
              "        if (!dataTable) return;\n",
              "\n",
              "        const docLinkHtml = 'Like what you see? Visit the ' +\n",
              "          '<a target=\"_blank\" href=https://colab.research.google.com/notebooks/data_table.ipynb>data table notebook</a>'\n",
              "          + ' to learn more about interactive tables.';\n",
              "        element.innerHTML = '';\n",
              "        dataTable['output_type'] = 'display_data';\n",
              "        await google.colab.output.renderOutput(dataTable, element);\n",
              "        const docLink = document.createElement('div');\n",
              "        docLink.innerHTML = docLinkHtml;\n",
              "        element.appendChild(docLink);\n",
              "      }\n",
              "    </script>\n",
              "  </div>\n",
              "\n",
              "\n",
              "<div id=\"df-f97cf930-b6b5-4db3-be4f-fa3733424a7c\">\n",
              "  <button class=\"colab-df-quickchart\" onclick=\"quickchart('df-f97cf930-b6b5-4db3-be4f-fa3733424a7c')\"\n",
              "            title=\"Suggest charts.\"\n",
              "            style=\"display:none;\">\n",
              "\n",
              "<svg xmlns=\"http://www.w3.org/2000/svg\" height=\"24px\"viewBox=\"0 0 24 24\"\n",
              "     width=\"24px\">\n",
              "    <g>\n",
              "        <path d=\"M19 3H5c-1.1 0-2 .9-2 2v14c0 1.1.9 2 2 2h14c1.1 0 2-.9 2-2V5c0-1.1-.9-2-2-2zM9 17H7v-7h2v7zm4 0h-2V7h2v10zm4 0h-2v-4h2v4z\"/>\n",
              "    </g>\n",
              "</svg>\n",
              "  </button>\n",
              "\n",
              "<style>\n",
              "  .colab-df-quickchart {\n",
              "    background-color: #E8F0FE;\n",
              "    border: none;\n",
              "    border-radius: 50%;\n",
              "    cursor: pointer;\n",
              "    display: none;\n",
              "    fill: #1967D2;\n",
              "    height: 32px;\n",
              "    padding: 0 0 0 0;\n",
              "    width: 32px;\n",
              "  }\n",
              "\n",
              "  .colab-df-quickchart:hover {\n",
              "    background-color: #E2EBFA;\n",
              "    box-shadow: 0px 1px 2px rgba(60, 64, 67, 0.3), 0px 1px 3px 1px rgba(60, 64, 67, 0.15);\n",
              "    fill: #174EA6;\n",
              "  }\n",
              "\n",
              "  [theme=dark] .colab-df-quickchart {\n",
              "    background-color: #3B4455;\n",
              "    fill: #D2E3FC;\n",
              "  }\n",
              "\n",
              "  [theme=dark] .colab-df-quickchart:hover {\n",
              "    background-color: #434B5C;\n",
              "    box-shadow: 0px 1px 3px 1px rgba(0, 0, 0, 0.15);\n",
              "    filter: drop-shadow(0px 1px 2px rgba(0, 0, 0, 0.3));\n",
              "    fill: #FFFFFF;\n",
              "  }\n",
              "</style>\n",
              "\n",
              "  <script>\n",
              "    async function quickchart(key) {\n",
              "      const charts = await google.colab.kernel.invokeFunction(\n",
              "          'suggestCharts', [key], {});\n",
              "    }\n",
              "    (() => {\n",
              "      let quickchartButtonEl =\n",
              "        document.querySelector('#df-f97cf930-b6b5-4db3-be4f-fa3733424a7c button');\n",
              "      quickchartButtonEl.style.display =\n",
              "        google.colab.kernel.accessAllowed ? 'block' : 'none';\n",
              "    })();\n",
              "  </script>\n",
              "</div>\n",
              "    </div>\n",
              "  </div>\n"
            ]
          },
          "metadata": {},
          "execution_count": 108
        }
      ]
    },
    {
      "cell_type": "code",
      "source": [
        "import altair as alt\n",
        "grid = alt.Chart(tfidf_vec).encode(\n",
        "    x = 'rank:O',\n",
        "    y = 'book:N'\n",
        ").transform_window(\n",
        "    rank = \"dense_rank()\",\n",
        "    sort = [alt.SortField(\"tfidf\", order=\"descending\")],\n",
        "    groupby = [\"book\"],\n",
        ")\n",
        "heatmap = grid.mark_rect(size=5).encode(\n",
        "    alt.Color('tfidf:Q', scale=alt.Scale(scheme='redpurple'))\n",
        ")\n",
        "text = grid.mark_text(align='center', baseline='middle', lineBreak='').encode(\n",
        "    text = 'term:N',\n",
        "    color = alt.condition(alt.datum.tfidf >= 0.23, alt.value('white'), alt.value('black'))\n",
        ")\n",
        "(heatmap+text).properties(width = 800)"
      ],
      "metadata": {
        "colab": {
          "base_uri": "https://localhost:8080/",
          "height": 104
        },
        "id": "_Rg0sXzKSS4m",
        "outputId": "89549711-503a-48b9-f7aa-9402b0033737"
      },
      "execution_count": 109,
      "outputs": [
        {
          "output_type": "execute_result",
          "data": {
            "application/vnd.vegalite.v4+json": {
              "config": {
                "view": {
                  "continuousWidth": 400,
                  "continuousHeight": 300
                }
              },
              "layer": [
                {
                  "mark": {
                    "type": "rect",
                    "size": 5
                  },
                  "encoding": {
                    "color": {
                      "field": "tfidf",
                      "scale": {
                        "scheme": "redpurple"
                      },
                      "type": "quantitative"
                    },
                    "x": {
                      "field": "rank",
                      "type": "ordinal"
                    },
                    "y": {
                      "field": "book",
                      "type": "nominal"
                    }
                  },
                  "transform": [
                    {
                      "window": [
                        {
                          "op": "dense_rank",
                          "field": "",
                          "as": "rank"
                        }
                      ],
                      "groupby": [
                        "book"
                      ],
                      "sort": [
                        {
                          "field": "tfidf",
                          "order": "descending"
                        }
                      ]
                    }
                  ]
                },
                {
                  "mark": {
                    "type": "text",
                    "align": "center",
                    "baseline": "middle",
                    "lineBreak": ""
                  },
                  "encoding": {
                    "color": {
                      "condition": {
                        "value": "white",
                        "test": "(datum.tfidf >= 0.23)"
                      },
                      "value": "black"
                    },
                    "text": {
                      "field": "term",
                      "type": "nominal"
                    },
                    "x": {
                      "field": "rank",
                      "type": "ordinal"
                    },
                    "y": {
                      "field": "book",
                      "type": "nominal"
                    }
                  },
                  "transform": [
                    {
                      "window": [
                        {
                          "op": "dense_rank",
                          "field": "",
                          "as": "rank"
                        }
                      ],
                      "groupby": [
                        "book"
                      ],
                      "sort": [
                        {
                          "field": "tfidf",
                          "order": "descending"
                        }
                      ]
                    }
                  ]
                }
              ],
              "data": {
                "name": "data-cc9865f19b455fb7b8f780a867897589"
              },
              "width": 800,
              "$schema": "https://vega.github.io/schema/vega-lite/v4.17.0.json",
              "datasets": {
                "data-cc9865f19b455fb7b8f780a867897589": [
                  {
                    "book": "actions speak louder than words: living christianity",
                    "term": "masculinity",
                    "tfidf": 0.449273733495927
                  },
                  {
                    "book": "actions speak louder than words: living christianity",
                    "term": "churches",
                    "tfidf": 0.4191260693409779
                  },
                  {
                    "book": "actions speak louder than words: living christianity",
                    "term": "christian",
                    "tfidf": 0.4128067806751147
                  },
                  {
                    "book": "actions speak louder than words: living christianity",
                    "term": "christianity",
                    "tfidf": 0.39077586736373876
                  },
                  {
                    "book": "actions speak louder than words: living christianity",
                    "term": "not avail",
                    "tfidf": 0.388782152701343
                  },
                  {
                    "book": "actions speak louder than words: living christianity",
                    "term": "faith",
                    "tfidf": 0.38499307973662006
                  },
                  {
                    "book": "affaires resolues a l'ombre du poirier",
                    "term": "cases",
                    "tfidf": 0.4560314483093824
                  },
                  {
                    "book": "affaires resolues a l'ombre du poirier",
                    "term": "judicial",
                    "tfidf": 0.4086765133118511
                  },
                  {
                    "book": "affaires resolues a l'ombre du poirier",
                    "term": "court",
                    "tfidf": 0.3992539303146761
                  },
                  {
                    "book": "affaires resolues a l'ombre du poirier",
                    "term": "courts",
                    "tfidf": 0.3992539303146761
                  },
                  {
                    "book": "affaires resolues a l'ombre du poirier",
                    "term": "albin michel",
                    "tfidf": 0.3912872499051578
                  },
                  {
                    "book": "affaires resolues a l'ombre du poirier",
                    "term": "chinese",
                    "tfidf": 0.3912872499051578
                  },
                  {
                    "book": "an introduction to computational science and mathematics",
                    "term": "math",
                    "tfidf": 0.44267745740144554
                  },
                  {
                    "book": "an introduction to computational science and mathematics",
                    "term": "computational",
                    "tfidf": 0.423572224050626
                  },
                  {
                    "book": "an introduction to computational science and mathematics",
                    "term": "introductory",
                    "tfidf": 0.4095187263750826
                  },
                  {
                    "book": "an introduction to computational science and mathematics",
                    "term": "jones & bartlett publishers",
                    "tfidf": 0.4095187263750826
                  },
                  {
                    "book": "an introduction to computational science and mathematics",
                    "term": "mathematics",
                    "tfidf": 0.38383047503341133
                  },
                  {
                    "book": "an introduction to computational science and mathematics",
                    "term": "programming",
                    "tfidf": 0.3766778884581412
                  },
                  {
                    "book": "baby rhymes and bedtime blessings",
                    "term": "babys",
                    "tfidf": 0.4276649454344623
                  },
                  {
                    "book": "baby rhymes and bedtime blessings",
                    "term": "bedtime",
                    "tfidf": 0.4276649454344623
                  },
                  {
                    "book": "baby rhymes and bedtime blessings",
                    "term": "lion",
                    "tfidf": 0.418599217085285
                  },
                  {
                    "book": "baby rhymes and bedtime blessings",
                    "term": "rhymes",
                    "tfidf": 0.4042945590643819
                  },
                  {
                    "book": "baby rhymes and bedtime blessings",
                    "term": "traditional",
                    "tfidf": 0.39843793396651167
                  },
                  {
                    "book": "baby rhymes and bedtime blessings",
                    "term": "prayers",
                    "tfidf": 0.36982861792470545
                  },
                  {
                    "book": "blue water, black depths",
                    "term": "amanda",
                    "tfidf": 0.42910254825478933
                  },
                  {
                    "book": "blue water, black depths",
                    "term": "murdering",
                    "tfidf": 0.42910254825478933
                  },
                  {
                    "book": "blue water, black depths",
                    "term": "yacht",
                    "tfidf": 0.42910254825478933
                  },
                  {
                    "book": "blue water, black depths",
                    "term": "sailing",
                    "tfidf": 0.401888809584206
                  },
                  {
                    "book": "blue water, black depths",
                    "term": "actress",
                    "tfidf": 0.3845439474056327
                  },
                  {
                    "book": "blue water, black depths",
                    "term": "severn house publishers",
                    "tfidf": 0.3717853500185589
                  },
                  {
                    "book": "bound to the hearth by the shortest tether",
                    "term": "villages",
                    "tfidf": 0.44437481076970176
                  },
                  {
                    "book": "bound to the hearth by the shortest tether",
                    "term": "indigenous",
                    "tfidf": 0.4251963224300927
                  },
                  {
                    "book": "bound to the hearth by the shortest tether",
                    "term": "rural",
                    "tfidf": 0.4071041380019356
                  },
                  {
                    "book": "bound to the hearth by the shortest tether",
                    "term": "poverty",
                    "tfidf": 0.3935909072178051
                  },
                  {
                    "book": "bound to the hearth by the shortest tether",
                    "term": "university press of america",
                    "tfidf": 0.390683701117942
                  },
                  {
                    "book": "bound to the hearth by the shortest tether",
                    "term": "anthropology",
                    "tfidf": 0.3853021920561432
                  },
                  {
                    "book": "breath of brimstone -op/026",
                    "term": "evil",
                    "tfidf": 0.4396570014388402
                  },
                  {
                    "book": "breath of brimstone -op/026",
                    "term": "daughter",
                    "tfidf": 0.42387250273544386
                  },
                  {
                    "book": "breath of brimstone -op/026",
                    "term": "severn house publishers",
                    "tfidf": 0.41948073092734467
                  },
                  {
                    "book": "breath of brimstone -op/026",
                    "term": "mother",
                    "tfidf": 0.395844595652887
                  },
                  {
                    "book": "breath of brimstone -op/026",
                    "term": "gospel",
                    "tfidf": 0.3858410026160016
                  },
                  {
                    "book": "breath of brimstone -op/026",
                    "term": "child",
                    "tfidf": 0.3814492308079025
                  },
                  {
                    "book": "c++ for dummies quick reference",
                    "term": "programmers",
                    "tfidf": 0.4311882167761292
                  },
                  {
                    "book": "c++ for dummies quick reference",
                    "term": "basics",
                    "tfidf": 0.41645335886938606
                  },
                  {
                    "book": "c++ for dummies quick reference",
                    "term": "code",
                    "tfidf": 0.41645335886938606
                  },
                  {
                    "book": "c++ for dummies quick reference",
                    "term": "for dummies",
                    "tfidf": 0.41645335886938606
                  },
                  {
                    "book": "c++ for dummies quick reference",
                    "term": "program",
                    "tfidf": 0.40502411514419
                  },
                  {
                    "book": "c++ for dummies quick reference",
                    "term": "programming",
                    "tfidf": 0.3601832693564579
                  },
                  {
                    "book": "clinical studies management: a practical guide to success",
                    "term": "studies",
                    "tfidf": 0.44035485618154563
                  },
                  {
                    "book": "clinical studies management: a practical guide to success",
                    "term": "study",
                    "tfidf": 0.42304823438189004
                  },
                  {
                    "book": "clinical studies management: a practical guide to success",
                    "term": "projects",
                    "tfidf": 0.4182329573723765
                  },
                  {
                    "book": "clinical studies management: a practical guide to success",
                    "term": "clinical",
                    "tfidf": 0.41377470720936416
                  },
                  {
                    "book": "clinical studies management: a practical guide to success",
                    "term": "management",
                    "tfidf": 0.3753881046962042
                  },
                  {
                    "book": "clinical studies management: a practical guide to success",
                    "term": "crc press",
                    "tfidf": 0.3742636075250279
                  },
                  {
                    "book": "complete idiot's guide to throwing a great party",
                    "term": "party",
                    "tfidf": 0.42806394950482335
                  },
                  {
                    "book": "complete idiot's guide to throwing a great party",
                    "term": "alpha",
                    "tfidf": 0.4211474815270814
                  },
                  {
                    "book": "complete idiot's guide to throwing a great party",
                    "term": "tips",
                    "tfidf": 0.4211474815270814
                  },
                  {
                    "book": "complete idiot's guide to throwing a great party",
                    "term": "plans",
                    "tfidf": 0.4150467244060252
                  },
                  {
                    "book": "complete idiot's guide to throwing a great party",
                    "term": "planning",
                    "tfidf": 0.3921613038124685
                  },
                  {
                    "book": "complete idiot's guide to throwing a great party",
                    "term": "stepbystep",
                    "tfidf": 0.36875002521092654
                  },
                  {
                    "book": "creative styles of preaching",
                    "term": "preachers",
                    "tfidf": 0.4440001946498634
                  },
                  {
                    "book": "creative styles of preaching",
                    "term": "congregations",
                    "tfidf": 0.4235981447274954
                  },
                  {
                    "book": "creative styles of preaching",
                    "term": "preaching",
                    "tfidf": 0.41584164533331397
                  },
                  {
                    "book": "creative styles of preaching",
                    "term": "sermons",
                    "tfidf": 0.39309881771542293
                  },
                  {
                    "book": "creative styles of preaching",
                    "term": "pastoral",
                    "tfidf": 0.3846930493598282
                  },
                  {
                    "book": "creative styles of preaching",
                    "term": "westminster john knox press",
                    "tfidf": 0.3846930493598282
                  },
                  {
                    "book": "crisis & renewal: meeting the challenge of organizational change",
                    "term": "catastrophe",
                    "tfidf": 0.4349408625989167
                  },
                  {
                    "book": "crisis & renewal: meeting the challenge of organizational change",
                    "term": "harvard business school press",
                    "tfidf": 0.4349408625989167
                  },
                  {
                    "book": "crisis & renewal: meeting the challenge of organizational change",
                    "term": "crises",
                    "tfidf": 0.4239419003854605
                  },
                  {
                    "book": "crisis & renewal: meeting the challenge of organizational change",
                    "term": "crisis",
                    "tfidf": 0.38977600313034627
                  },
                  {
                    "book": "crisis & renewal: meeting the challenge of organizational change",
                    "term": "organizational",
                    "tfidf": 0.38078919664606886
                  },
                  {
                    "book": "crisis & renewal: meeting the challenge of organizational change",
                    "term": "organizations",
                    "tfidf": 0.38078919664606886
                  },
                  {
                    "book": "fodor's london 2008 (fodor's gold guides)",
                    "term": "thames",
                    "tfidf": 0.4473110172332732
                  },
                  {
                    "book": "fodor's london 2008 (fodor's gold guides)",
                    "term": "fodor's",
                    "tfidf": 0.41894249512365594
                  },
                  {
                    "book": "fodor's london 2008 (fodor's gold guides)",
                    "term": "fodor's travel publications inc.",
                    "tfidf": 0.41894249512365594
                  },
                  {
                    "book": "fodor's london 2008 (fodor's gold guides)",
                    "term": "attractions",
                    "tfidf": 0.3916192235546879
                  },
                  {
                    "book": "fodor's london 2008 (fodor's gold guides)",
                    "term": "london",
                    "tfidf": 0.3916192235546879
                  },
                  {
                    "book": "fodor's london 2008 (fodor's gold guides)",
                    "term": "river",
                    "tfidf": 0.3770357979101087
                  },
                  {
                    "book": "foods that fight pain: revolutionary new strategies for maximum pain relief",
                    "term": "cure",
                    "tfidf": 0.44113858061400274
                  },
                  {
                    "book": "foods that fight pain: revolutionary new strategies for maximum pain relief",
                    "term": "supplements",
                    "tfidf": 0.4299828879755176
                  },
                  {
                    "book": "foods that fight pain: revolutionary new strategies for maximum pain relief",
                    "term": "nutrition",
                    "tfidf": 0.400597466205407
                  },
                  {
                    "book": "foods that fight pain: revolutionary new strategies for maximum pain relief",
                    "term": "pain",
                    "tfidf": 0.400597466205407
                  },
                  {
                    "book": "foods that fight pain: revolutionary new strategies for maximum pain relief",
                    "term": "random house audio",
                    "tfidf": 0.39533014155278473
                  },
                  {
                    "book": "foods that fight pain: revolutionary new strategies for maximum pain relief",
                    "term": "herbs",
                    "tfidf": 0.37850876880406265
                  },
                  {
                    "book": "globalisation, citizenship and the war on terror",
                    "term": "globalisation",
                    "tfidf": 0.43524800512169026
                  },
                  {
                    "book": "globalisation, citizenship and the war on terror",
                    "term": "citizenship",
                    "tfidf": 0.4242412757626457
                  },
                  {
                    "book": "globalisation, citizenship and the war on terror",
                    "term": "liberties",
                    "tfidf": 0.4242412757626457
                  },
                  {
                    "book": "globalisation, citizenship and the war on terror",
                    "term": "edward elgar publishing",
                    "tfidf": 0.4076445207880542
                  },
                  {
                    "book": "globalisation, citizenship and the war on terror",
                    "term": "rights",
                    "tfidf": 0.3771099299856955
                  },
                  {
                    "book": "globalisation, citizenship and the war on terror",
                    "term": "terror",
                    "tfidf": 0.3771099299856955
                  },
                  {
                    "book": "globalization and american popular culture",
                    "term": "american",
                    "tfidf": 0.44804061706172055
                  },
                  {
                    "book": "globalization and american popular culture",
                    "term": "media",
                    "tfidf": 0.4194782588071706
                  },
                  {
                    "book": "globalization and american popular culture",
                    "term": "globalization",
                    "tfidf": 0.4158696450724872
                  },
                  {
                    "book": "globalization and american popular culture",
                    "term": "rowman & littlefield publishers",
                    "tfidf": 0.398063589282552
                  },
                  {
                    "book": "globalization and american popular culture",
                    "term": "cultural",
                    "tfidf": 0.3931984258957246
                  },
                  {
                    "book": "globalization and american popular culture",
                    "term": "culture",
                    "tfidf": 0.3705272067189621
                  },
                  {
                    "book": "globalization and the postcolonial world: the new political economy of development",
                    "term": "asia",
                    "tfidf": 0.4352047120464339
                  },
                  {
                    "book": "globalization and the postcolonial world: the new political economy of development",
                    "term": "global",
                    "tfidf": 0.42948234807240887
                  },
                  {
                    "book": "globalization and the postcolonial world: the new political economy of development",
                    "term": "postcolonial",
                    "tfidf": 0.41958005875869475
                  },
                  {
                    "book": "globalization and the postcolonial world: the new political economy of development",
                    "term": "globalization",
                    "tfidf": 0.4039554054709556
                  },
                  {
                    "book": "globalization and the postcolonial world: the new political economy of development",
                    "term": "johns hopkins university press",
                    "tfidf": 0.38918608048150644
                  },
                  {
                    "book": "globalization and the postcolonial world: the new political economy of development",
                    "term": "africa",
                    "tfidf": 0.3680333826558118
                  },
                  {
                    "book": "great games for kids on the go: over 240 travel games to play on trains, planes, and automobiles",
                    "term": "prima lifestyles",
                    "tfidf": 0.44023326420794007
                  },
                  {
                    "book": "great games for kids on the go: over 240 travel games to play on trains, planes, and automobiles",
                    "term": "ages",
                    "tfidf": 0.42518931276969013
                  },
                  {
                    "book": "great games for kids on the go: over 240 travel games to play on trains, planes, and automobiles",
                    "term": "games",
                    "tfidf": 0.42518931276969013
                  },
                  {
                    "book": "great games for kids on the go: over 240 travel games to play on trains, planes, and automobiles",
                    "term": "kids",
                    "tfidf": 0.3998003271396073
                  },
                  {
                    "book": "great games for kids on the go: over 240 travel games to play on trains, planes, and automobiles",
                    "term": "travel",
                    "tfidf": 0.3799554219927796
                  },
                  {
                    "book": "great games for kids on the go: over 240 travel games to play on trains, planes, and automobiles",
                    "term": "activities",
                    "tfidf": 0.3747216906119139
                  },
                  {
                    "book": "home furnishing with fabric",
                    "term": "fabric",
                    "tfidf": 0.4249327297949838
                  },
                  {
                    "book": "home furnishing with fabric",
                    "term": "furnishings",
                    "tfidf": 0.4249327297949838
                  },
                  {
                    "book": "home furnishing with fabric",
                    "term": "interiors",
                    "tfidf": 0.4249327297949838
                  },
                  {
                    "book": "home furnishing with fabric",
                    "term": "ryland peters & small",
                    "tfidf": 0.4054068402314396
                  },
                  {
                    "book": "home furnishing with fabric",
                    "term": "fabrics",
                    "tfidf": 0.3979834415461713
                  },
                  {
                    "book": "home furnishing with fabric",
                    "term": "decorating",
                    "tfidf": 0.3681725133623847
                  },
                  {
                    "book": "in his own right: the political odyssey of senator robert f. kennedy",
                    "term": "kennedys",
                    "tfidf": 0.4321712736000309
                  },
                  {
                    "book": "in his own right: the political odyssey of senator robert f. kennedy",
                    "term": "robert",
                    "tfidf": 0.4321712736000309
                  },
                  {
                    "book": "in his own right: the political odyssey of senator robert f. kennedy",
                    "term": "activist",
                    "tfidf": 0.40476291597428904
                  },
                  {
                    "book": "in his own right: the political odyssey of senator robert f. kennedy",
                    "term": "kennedy",
                    "tfidf": 0.39822293579106627
                  },
                  {
                    "book": "in his own right: the political odyssey of senator robert f. kennedy",
                    "term": "columbia university press",
                    "tfidf": 0.37444417162479654
                  },
                  {
                    "book": "intersections: gender, nation, and community in arab women's novels",
                    "term": "algeria",
                    "tfidf": 0.4340668674573603
                  },
                  {
                    "book": "intersections: gender, nation, and community in arab women's novels",
                    "term": "lebanon",
                    "tfidf": 0.4340668674573603
                  },
                  {
                    "book": "intersections: gender, nation, and community in arab women's novels",
                    "term": "palestine",
                    "tfidf": 0.41412125931073634
                  },
                  {
                    "book": "intersections: gender, nation, and community in arab women's novels",
                    "term": "arab",
                    "tfidf": 0.4065382910259536
                  },
                  {
                    "book": "intersections: gender, nation, and community in arab women's novels",
                    "term": "syracuse university press",
                    "tfidf": 0.38430427387871874
                  },
                  {
                    "book": "intersections: gender, nation, and community in arab women's novels",
                    "term": "feminism",
                    "tfidf": 0.37244104868642836
                  },
                  {
                    "book": "ishi's brain: in search of the last \"wild\" indian",
                    "term": "indians",
                    "tfidf": 0.4359759009270031
                  },
                  {
                    "book": "ishi's brain: in search of the last \"wild\" indian",
                    "term": "anthropologist",
                    "tfidf": 0.4279927526212109
                  },
                  {
                    "book": "ishi's brain: in search of the last \"wild\" indian",
                    "term": "tribe",
                    "tfidf": 0.41497769258644435
                  },
                  {
                    "book": "ishi's brain: in search of the last \"wild\" indian",
                    "term": "native",
                    "tfidf": 0.4000792266706677
                  },
                  {
                    "book": "ishi's brain: in search of the last \"wild\" indian",
                    "term": "w. w. norton  company",
                    "tfidf": 0.39593397861291624
                  },
                  {
                    "book": "ishi's brain: in search of the last \"wild\" indian",
                    "term": "anthropology",
                    "tfidf": 0.3710978700243168
                  },
                  {
                    "book": "israel/palestine: the black book",
                    "term": "israelis",
                    "tfidf": 0.4274259544242728
                  },
                  {
                    "book": "israel/palestine: the black book",
                    "term": "palestinians",
                    "tfidf": 0.4274259544242728
                  },
                  {
                    "book": "israel/palestine: the black book",
                    "term": "pluto press",
                    "tfidf": 0.4166170322786929
                  },
                  {
                    "book": "israel/palestine: the black book",
                    "term": "palestine",
                    "tfidf": 0.4077854998358314
                  },
                  {
                    "book": "israel/palestine: the black book",
                    "term": "palestinian",
                    "tfidf": 0.4003185455495528
                  },
                  {
                    "book": "israel/palestine: the black book",
                    "term": "israel",
                    "tfidf": 0.3667429666633367
                  },
                  {
                    "book": "kings & queens (collins gem)",
                    "term": "royalty",
                    "tfidf": 0.4289564219997003
                  },
                  {
                    "book": "kings & queens (collins gem)",
                    "term": "throne",
                    "tfidf": 0.4289564219997003
                  },
                  {
                    "book": "kings & queens (collins gem)",
                    "term": "monarchs",
                    "tfidf": 0.4181087967648534
                  },
                  {
                    "book": "kings & queens (collins gem)",
                    "term": "royal",
                    "tfidf": 0.4181087967648534
                  },
                  {
                    "book": "kings & queens (collins gem)",
                    "term": "trafalgar square publishing",
                    "tfidf": 0.3797797036384072
                  },
                  {
                    "book": "kings & queens (collins gem)",
                    "term": "elizabeth",
                    "tfidf": 0.3716587425185192
                  },
                  {
                    "book": "larousse dictionary of world folklore",
                    "term": "fairies",
                    "tfidf": 0.4283341913889699
                  },
                  {
                    "book": "larousse dictionary of world folklore",
                    "term": "lore",
                    "tfidf": 0.4283341913889699
                  },
                  {
                    "book": "larousse dictionary of world folklore",
                    "term": "folktales",
                    "tfidf": 0.417502301375998
                  },
                  {
                    "book": "larousse dictionary of world folklore",
                    "term": "larousse kingfisher chambers",
                    "tfidf": 0.417502301375998
                  },
                  {
                    "book": "larousse dictionary of world folklore",
                    "term": "folk",
                    "tfidf": 0.3792288072190546
                  },
                  {
                    "book": "larousse dictionary of world folklore",
                    "term": "folklore",
                    "tfidf": 0.3750050792202931
                  },
                  {
                    "book": "latin american philosophy: currents, issues, debates",
                    "term": "indigenous",
                    "tfidf": 0.4425383045488843
                  },
                  {
                    "book": "latin american philosophy: currents, issues, debates",
                    "term": "indiana university press",
                    "tfidf": 0.41984714828587677
                  },
                  {
                    "book": "latin american philosophy: currents, issues, debates",
                    "term": "latin",
                    "tfidf": 0.40661805755867675
                  },
                  {
                    "book": "latin american philosophy: currents, issues, debates",
                    "term": "philosophers",
                    "tfidf": 0.40661805755867675
                  },
                  {
                    "book": "latin american philosophy: currents, issues, debates",
                    "term": "philosophical",
                    "tfidf": 0.40101705921863484
                  },
                  {
                    "book": "latin american philosophy: currents, issues, debates",
                    "term": "philosophy",
                    "tfidf": 0.3693197122186563
                  },
                  {
                    "book": "lc21: a digital strategy for the library of congress",
                    "term": "archives",
                    "tfidf": 0.43599259693264786
                  },
                  {
                    "book": "lc21: a digital strategy for the library of congress",
                    "term": "national research council",
                    "tfidf": 0.43599259693264786
                  },
                  {
                    "book": "lc21: a digital strategy for the library of congress",
                    "term": "national academies press",
                    "tfidf": 0.4061964661846699
                  },
                  {
                    "book": "lc21: a digital strategy for the library of congress",
                    "term": "library",
                    "tfidf": 0.39602405051703377
                  },
                  {
                    "book": "lc21: a digital strategy for the library of congress",
                    "term": "organizational",
                    "tfidf": 0.391613262521739
                  },
                  {
                    "book": "lc21: a digital strategy for the library of congress",
                    "term": "digital",
                    "tfidf": 0.3803016509668333
                  },
                  {
                    "book": "longman dicionario escolar, ingles-portugues, portugues-ingles: para estudantes brasileiros",
                    "term": "translated",
                    "tfidf": 0.4448719899825956
                  },
                  {
                    "book": "longman dicionario escolar, ingles-portugues, portugues-ingles: para estudantes brasileiros",
                    "term": "brazilian",
                    "tfidf": 0.4274681402522102
                  },
                  {
                    "book": "longman dicionario escolar, ingles-portugues, portugues-ingles: para estudantes brasileiros",
                    "term": "learners",
                    "tfidf": 0.41446903343495894
                  },
                  {
                    "book": "longman dicionario escolar, ingles-portugues, portugues-ingles: para estudantes brasileiros",
                    "term": "addison wesley longman",
                    "tfidf": 0.39544866230506787
                  },
                  {
                    "book": "longman dicionario escolar, ingles-portugues, portugues-ingles: para estudantes brasileiros",
                    "term": "dictionary",
                    "tfidf": 0.38157284848562373
                  },
                  {
                    "book": "longman dicionario escolar, ingles-portugues, portugues-ingles: para estudantes brasileiros",
                    "term": "english",
                    "tfidf": 0.38157284848562373
                  },
                  {
                    "book": "luftwaffe 14: german rocket planes (luftwaffe at war, 14)",
                    "term": "greenhill books",
                    "tfidf": 0.43670545843477837
                  },
                  {
                    "book": "luftwaffe 14: german rocket planes (luftwaffe at war, 14)",
                    "term": "flew",
                    "tfidf": 0.42566187240096026
                  },
                  {
                    "book": "luftwaffe 14: german rocket planes (luftwaffe at war, 14)",
                    "term": "planes",
                    "tfidf": 0.42566187240096026
                  },
                  {
                    "book": "luftwaffe 14: german rocket planes (luftwaffe at war, 14)",
                    "term": "luftwaffe",
                    "tfidf": 0.4024009469329719
                  },
                  {
                    "book": "luftwaffe 14: german rocket planes (luftwaffe at war, 14)",
                    "term": "pilots",
                    "tfidf": 0.38664036968713517
                  },
                  {
                    "book": "luftwaffe 14: german rocket planes (luftwaffe at war, 14)",
                    "term": "aircraft",
                    "tfidf": 0.36809643543116544
                  },
                  {
                    "book": "microsoft encyclopedia of networking",
                    "term": "administrators",
                    "tfidf": 0.43603409851730257
                  },
                  {
                    "book": "microsoft encyclopedia of networking",
                    "term": "microsoft press",
                    "tfidf": 0.43603409851730257
                  },
                  {
                    "book": "microsoft encyclopedia of networking",
                    "term": "networking",
                    "tfidf": 0.4075961190194197
                  },
                  {
                    "book": "microsoft encyclopedia of networking",
                    "term": "network",
                    "tfidf": 0.39946297925589025
                  },
                  {
                    "book": "microsoft encyclopedia of networking",
                    "term": "microsoft",
                    "tfidf": 0.38620338564209233
                  },
                  {
                    "book": "microsoft encyclopedia of networking",
                    "term": "technologies",
                    "tfidf": 0.3806444623836098
                  },
                  {
                    "book": "nutritional sciences: from fundamentals to food",
                    "term": "biochemistry",
                    "tfidf": 0.4373364709526685
                  },
                  {
                    "book": "nutritional sciences: from fundamentals to food",
                    "term": "nutritional",
                    "tfidf": 0.42806572364178713
                  },
                  {
                    "book": "nutritional sciences: from fundamentals to food",
                    "term": "physiology",
                    "tfidf": 0.4134375697006424
                  },
                  {
                    "book": "nutritional sciences: from fundamentals to food",
                    "term": "nutrition",
                    "tfidf": 0.4074484986314825
                  },
                  {
                    "book": "nutritional sciences: from fundamentals to food",
                    "term": "wadsworth publishing company",
                    "tfidf": 0.3814738669909147
                  },
                  {
                    "book": "nutritional sciences: from fundamentals to food",
                    "term": "diet",
                    "tfidf": 0.37819219074919314
                  },
                  {
                    "book": "patios and gardens of mexico",
                    "term": "sculptures",
                    "tfidf": 0.4429944131852465
                  },
                  {
                    "book": "patios and gardens of mexico",
                    "term": "stone",
                    "tfidf": 0.42566401618997174
                  },
                  {
                    "book": "patios and gardens of mexico",
                    "term": "taylor trade publishing",
                    "tfidf": 0.418786325273321
                  },
                  {
                    "book": "patios and gardens of mexico",
                    "term": "mexico",
                    "tfidf": 0.39377967605822467
                  },
                  {
                    "book": "patios and gardens of mexico",
                    "term": "gardens",
                    "tfidf": 0.3899626580752979
                  },
                  {
                    "book": "patios and gardens of mexico",
                    "term": "garden",
                    "tfidf": 0.3742336182147171
                  },
                  {
                    "book": "peace breaks out",
                    "term": "isis",
                    "tfidf": 0.4367144252612452
                  },
                  {
                    "book": "peace breaks out",
                    "term": "leslie",
                    "tfidf": 0.4367144252612452
                  },
                  {
                    "book": "peace breaks out",
                    "term": "sam",
                    "tfidf": 0.40240920938857333
                  },
                  {
                    "book": "peace breaks out",
                    "term": "george",
                    "tfidf": 0.39657989553193074
                  },
                  {
                    "book": "peace breaks out",
                    "term": "david",
                    "tfidf": 0.3913653965979844
                  },
                  {
                    "book": "peace breaks out",
                    "term": "peace",
                    "tfidf": 0.3823419445239161
                  },
                  {
                    "book": "political ideologies and the democratic ideal",
                    "term": "conservatism",
                    "tfidf": 0.4420346028135202
                  },
                  {
                    "book": "political ideologies and the democratic ideal",
                    "term": "ideological",
                    "tfidf": 0.4217228729028443
                  },
                  {
                    "book": "political ideologies and the democratic ideal",
                    "term": "ideologies",
                    "tfidf": 0.4217228729028443
                  },
                  {
                    "book": "political ideologies and the democratic ideal",
                    "term": "ideology",
                    "tfidf": 0.3961331195704332
                  },
                  {
                    "book": "political ideologies and the democratic ideal",
                    "term": "liberalism",
                    "tfidf": 0.39135856661578794
                  },
                  {
                    "book": "political ideologies and the democratic ideal",
                    "term": "longman publishing group",
                    "tfidf": 0.3725883395551572
                  },
                  {
                    "book": "presidential elections, 1789-2000",
                    "term": "cq press",
                    "tfidf": 0.44081461899646435
                  },
                  {
                    "book": "presidential elections, 1789-2000",
                    "term": "electoral",
                    "tfidf": 0.4296671188317068
                  },
                  {
                    "book": "presidential elections, 1789-2000",
                    "term": "elections",
                    "tfidf": 0.4128580992966104
                  },
                  {
                    "book": "presidential elections, 1789-2000",
                    "term": "george",
                    "tfidf": 0.4003032770121765
                  },
                  {
                    "book": "presidential elections, 1789-2000",
                    "term": "election",
                    "tfidf": 0.3902784450259882
                  },
                  {
                    "book": "presidential elections, 1789-2000",
                    "term": "presidential",
                    "tfidf": 0.37156002244652403
                  },
                  {
                    "book": "proprietary records of south carolina:: abstracts of the records of the secretary of the province, 1675-1695",
                    "term": "genealogical",
                    "tfidf": 0.4357905859721595
                  },
                  {
                    "book": "proprietary records of south carolina:: abstracts of the records of the secretary of the province, 1675-1695",
                    "term": "the history press",
                    "tfidf": 0.4357905859721595
                  },
                  {
                    "book": "proprietary records of south carolina:: abstracts of the records of the secretary of the province, 1675-1695",
                    "term": "carolina",
                    "tfidf": 0.4081526910913654
                  },
                  {
                    "book": "proprietary records of south carolina:: abstracts of the records of the secretary of the province, 1675-1695",
                    "term": "settlers",
                    "tfidf": 0.401557940420985
                  },
                  {
                    "book": "proprietary records of south carolina:: abstracts of the records of the secretary of the province, 1675-1695",
                    "term": "colonists",
                    "tfidf": 0.39053749005574107
                  },
                  {
                    "book": "proprietary records of south carolina:: abstracts of the records of the secretary of the province, 1675-1695",
                    "term": "slaves",
                    "tfidf": 0.373920045540191
                  },
                  {
                    "book": "psychological experts in divorce actions",
                    "term": "custody",
                    "tfidf": 0.4377051920670289
                  },
                  {
                    "book": "psychological experts in divorce actions",
                    "term": "lawyer",
                    "tfidf": 0.4377051920670289
                  },
                  {
                    "book": "psychological experts in divorce actions",
                    "term": "disputes",
                    "tfidf": 0.40994587262202564
                  },
                  {
                    "book": "psychological experts in divorce actions",
                    "term": "aspen publishers",
                    "tfidf": 0.39225328081121985
                  },
                  {
                    "book": "psychological experts in divorce actions",
                    "term": "divorce",
                    "tfidf": 0.39225328081121985
                  },
                  {
                    "book": "psychological experts in divorce actions",
                    "term": "psychological",
                    "tfidf": 0.3755628290725338
                  },
                  {
                    "book": "reclaiming evangelism: a practical guide for mainline churches",
                    "term": "congregational",
                    "tfidf": 0.4264869130745508
                  },
                  {
                    "book": "reclaiming evangelism: a practical guide for mainline churches",
                    "term": "evangelism",
                    "tfidf": 0.4264869130745508
                  },
                  {
                    "book": "reclaiming evangelism: a practical guide for mainline churches",
                    "term": "chalice press",
                    "tfidf": 0.4174461568945342
                  },
                  {
                    "book": "reclaiming evangelism: a practical guide for mainline churches",
                    "term": "ministries",
                    "tfidf": 0.4174461568945342
                  },
                  {
                    "book": "reclaiming evangelism: a practical guide for mainline churches",
                    "term": "spirituality",
                    "tfidf": 0.3830751545484408
                  },
                  {
                    "book": "reclaiming evangelism: a practical guide for mainline churches",
                    "term": "ministry",
                    "tfidf": 0.37543130411293246
                  },
                  {
                    "book": "religion, conflict and reconciliation: multifaith ideals and realities",
                    "term": "reconciliation",
                    "tfidf": 0.4529172279194891
                  },
                  {
                    "book": "religion, conflict and reconciliation: multifaith ideals and realities",
                    "term": "brill/rodopi",
                    "tfidf": 0.41733923374873183
                  },
                  {
                    "book": "religion, conflict and reconciliation: multifaith ideals and realities",
                    "term": "conflicts",
                    "tfidf": 0.4058856778654263
                  },
                  {
                    "book": "religion, conflict and reconciliation: multifaith ideals and realities",
                    "term": "religious",
                    "tfidf": 0.4009935782989925
                  },
                  {
                    "book": "religion, conflict and reconciliation: multifaith ideals and realities",
                    "term": "conflict",
                    "tfidf": 0.3924189935397412
                  },
                  {
                    "book": "religion, conflict and reconciliation: multifaith ideals and realities",
                    "term": "religion",
                    "tfidf": 0.37571564886719405
                  },
                  {
                    "book": "scotland's music: a history of the traditional and classic music of scotland from early times to the present day",
                    "term": "scots",
                    "tfidf": 0.4434287351861319
                  },
                  {
                    "book": "scotland's music: a history of the traditional and classic music of scotland from early times to the present day",
                    "term": "mainstream publishing",
                    "tfidf": 0.41530642790209915
                  },
                  {
                    "book": "scotland's music: a history of the traditional and classic music of scotland from early times to the present day",
                    "term": "scottish",
                    "tfidf": 0.41530642790209915
                  },
                  {
                    "book": "scotland's music: a history of the traditional and classic music of scotland from early times to the present day",
                    "term": "musician",
                    "tfidf": 0.4026771530864246
                  },
                  {
                    "book": "scotland's music: a history of the traditional and classic music of scotland from early times to the present day",
                    "term": "musicians",
                    "tfidf": 0.3925928719021733
                  },
                  {
                    "book": "scotland's music: a history of the traditional and classic music of scotland from early times to the present day",
                    "term": "composers",
                    "tfidf": 0.37700669226346684
                  },
                  {
                    "book": "secrets of the supernatural",
                    "term": "investigative",
                    "tfidf": 0.4371475882067547
                  },
                  {
                    "book": "secrets of the supernatural",
                    "term": "enigmas",
                    "tfidf": 0.42609282141464605
                  },
                  {
                    "book": "secrets of the supernatural",
                    "term": "investigation",
                    "tfidf": 0.41706041926965504
                  },
                  {
                    "book": "secrets of the supernatural",
                    "term": "prometheus books",
                    "tfidf": 0.4028083460974985
                  },
                  {
                    "book": "secrets of the supernatural",
                    "term": "forensic",
                    "tfidf": 0.3969732503325552
                  },
                  {
                    "book": "secrets of the supernatural",
                    "term": "mysteries",
                    "tfidf": 0.3654656963069835
                  },
                  {
                    "book": "soldiers on skis: a pictorial memoir of the 10th mountain division",
                    "term": "veteran",
                    "tfidf": 0.43833468430427436
                  },
                  {
                    "book": "soldiers on skis: a pictorial memoir of the 10th mountain division",
                    "term": "paladin press",
                    "tfidf": 0.4272498977411045
                  },
                  {
                    "book": "soldiers on skis: a pictorial memoir of the 10th mountain division",
                    "term": "wwii",
                    "tfidf": 0.4272498977411045
                  },
                  {
                    "book": "soldiers on skis: a pictorial memoir of the 10th mountain division",
                    "term": "troops",
                    "tfidf": 0.39281740570573775
                  },
                  {
                    "book": "soldiers on skis: a pictorial memoir of the 10th mountain division",
                    "term": "mountain",
                    "tfidf": 0.3797843072527599
                  },
                  {
                    "book": "soldiers on skis: a pictorial memoir of the 10th mountain division",
                    "term": "warfare",
                    "tfidf": 0.3797843072527599
                  },
                  {
                    "book": "song in walnut grove",
                    "term": "discovers",
                    "tfidf": 0.43550070919609746
                  },
                  {
                    "book": "song in walnut grove",
                    "term": "young",
                    "tfidf": 0.42448758935318576
                  },
                  {
                    "book": "song in walnut grove",
                    "term": "cricket",
                    "tfidf": 0.4154892152433703
                  },
                  {
                    "book": "song in walnut grove",
                    "term": "knopf books for young readers",
                    "tfidf": 0.40788119833763675
                  },
                  {
                    "book": "song in walnut grove",
                    "term": "search",
                    "tfidf": 0.395477721290643
                  },
                  {
                    "book": "song in walnut grove",
                    "term": "friendship",
                    "tfidf": 0.36708095945810043
                  },
                  {
                    "book": "studies in mormon history, 1830-1997: an indexed bibliography",
                    "term": "bibliography",
                    "tfidf": 0.436411842027666
                  },
                  {
                    "book": "studies in mormon history, 1830-1997: an indexed bibliography",
                    "term": "biographical",
                    "tfidf": 0.4253756810854977
                  },
                  {
                    "book": "studies in mormon history, 1830-1997: an indexed bibliography",
                    "term": "mormons",
                    "tfidf": 0.4253756810854977
                  },
                  {
                    "book": "studies in mormon history, 1830-1997: an indexed bibliography",
                    "term": "mormon",
                    "tfidf": 0.4021303949671674
                  },
                  {
                    "book": "studies in mormon history, 1830-1997: an indexed bibliography",
                    "term": "biographies",
                    "tfidf": 0.378118307850643
                  },
                  {
                    "book": "studies in mormon history, 1830-1997: an indexed bibliography",
                    "term": "university of illinois press",
                    "tfidf": 0.378118307850643
                  },
                  {
                    "book": "the baby's game book",
                    "term": "game",
                    "tfidf": 0.43804117554536764
                  },
                  {
                    "book": "the baby's game book",
                    "term": "babies",
                    "tfidf": 0.42090455430020635
                  },
                  {
                    "book": "the baby's game book",
                    "term": "games",
                    "tfidf": 0.41410376466381976
                  },
                  {
                    "book": "the baby's game book",
                    "term": "greenwillow books",
                    "tfidf": 0.41410376466381976
                  },
                  {
                    "book": "the baby's game book",
                    "term": "play",
                    "tfidf": 0.39345331797154154
                  },
                  {
                    "book": "the baby's game book",
                    "term": "activities",
                    "tfidf": 0.36495193581602725
                  },
                  {
                    "book": "the english roses: classic favorites & new selections",
                    "term": "blooms",
                    "tfidf": 0.4503008104967063
                  },
                  {
                    "book": "the english roses: classic favorites & new selections",
                    "term": "flower",
                    "tfidf": 0.4149283436896213
                  },
                  {
                    "book": "the english roses: classic favorites & new selections",
                    "term": "firefly books",
                    "tfidf": 0.4089176772164092
                  },
                  {
                    "book": "the english roses: classic favorites & new selections",
                    "term": "roses",
                    "tfidf": 0.4089176772164092
                  },
                  {
                    "book": "the english roses: classic favorites & new selections",
                    "term": "rose",
                    "tfidf": 0.38284938619880143
                  },
                  {
                    "book": "the english roses: classic favorites & new selections",
                    "term": "flowers",
                    "tfidf": 0.3795558768825363
                  },
                  {
                    "book": "the gospel according to paul: the creative genius who brought jesus to the world",
                    "term": "entrepreneurial",
                    "tfidf": 0.4407767651348613
                  },
                  {
                    "book": "the gospel according to paul: the creative genius who brought jesus to the world",
                    "term": "evangelist",
                    "tfidf": 0.420522833548203
                  },
                  {
                    "book": "the gospel according to paul: the creative genius who brought jesus to the world",
                    "term": "harperone",
                    "tfidf": 0.420522833548203
                  },
                  {
                    "book": "the gospel according to paul: the creative genius who brought jesus to the world",
                    "term": "creative",
                    "tfidf": 0.40026890196154463
                  },
                  {
                    "book": "the gospel according to paul: the creative genius who brought jesus to the world",
                    "term": "jesus",
                    "tfidf": 0.39500589749236753
                  },
                  {
                    "book": "the gospel according to paul: the creative genius who brought jesus to the world",
                    "term": "paul",
                    "tfidf": 0.3684997738332774
                  },
                  {
                    "book": "the mythology of north america",
                    "term": "continent",
                    "tfidf": 0.44537598594481376
                  },
                  {
                    "book": "the mythology of north america",
                    "term": "american",
                    "tfidf": 0.4149385858545749
                  },
                  {
                    "book": "the mythology of north america",
                    "term": "myths",
                    "tfidf": 0.4149385858545749
                  },
                  {
                    "book": "the mythology of north america",
                    "term": "william morrow & company",
                    "tfidf": 0.4094826945248096
                  },
                  {
                    "book": "the mythology of north america",
                    "term": "indian",
                    "tfidf": 0.3920591279541002
                  },
                  {
                    "book": "the mythology of north america",
                    "term": "cultures",
                    "tfidf": 0.3686539490555717
                  },
                  {
                    "book": "the stamp of fantasy: the visual inventiveness of photographic postcards",
                    "term": "postcard",
                    "tfidf": 0.42758007860848324
                  },
                  {
                    "book": "the stamp of fantasy: the visual inventiveness of photographic postcards",
                    "term": "steidl",
                    "tfidf": 0.42758007860848324
                  },
                  {
                    "book": "the stamp of fantasy: the visual inventiveness of photographic postcards",
                    "term": "postcards",
                    "tfidf": 0.41676725890757094
                  },
                  {
                    "book": "the stamp of fantasy: the visual inventiveness of photographic postcards",
                    "term": "surrealism",
                    "tfidf": 0.41676725890757094
                  },
                  {
                    "book": "the stamp of fantasy: the visual inventiveness of photographic postcards",
                    "term": "exhibition",
                    "tfidf": 0.38317957310867984
                  },
                  {
                    "book": "the stamp of fantasy: the visual inventiveness of photographic postcards",
                    "term": "collectors",
                    "tfidf": 0.37434485613123636
                  },
                  {
                    "book": "what is to be done?: proposals for the soviet transition to the market",
                    "term": "market",
                    "tfidf": 0.4331259282060354
                  },
                  {
                    "book": "what is to be done?: proposals for the soviet transition to the market",
                    "term": "economists",
                    "tfidf": 0.42892751585173744
                  },
                  {
                    "book": "what is to be done?: proposals for the soviet transition to the market",
                    "term": "economy",
                    "tfidf": 0.4179280648345202
                  },
                  {
                    "book": "what is to be done?: proposals for the soviet transition to the market",
                    "term": "soviet",
                    "tfidf": 0.4087209382382696
                  },
                  {
                    "book": "what is to be done?: proposals for the soviet transition to the market",
                    "term": "yale university press",
                    "tfidf": 0.39607926669615545
                  },
                  {
                    "book": "what is to be done?: proposals for the soviet transition to the market",
                    "term": "economic",
                    "tfidf": 0.3603160532416721
                  }
                ]
              }
            },
            "text/plain": [
              "<VegaLite 4 object>\n",
              "\n",
              "If you see this message, it means the renderer has not been properly enabled\n",
              "for the frontend that you are using. For more information, see\n",
              "https://altair-viz.github.io/user_guide/troubleshooting.html\n"
            ]
          },
          "metadata": {},
          "execution_count": 109
        }
      ]
    },
    {
      "cell_type": "code",
      "source": [
        "book_cosine_sim = cosine_similarity(tfidf_encoding, tfidf_encoding)"
      ],
      "metadata": {
        "id": "kYS8I3rHSlfA"
      },
      "execution_count": 110,
      "outputs": []
    },
    {
      "cell_type": "code",
      "source": [
        "# Vidualize similarity between books\n",
        "plt.figure(figsize=(6, 6), dpi=80)\n",
        "plt.spy(book_cosine_sim, precision = 0.1, markersize = 0.04)\n",
        "plt.tight_layout()\n",
        "plt.show()"
      ],
      "metadata": {
        "colab": {
          "base_uri": "https://localhost:8080/",
          "height": 475
        },
        "id": "MqLGo8MUSyRS",
        "outputId": "20c27e12-357a-40cd-d0f6-ba03bdbc1fd4"
      },
      "execution_count": 111,
      "outputs": [
        {
          "output_type": "display_data",
          "data": {
            "text/plain": [
              "<Figure size 480x480 with 1 Axes>"
            ],
            "image/png": "[encoded data removed]"
          },
          "metadata": {}
        }
      ]
    },
    {
      "cell_type": "code",
      "source": [
        "books = pd.Series(model_data['Name'])\n",
        "\n",
        "def recommend_books_similar_to(book_name, n=5, cosine_sim_mat=book_cosine_sim):\n",
        "    # get index of the imput book\n",
        "    input_idx = books[books == book_name].index[0]\n",
        "    # Find top n similar books with decreasing order of similarity score\n",
        "    top_n_books_idx = list(pd.Series(cosine_sim_mat[input_idx]).sort_values(ascending = False).iloc[1:n+1].index)\n",
        "    # [1:6] to exclude 0 (index 0 is the input movie itself)\n",
        "\n",
        "    books_list = list(books)\n",
        "    recommended_books = [books[i] for i in top_n_books_idx]\n",
        "\n",
        "    return recommended_books"
      ],
      "metadata": {
        "id": "p1eCSFXfdKNM"
      },
      "execution_count": 112,
      "outputs": []
    },
    {
      "cell_type": "code",
      "source": [
        "model_data"
      ],
      "metadata": {
        "colab": {
          "base_uri": "https://localhost:8080/",
          "height": 682
        },
        "id": "lqt5rHkHd1YU",
        "outputId": "dc1945a6-8e2b-4df6-c95f-4664d8b33782"
      },
      "execution_count": 114,
      "outputs": [
        {
          "output_type": "execute_result",
          "data": {
            "text/plain": [
              "           Id                                               Name  \\\n",
              "0     2312681  the it's just lunch guide to dating in san die...   \n",
              "1     2094452                                         faux frère   \n",
              "2     2934265                                 un deuil dangereux   \n",
              "3     2882410                     prevention from the inside-out   \n",
              "4     2792583  symphonic paradox: the misadventures of a wayw...   \n",
              "...       ...                                                ...   \n",
              "9993  2489508                                 gymboree baby play   \n",
              "9994  2679310                                          the hadra   \n",
              "9995  2145700  winnie pooh tesoros para llevar (disney winnie...   \n",
              "9996  2000878  concepts of modern art revised and enlarge (wo...   \n",
              "9997  2145196   english standard version- thinline trutone bible   \n",
              "\n",
              "                                               keywords  \n",
              "0      cathy_a._loe 10_finger_press  dates dating da...  \n",
              "1      paul_doherty 10/18 fre doherty corbette corbe...  \n",
              "2      anne_perry 10/18 fre monk basil poignardée in...  \n",
              "3                    jack_pransky 1st_book_library  nan  \n",
              "4      sam_denov 1st_book_library  denov orchestras ...  \n",
              "...                                                 ...  \n",
              "9993                                wendy_s._masi   nan  \n",
              "9994   diana_rivers  eng chronicles tribe hadra dian...  \n",
              "9995                              arlette_de_alba   nan  \n",
              "9996   nikos_stangos   art artistic expressionism es...  \n",
              "9997   anonymous   bible thinline thickpresentation ...  \n",
              "\n",
              "[9998 rows x 3 columns]"
            ],
            "text/html": [
              "\n",
              "  <div id=\"df-1cb11b1a-14b3-4c87-ad02-54858d77dade\" class=\"colab-df-container\">\n",
              "    <div>\n",
              "<style scoped>\n",
              "    .dataframe tbody tr th:only-of-type {\n",
              "        vertical-align: middle;\n",
              "    }\n",
              "\n",
              "    .dataframe tbody tr th {\n",
              "        vertical-align: top;\n",
              "    }\n",
              "\n",
              "    .dataframe thead th {\n",
              "        text-align: right;\n",
              "    }\n",
              "</style>\n",
              "<table border=\"1\" class=\"dataframe\">\n",
              "  <thead>\n",
              "    <tr style=\"text-align: right;\">\n",
              "      <th></th>\n",
              "      <th>Id</th>\n",
              "      <th>Name</th>\n",
              "      <th>keywords</th>\n",
              "    </tr>\n",
              "  </thead>\n",
              "  <tbody>\n",
              "    <tr>\n",
              "      <th>0</th>\n",
              "      <td>2312681</td>\n",
              "      <td>the it's just lunch guide to dating in san die...</td>\n",
              "      <td>cathy_a._loe 10_finger_press  dates dating da...</td>\n",
              "    </tr>\n",
              "    <tr>\n",
              "      <th>1</th>\n",
              "      <td>2094452</td>\n",
              "      <td>faux frère</td>\n",
              "      <td>paul_doherty 10/18 fre doherty corbette corbe...</td>\n",
              "    </tr>\n",
              "    <tr>\n",
              "      <th>2</th>\n",
              "      <td>2934265</td>\n",
              "      <td>un deuil dangereux</td>\n",
              "      <td>anne_perry 10/18 fre monk basil poignardée in...</td>\n",
              "    </tr>\n",
              "    <tr>\n",
              "      <th>3</th>\n",
              "      <td>2882410</td>\n",
              "      <td>prevention from the inside-out</td>\n",
              "      <td>jack_pransky 1st_book_library  nan</td>\n",
              "    </tr>\n",
              "    <tr>\n",
              "      <th>4</th>\n",
              "      <td>2792583</td>\n",
              "      <td>symphonic paradox: the misadventures of a wayw...</td>\n",
              "      <td>sam_denov 1st_book_library  denov orchestras ...</td>\n",
              "    </tr>\n",
              "    <tr>\n",
              "      <th>...</th>\n",
              "      <td>...</td>\n",
              "      <td>...</td>\n",
              "      <td>...</td>\n",
              "    </tr>\n",
              "    <tr>\n",
              "      <th>9993</th>\n",
              "      <td>2489508</td>\n",
              "      <td>gymboree baby play</td>\n",
              "      <td>wendy_s._masi   nan</td>\n",
              "    </tr>\n",
              "    <tr>\n",
              "      <th>9994</th>\n",
              "      <td>2679310</td>\n",
              "      <td>the hadra</td>\n",
              "      <td>diana_rivers  eng chronicles tribe hadra dian...</td>\n",
              "    </tr>\n",
              "    <tr>\n",
              "      <th>9995</th>\n",
              "      <td>2145700</td>\n",
              "      <td>winnie pooh tesoros para llevar (disney winnie...</td>\n",
              "      <td>arlette_de_alba   nan</td>\n",
              "    </tr>\n",
              "    <tr>\n",
              "      <th>9996</th>\n",
              "      <td>2000878</td>\n",
              "      <td>concepts of modern art revised and enlarge (wo...</td>\n",
              "      <td>nikos_stangos   art artistic expressionism es...</td>\n",
              "    </tr>\n",
              "    <tr>\n",
              "      <th>9997</th>\n",
              "      <td>2145196</td>\n",
              "      <td>english standard version- thinline trutone bible</td>\n",
              "      <td>anonymous   bible thinline thickpresentation ...</td>\n",
              "    </tr>\n",
              "  </tbody>\n",
              "</table>\n",
              "<p>9998 rows × 3 columns</p>\n",
              "</div>\n",
              "    <div class=\"colab-df-buttons\">\n",
              "\n",
              "  <div class=\"colab-df-container\">\n",
              "    <button class=\"colab-df-convert\" onclick=\"convertToInteractive('df-1cb11b1a-14b3-4c87-ad02-54858d77dade')\"\n",
              "            title=\"Convert this dataframe to an interactive table.\"\n",
              "            style=\"display:none;\">\n",
              "\n",
              "  <svg xmlns=\"http://www.w3.org/2000/svg\" height=\"24px\" viewBox=\"0 -960 960 960\">\n",
              "    <path d=\"M120-120v-720h720v720H120Zm60-500h600v-160H180v160Zm220 220h160v-160H400v160Zm0 220h160v-160H400v160ZM180-400h160v-160H180v160Zm440 0h160v-160H620v160ZM180-180h160v-160H180v160Zm440 0h160v-160H620v160Z\"/>\n",
              "  </svg>\n",
              "    </button>\n",
              "\n",
              "  <style>\n",
              "    .colab-df-container {\n",
              "      display:flex;\n",
              "      gap: 12px;\n",
              "    }\n",
              "\n",
              "    .colab-df-convert {\n",
              "      background-color: #E8F0FE;\n",
              "      border: none;\n",
              "      border-radius: 50%;\n",
              "      cursor: pointer;\n",
              "      display: none;\n",
              "      fill: #1967D2;\n",
              "      height: 32px;\n",
              "      padding: 0 0 0 0;\n",
              "      width: 32px;\n",
              "    }\n",
              "\n",
              "    .colab-df-convert:hover {\n",
              "      background-color: #E2EBFA;\n",
              "      box-shadow: 0px 1px 2px rgba(60, 64, 67, 0.3), 0px 1px 3px 1px rgba(60, 64, 67, 0.15);\n",
              "      fill: #174EA6;\n",
              "    }\n",
              "\n",
              "    .colab-df-buttons div {\n",
              "      margin-bottom: 4px;\n",
              "    }\n",
              "\n",
              "    [theme=dark] .colab-df-convert {\n",
              "      background-color: #3B4455;\n",
              "      fill: #D2E3FC;\n",
              "    }\n",
              "\n",
              "    [theme=dark] .colab-df-convert:hover {\n",
              "      background-color: #434B5C;\n",
              "      box-shadow: 0px 1px 3px 1px rgba(0, 0, 0, 0.15);\n",
              "      filter: drop-shadow(0px 1px 2px rgba(0, 0, 0, 0.3));\n",
              "      fill: #FFFFFF;\n",
              "    }\n",
              "  </style>\n",
              "\n",
              "    <script>\n",
              "      const buttonEl =\n",
              "        document.querySelector('#df-1cb11b1a-14b3-4c87-ad02-54858d77dade button.colab-df-convert');\n",
              "      buttonEl.style.display =\n",
              "        google.colab.kernel.accessAllowed ? 'block' : 'none';\n",
              "\n",
              "      async function convertToInteractive(key) {\n",
              "        const element = document.querySelector('#df-1cb11b1a-14b3-4c87-ad02-54858d77dade');\n",
              "        const dataTable =\n",
              "          await google.colab.kernel.invokeFunction('convertToInteractive',\n",
              "                                                    [key], {});\n",
              "        if (!dataTable) return;\n",
              "\n",
              "        const docLinkHtml = 'Like what you see? Visit the ' +\n",
              "          '<a target=\"_blank\" href=https://colab.research.google.com/notebooks/data_table.ipynb>data table notebook</a>'\n",
              "          + ' to learn more about interactive tables.';\n",
              "        element.innerHTML = '';\n",
              "        dataTable['output_type'] = 'display_data';\n",
              "        await google.colab.output.renderOutput(dataTable, element);\n",
              "        const docLink = document.createElement('div');\n",
              "        docLink.innerHTML = docLinkHtml;\n",
              "        element.appendChild(docLink);\n",
              "      }\n",
              "    </script>\n",
              "  </div>\n",
              "\n",
              "\n",
              "<div id=\"df-72267bce-8a1e-4605-a1f1-7620bbfe76de\">\n",
              "  <button class=\"colab-df-quickchart\" onclick=\"quickchart('df-72267bce-8a1e-4605-a1f1-7620bbfe76de')\"\n",
              "            title=\"Suggest charts.\"\n",
              "            style=\"display:none;\">\n",
              "\n",
              "<svg xmlns=\"http://www.w3.org/2000/svg\" height=\"24px\"viewBox=\"0 0 24 24\"\n",
              "     width=\"24px\">\n",
              "    <g>\n",
              "        <path d=\"M19 3H5c-1.1 0-2 .9-2 2v14c0 1.1.9 2 2 2h14c1.1 0 2-.9 2-2V5c0-1.1-.9-2-2-2zM9 17H7v-7h2v7zm4 0h-2V7h2v10zm4 0h-2v-4h2v4z\"/>\n",
              "    </g>\n",
              "</svg>\n",
              "  </button>\n",
              "\n",
              "<style>\n",
              "  .colab-df-quickchart {\n",
              "    background-color: #E8F0FE;\n",
              "    border: none;\n",
              "    border-radius: 50%;\n",
              "    cursor: pointer;\n",
              "    display: none;\n",
              "    fill: #1967D2;\n",
              "    height: 32px;\n",
              "    padding: 0 0 0 0;\n",
              "    width: 32px;\n",
              "  }\n",
              "\n",
              "  .colab-df-quickchart:hover {\n",
              "    background-color: #E2EBFA;\n",
              "    box-shadow: 0px 1px 2px rgba(60, 64, 67, 0.3), 0px 1px 3px 1px rgba(60, 64, 67, 0.15);\n",
              "    fill: #174EA6;\n",
              "  }\n",
              "\n",
              "  [theme=dark] .colab-df-quickchart {\n",
              "    background-color: #3B4455;\n",
              "    fill: #D2E3FC;\n",
              "  }\n",
              "\n",
              "  [theme=dark] .colab-df-quickchart:hover {\n",
              "    background-color: #434B5C;\n",
              "    box-shadow: 0px 1px 3px 1px rgba(0, 0, 0, 0.15);\n",
              "    filter: drop-shadow(0px 1px 2px rgba(0, 0, 0, 0.3));\n",
              "    fill: #FFFFFF;\n",
              "  }\n",
              "</style>\n",
              "\n",
              "  <script>\n",
              "    async function quickchart(key) {\n",
              "      const charts = await google.colab.kernel.invokeFunction(\n",
              "          'suggestCharts', [key], {});\n",
              "    }\n",
              "    (() => {\n",
              "      let quickchartButtonEl =\n",
              "        document.querySelector('#df-72267bce-8a1e-4605-a1f1-7620bbfe76de button');\n",
              "      quickchartButtonEl.style.display =\n",
              "        google.colab.kernel.accessAllowed ? 'block' : 'none';\n",
              "    })();\n",
              "  </script>\n",
              "</div>\n",
              "    </div>\n",
              "  </div>\n"
            ]
          },
          "metadata": {},
          "execution_count": 114
        }
      ]
    },
    {
      "cell_type": "code",
      "source": [
        "# Recommendations with series information\n",
        "print(\"\\033[1m{}\\033[0m\".format(\"Recommendation (Series Information) based on the read: The Lock and Key Library\"))\n",
        "display(recommend_books_similar_to(\"the lock and key library\", 5))"
      ],
      "metadata": {
        "colab": {
          "base_uri": "https://localhost:8080/",
          "height": 121
        },
        "id": "d1ACJWWlS82d",
        "outputId": "830dbd93-94a0-49ad-c961-a59cafc79a3f"
      },
      "execution_count": 115,
      "outputs": [
        {
          "output_type": "stream",
          "name": "stdout",
          "text": [
            "\u001b[1mRecommendation (Series Information) based on the read: The Lock and Key Library\u001b[0m\n"
          ]
        },
        {
          "output_type": "display_data",
          "data": {
            "text/plain": [
              "['queste (septimus heap, #4)',\n",
              " 'insider dealing and money laundering in the eu: law and regulation',\n",
              " 'the procession',\n",
              " 'dark metro, vol. 1',\n",
              " 'd.a.: prosecutors in their own words']"
            ]
          },
          "metadata": {}
        }
      ]
    },
    {
      "cell_type": "code",
      "source": [
        "# Recommendations with series information numbered\n",
        "print(\"\\n\\033[1m{}\\033[0m\".format(\"Recommendation (Numbered Series) based on the read: The Songs of High North\"))\n",
        "display(recommend_books_similar_to(\"songs of the high north\", 5))"
      ],
      "metadata": {
        "colab": {
          "base_uri": "https://localhost:8080/",
          "height": 138
        },
        "id": "LHagSkNic6XH",
        "outputId": "82aa3f17-4a8d-4a85-fc5c-d3a651b5bf17"
      },
      "execution_count": 116,
      "outputs": [
        {
          "output_type": "stream",
          "name": "stdout",
          "text": [
            "\n",
            "\u001b[1mRecommendation (Numbered Series) based on the read: The Songs of High North\u001b[0m\n"
          ]
        },
        {
          "output_type": "display_data",
          "data": {
            "text/plain": [
              "[\"in 5 minits you'll know me: selected poems, 1985-95\",\n",
              " 'next: new poems',\n",
              " 'the despairs',\n",
              " 'later on: the monaghan bombing memorial anthology',\n",
              " 'redshift']"
            ]
          },
          "metadata": {}
        }
      ]
    },
    {
      "cell_type": "code",
      "source": [
        "print(\"\\n\\033[1m{}\\033[0m\".format(\"Recommendation (Theme: Chins) based on the read: The Practice of Programming (Addison-Wesley Professional Computing Series)\"))\n",
        "display(recommend_books_similar_to('\toil for the lamps of china', 5))"
      ],
      "metadata": {
        "colab": {
          "base_uri": "https://localhost:8080/",
          "height": 227
        },
        "id": "DPaqmSCQc-5L",
        "outputId": "eae36332-cc8c-49b0-f40c-1680a6bc3371"
      },
      "execution_count": 1,
      "outputs": [
        {
          "output_type": "stream",
          "name": "stdout",
          "text": [
            "\n",
            "\u001b[1mRecommendation (Theme: Chins) based on the read: The Practice of Programming (Addison-Wesley Professional Computing Series)\u001b[0m\n"
          ]
        },
        {
          "output_type": "error",
          "ename": "NameError",
          "evalue": "ignored",
          "traceback": [
            "\u001b[0;31m---------------------------------------------------------------------------\u001b[0m",
            "\u001b[0;31mNameError\u001b[0m                                 Traceback (most recent call last)",
            "\u001b[0;32m<ipython-input-1-51d73ab317bb>\u001b[0m in \u001b[0;36m<cell line: 2>\u001b[0;34m()\u001b[0m\n\u001b[1;32m      1\u001b[0m \u001b[0mprint\u001b[0m\u001b[0;34m(\u001b[0m\u001b[0;34m\"\\n\\033[1m{}\\033[0m\"\u001b[0m\u001b[0;34m.\u001b[0m\u001b[0mformat\u001b[0m\u001b[0;34m(\u001b[0m\u001b[0;34m\"Recommendation (Theme: Chins) based on the read: The Practice of Programming (Addison-Wesley Professional Computing Series)\"\u001b[0m\u001b[0;34m)\u001b[0m\u001b[0;34m)\u001b[0m\u001b[0;34m\u001b[0m\u001b[0;34m\u001b[0m\u001b[0m\n\u001b[0;32m----> 2\u001b[0;31m \u001b[0mdisplay\u001b[0m\u001b[0;34m(\u001b[0m\u001b[0mrecommend_books_similar_to\u001b[0m\u001b[0;34m(\u001b[0m\u001b[0;34m'    oil for the lamps of china'\u001b[0m\u001b[0;34m,\u001b[0m \u001b[0;36m5\u001b[0m\u001b[0;34m)\u001b[0m\u001b[0;34m)\u001b[0m\u001b[0;34m\u001b[0m\u001b[0;34m\u001b[0m\u001b[0m\n\u001b[0m",
            "\u001b[0;31mNameError\u001b[0m: name 'recommend_books_similar_to' is not defined"
          ]
        }
      ]
    },
    {
      "cell_type": "code",
      "source": [],
      "metadata": {
        "id": "RJaaY8rnhI0D"
      },
      "execution_count": null,
      "outputs": []
    }
  ]
}